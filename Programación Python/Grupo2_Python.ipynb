{
 "cells": [
  {
   "cell_type": "markdown",
   "id": "7ba3a059",
   "metadata": {},
   "source": [
    "1. If statement"
   ]
  },
  {
   "cell_type": "code",
   "execution_count": 1,
   "id": "6865839f",
   "metadata": {},
   "outputs": [
    {
     "ename": "ModuleNotFoundError",
     "evalue": "No module named 'pandas'",
     "output_type": "error",
     "traceback": [
      "\u001b[1;31m---------------------------------------------------------------------------\u001b[0m",
      "\u001b[1;31mModuleNotFoundError\u001b[0m                       Traceback (most recent call last)",
      "Input \u001b[1;32mIn [1]\u001b[0m, in \u001b[0;36m<cell line: 1>\u001b[1;34m()\u001b[0m\n\u001b[1;32m----> 1\u001b[0m \u001b[38;5;28;01mimport\u001b[39;00m \u001b[38;5;21;01mpandas\u001b[39;00m\n\u001b[0;32m      2\u001b[0m data\u001b[38;5;241m=\u001b[39m pandas\u001b[38;5;241m.\u001b[39mread_csv (\u001b[38;5;124mr\u001b[39m\u001b[38;5;124m\"\u001b[39m\u001b[38;5;124mC:\u001b[39m\u001b[38;5;124m\\\u001b[39m\u001b[38;5;124mUsers\u001b[39m\u001b[38;5;124m\\\u001b[39m\u001b[38;5;124mUSER\u001b[39m\u001b[38;5;124m\\\u001b[39m\u001b[38;5;124mDocuments\u001b[39m\u001b[38;5;124m\\\u001b[39m\u001b[38;5;124mGitHub\u001b[39m\u001b[38;5;124m\\\u001b[39m\u001b[38;5;124m1ECO35_R_PYTHON\u001b[39m\u001b[38;5;124m\\\u001b[39m\u001b[38;5;124mdata\u001b[39m\u001b[38;5;124m\\\u001b[39m\u001b[38;5;124mnotas.csv\u001b[39m\u001b[38;5;124m\"\u001b[39m)\n",
      "\u001b[1;31mModuleNotFoundError\u001b[0m: No module named 'pandas'"
     ]
    }
   ],
   "source": [
    "import pandas\n",
    "data= pandas.read_csv (r\"C:\\Users\\USER\\Documents\\GitHub\\1ECO35_R_PYTHON\\data\\notas.csv\")\n"
   ]
  },
  {
   "cell_type": "code",
   "execution_count": null,
   "id": "1936f7fb",
   "metadata": {},
   "outputs": [],
   "source": [
    "data['Estado']=[\"Ingresó\"if n>11 else \"No ingresó\" for n in data['notas']]\n",
    "data"
   ]
  },
  {
   "cell_type": "code",
   "execution_count": null,
   "id": "dff076a8",
   "metadata": {},
   "outputs": [],
   "source": [
    "def Nombre(row):\n",
    "    if row[\"carrera\"] == \"a001\":\n",
    "        return \"Economía\"\n",
    "    elif row[\"carrera\"] == \"a002\":\n",
    "        return \"Química\"\n",
    "    elif row[\"carrera\"] == \"a003\": \n",
    "        return \"Filosofía\"\n",
    "    else: \n",
    "        return \"Otros\"\n",
    "\n",
    "data = data.assign(N_Carrera=data.apply(Nombre,axis=1))\n",
    "data"
   ]
  },
  {
   "cell_type": "code",
   "execution_count": null,
   "id": "1de9c7d1",
   "metadata": {},
   "outputs": [],
   "source": [
    "i = 0\n",
    "\n",
    "nrows = data.carrera.count()\n",
    "while i < nrows:\n",
    "  \n",
    "    if data['N_Carrera'][i] == \"Química\" and data['Estado'][i] == \"Ingresó\": \n",
    "        print(data['alumnos'][i])\n",
    "        i = i +1 "
   ]
  },
  {
   "cell_type": "markdown",
   "id": "810f7b36",
   "metadata": {},
   "source": [
    "Pregunta 2\n",
    "\n",
    "Simule un proceso generador de datos con 10 mil observaciones como se explicó en la primera práctica dirigida. Use un loop para obtener los coeficientes estimados con los siguientes tamaños de muestra (10, 50, 100,200,500,1000,5000)."
   ]
  },
  {
   "cell_type": "code",
   "execution_count": null,
   "id": "2b2e2879",
   "metadata": {},
   "outputs": [],
   "source": [
    "import numpy as np"
   ]
  },
  {
   "cell_type": "code",
   "execution_count": null,
   "id": "1574ab9a",
   "metadata": {},
   "outputs": [],
   "source": [
    "import random \n",
    "random.seed(32154)\n",
    "muestra= [10,50,100,200,500,1000,5000]\n",
    "len (muestra)"
   ]
  },
  {
   "cell_type": "code",
   "execution_count": null,
   "id": "9528a494",
   "metadata": {},
   "outputs": [],
   "source": [
    "result = []\n",
    "for i in range(0,7):\n",
    "    x1 = np.random.rand(muestra[i]) # uniform distribution  [0,1]\n",
    "    x2 = np.random.rand(muestra[i]) # uniform distribution [0,1]\n",
    "    x3 = np.random.rand(muestra[i]) # uniform distribution [0,1]\n",
    "    x4 = np.random.rand(muestra[i]) # uniform distribution [0,1]\n",
    "    e = np.random.normal(0,1,(muestra[i])) # normal distribution mean = 0 and sd = 1\n",
    "# Poblacional regression (Data Generating Process GDP)\n",
    "    Y = 1 + 0.8*x1 + 1.2*x2 + 0.5*x3 + 1.5*x4 + e\n",
    "    X = np.column_stack((np.ones(muestra[i]), x1,x2,x3,x4))\n",
    "    beta = np.linalg.inv(X.T @ X) @ ((X.T) @ Y )\n",
    "    result.append(beta)\n",
    "    print(beta)"
   ]
  },
  {
   "cell_type": "markdown",
   "id": "81646f03",
   "metadata": {},
   "source": [
    "...Guardar los coeficientes estimados en un Dataframe. Nombre las columnas del dataframe con los coeficientes estimados (i.e b1, b2, b3 ...) ; y las filas, con el tamaño de muestra (n=10 , n= 50, n= 100, n=200, n=500, n=1000, n= 5000 )."
   ]
  },
  {
   "cell_type": "code",
   "execution_count": null,
   "id": "ac4bef20",
   "metadata": {
    "scrolled": true
   },
   "outputs": [],
   "source": [
    "h = np.vstack(result)\n",
    "h"
   ]
  },
  {
   "cell_type": "code",
   "execution_count": null,
   "id": "20f3258f",
   "metadata": {},
   "outputs": [],
   "source": [
    "row_indices= muestra\n",
    "row_indices"
   ]
  },
  {
   "cell_type": "code",
   "execution_count": null,
   "id": "17b253d6",
   "metadata": {
    "scrolled": true
   },
   "outputs": [],
   "source": [
    "import pandas as pd\n",
    "data_df2 = pd.DataFrame(h, index= row_indices, columns=['b1','b2','b3','b4','b5'])\n",
    "data_df2"
   ]
  },
  {
   "cell_type": "markdown",
   "id": "5c7837ec",
   "metadata": {},
   "source": [
    "Use la base de datos production_fish.csv para obtener el porcentaje de consumo de ciertos tipos de producción marina respecto al consumo de anchoveta. Crear esta información solo para los siguiente tipos producción marina: Atun, Jurel, Langostino, Tollo."
   ]
  },
  {
   "cell_type": "code",
   "execution_count": null,
   "id": "9b0194ac",
   "metadata": {
    "scrolled": true
   },
   "outputs": [],
   "source": [
    "import pandas as pd\n",
    "\n",
    "datos_productionfish = pd.read_csv (r\"..\\..\\data\\production_fish.csv\")\n",
    "datos_productionfish"
   ]
  },
  {
   "cell_type": "code",
   "execution_count": null,
   "id": "f66007cf",
   "metadata": {
    "scrolled": false
   },
   "outputs": [],
   "source": [
    "datos_productionfish['Atun_%']   = (datos_productionfish['Atun']   / datos_productionfish['Anchoveta']) * 100\n",
    "datos_productionfish['Jurel_%'] = (datos_productionfish['Jurel'] / datos_productionfish['Anchoveta']) * 100\n",
    "datos_productionfish['Langostino_%'] = (datos_productionfish['Langostino'] / datos_productionfish['Anchoveta']) * 100\n",
    "datos_productionfish['Tollo_%']  = (datos_productionfish['Tollo']  /datos_productionfish['Anchoveta']) * 100\n",
    "datos_productionfish.round(2)\n",
    "\n",
    "datos_productionfish"
   ]
  },
  {
   "cell_type": "markdown",
   "id": "d44dc12e",
   "metadata": {},
   "source": [
    "Ejercicio solo en Python: Usar la base de datos places result para crear un DataFrame con la siguiente información: nombre de la institución pública, dirección (formatted_address), situación de actividad (business_status) y las coordenadas correspondientes a northeast y southwest."
   ]
  },
  {
   "cell_type": "code",
   "execution_count": null,
   "id": "106a643b",
   "metadata": {},
   "outputs": [],
   "source": [
    "from tqdm import tqdm   #measure time\n",
    "import pickle  \n",
    "import pandas as pd #para trabajar con data frame"
   ]
  },
  {
   "cell_type": "code",
   "execution_count": null,
   "id": "bc15d790",
   "metadata": {},
   "outputs": [],
   "source": [
    "dictionary_places = open(\"..\\..\\data\\places_result\", \"rb\")\n",
    "places_result = pickle.load( dictionary_places )"
   ]
  },
  {
   "cell_type": "code",
   "execution_count": null,
   "id": "34d49dec",
   "metadata": {},
   "outputs": [],
   "source": [
    "places_result.keys()"
   ]
  },
  {
   "cell_type": "code",
   "execution_count": null,
   "id": "8f46db94",
   "metadata": {
    "scrolled": false
   },
   "outputs": [],
   "source": [
    "places_result['results']"
   ]
  },
  {
   "cell_type": "code",
   "execution_count": null,
   "id": "37281bcb",
   "metadata": {},
   "outputs": [],
   "source": [
    "resultados = places_result[ 'results' ]"
   ]
  },
  {
   "cell_type": "code",
   "execution_count": null,
   "id": "187c1417",
   "metadata": {},
   "outputs": [],
   "source": [
    "# para extraer las listas que queremos\n",
    "\n",
    "instituciones = []\n",
    "direccion = []\n",
    "actividad = []\n",
    "northeast = []\n",
    "southwest = []\n",
    "\n",
    "# loop para guardar cada uno de los elementos\n",
    "for row in tqdm( range( 0 , len( resultados ) ) ):\n",
    "    \n",
    "    # direccion\n",
    "    dire = resultados[ row ]['formatted_address']\n",
    "    \n",
    "    # estado de la actividad\n",
    "    act = resultados[ row ]['business_status']\n",
    "    \n",
    "    # nombre de la institution\n",
    "    institution = resultados[ row ]['name']\n",
    "    \n",
    "    # southwest\n",
    "    south= resultados[ row ]['geometry']['viewport']['southwest']\n",
    "    \n",
    "    # northwest\n",
    "    north = resultados[ row ]['geometry']['viewport']['northeast']\n",
    "    \n",
    "     # Save results\n",
    "    instituciones.append( institution )\n",
    "    direccion.append( dire )\n",
    "    actividad.append( act )\n",
    "    northeast.append( north )\n",
    "    southwest.append( south )"
   ]
  },
  {
   "cell_type": "code",
   "execution_count": null,
   "id": "39338b71",
   "metadata": {
    "scrolled": true
   },
   "outputs": [],
   "source": [
    "# Diccionario\n",
    "resultado_final = { 'Institucion': instituciones, 'Estado' : actividad,'Direccion' : direccion, 'Direccion_norte' : northeast, 'Direccion_sur' : southwest }\n",
    "# Dataframe\n",
    "dataframe = pd.DataFrame( resultado_final )\n",
    "dataframe"
   ]
  },
  {
   "cell_type": "markdown",
   "id": "8a76c153",
   "metadata": {},
   "source": [
    "Pregunta 3\n",
    "\n",
    "Crear una matrix aleatoria de orden 100x10. Crear un función que permita estandariza cada columna; es decir, cada observación de una columna debe restarse por su media y dividirse por la desviación estándar de la columna. Llame a esta función como standarize"
   ]
  },
  {
   "cell_type": "code",
   "execution_count": null,
   "id": "bf4aae9b",
   "metadata": {
    "scrolled": true
   },
   "outputs": [],
   "source": [
    "# import module\n",
    "import numpy as np\n",
    "array = np.arange(1000) - 8\n",
    "matrix = array.reshape(100, 10)  \n",
    "print(\"Matriz 100*10 \\n\", matrix)"
   ]
  },
  {
   "cell_type": "code",
   "execution_count": null,
   "id": "47d3d2f1",
   "metadata": {},
   "outputs": [],
   "source": [
    "def standarize(matrix):\n",
    "    norm = np.linalg.norm(matrix, 1)\n",
    "    # normalized matrix\n",
    "    matrix = matrix/norm  \n",
    "    return matrix"
   ]
  },
  {
   "cell_type": "code",
   "execution_count": null,
   "id": "3e2b6f70",
   "metadata": {},
   "outputs": [],
   "source": [
    "standarize_matrix = standarize(matrix)"
   ]
  },
  {
   "cell_type": "code",
   "execution_count": null,
   "id": "804a70ba",
   "metadata": {},
   "outputs": [],
   "source": [
    "print(\"\\nMatriz estandarizada \\n\", standarize_matrix)"
   ]
  }
 ],
 "metadata": {
  "kernelspec": {
   "display_name": "Python 3 (ipykernel)",
   "language": "python",
   "name": "python3"
  },
  "language_info": {
   "codemirror_mode": {
    "name": "ipython",
    "version": 3
   },
   "file_extension": ".py",
   "mimetype": "text/x-python",
   "name": "python",
   "nbconvert_exporter": "python",
   "pygments_lexer": "ipython3",
   "version": "3.9.12"
  }
 },
 "nbformat": 4,
 "nbformat_minor": 5
}
