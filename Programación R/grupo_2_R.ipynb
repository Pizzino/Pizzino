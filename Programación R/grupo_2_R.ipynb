{
 "cells": [
  {
   "cell_type": "markdown",
   "id": "e2da3344",
   "metadata": {},
   "source": [
    "1. Use f-string para concaternar textos o valores numéricos. De 2 ejemplos."
   ]
  },
  {
   "cell_type": "code",
   "execution_count": 19,
   "id": "dbd3b103",
   "metadata": {},
   "outputs": [
    {
     "name": "stdout",
     "output_type": "stream",
     "text": [
      "[1] \"Hi\"\n"
     ]
    }
   ],
   "source": [
    "a1<-'Hi'\n",
    "print(a1)"
   ]
  },
  {
   "cell_type": "code",
   "execution_count": 20,
   "id": "a8ca69e5",
   "metadata": {},
   "outputs": [
    {
     "name": "stdout",
     "output_type": "stream",
     "text": [
      "[1] \"How r u?\"\n"
     ]
    }
   ],
   "source": [
    "a2<-'How r u?'\n",
    "print(a2)"
   ]
  },
  {
   "cell_type": "code",
   "execution_count": 21,
   "id": "a1f3827e",
   "metadata": {},
   "outputs": [],
   "source": [
    "a3<-'Welcome to'"
   ]
  },
  {
   "cell_type": "code",
   "execution_count": 22,
   "id": "0333fd14",
   "metadata": {},
   "outputs": [
    {
     "name": "stdout",
     "output_type": "stream",
     "text": [
      "Hi, How r u?\n",
      "Welcome to my first homework\n"
     ]
    },
    {
     "data": {
      "text/html": [
       "'Hi, How r u?'"
      ],
      "text/latex": [
       "'Hi, How r u?'"
      ],
      "text/markdown": [
       "'Hi, How r u?'"
      ],
      "text/plain": [
       "[1] \"Hi, How r u?\""
      ]
     },
     "metadata": {},
     "output_type": "display_data"
    },
    {
     "data": {
      "text/html": [
       "'Welcome to, my first homework'"
      ],
      "text/latex": [
       "'Welcome to, my first homework'"
      ],
      "text/markdown": [
       "'Welcome to, my first homework'"
      ],
      "text/plain": [
       "[1] \"Welcome to, my first homework\""
      ]
     },
     "metadata": {},
     "output_type": "display_data"
    }
   ],
   "source": [
    "#install.packages(\"devtools\")\n",
    "library(glue)\n",
    "z<- glue('{a1}, {a2}','\\n')\n",
    "x<-glue('{a3} my first homework')\n",
    "print(z)\n",
    "print(x)\n",
    "\n",
    "sprintf('%s, %s', a1, a2,'\\n')\n",
    "sprintf('%s, %s', a3, 'my first homework')"
   ]
  },
  {
   "cell_type": "markdown",
   "id": "751d9e33",
   "metadata": {},
   "source": [
    "2. Crear una Lista de 3 distritos de Lima, añadir 2 distritos del Callao. Extraer el primer y último elemento usando el Indexing"
   ]
  },
  {
   "cell_type": "code",
   "execution_count": 23,
   "id": "60b255ba",
   "metadata": {},
   "outputs": [
    {
     "data": {
      "text/html": [
       "<ol>\n",
       "\t<li>'SAN JUAN DE LURIGANCHO'</li>\n",
       "\t<li>'PUEBLO LIBRE'</li>\n",
       "\t<li>'COMAS'</li>\n",
       "\t<li>'BELLAVISTA'</li>\n",
       "\t<li>'CALLAO'</li>\n",
       "</ol>\n"
      ],
      "text/latex": [
       "\\begin{enumerate}\n",
       "\\item 'SAN JUAN DE LURIGANCHO'\n",
       "\\item 'PUEBLO LIBRE'\n",
       "\\item 'COMAS'\n",
       "\\item 'BELLAVISTA'\n",
       "\\item 'CALLAO'\n",
       "\\end{enumerate}\n"
      ],
      "text/markdown": [
       "1. 'SAN JUAN DE LURIGANCHO'\n",
       "2. 'PUEBLO LIBRE'\n",
       "3. 'COMAS'\n",
       "4. 'BELLAVISTA'\n",
       "5. 'CALLAO'\n",
       "\n",
       "\n"
      ],
      "text/plain": [
       "[[1]]\n",
       "[1] \"SAN JUAN DE LURIGANCHO\"\n",
       "\n",
       "[[2]]\n",
       "[1] \"PUEBLO LIBRE\"\n",
       "\n",
       "[[3]]\n",
       "[1] \"COMAS\"\n",
       "\n",
       "[[4]]\n",
       "[1] \"BELLAVISTA\"\n",
       "\n",
       "[[5]]\n",
       "[1] \"CALLAO\"\n"
      ]
     },
     "metadata": {},
     "output_type": "display_data"
    }
   ],
   "source": [
    "distrito <-list('SAN JUAN DE LURIGANCHO', 'PUEBLO LIBRE', 'COMAS', 'BELLAVISTA','CALLAO')\n",
    "distrito"
   ]
  },
  {
   "cell_type": "code",
   "execution_count": 24,
   "id": "4378698e",
   "metadata": {},
   "outputs": [
    {
     "name": "stdout",
     "output_type": "stream",
     "text": [
      "[[1]]\n",
      "[1] \"SAN JUAN DE LURIGANCHO\"\n",
      "\n",
      "[[1]]\n",
      "[1] \"CALLAO\"\n",
      "\n"
     ]
    }
   ],
   "source": [
    "Primero<-distrito[1]\n",
    "Ultimo<-distrito[5]\n",
    "print(Primero)\n",
    "print(Ultimo)"
   ]
  },
  {
   "cell_type": "markdown",
   "id": "dfc2798a",
   "metadata": {},
   "source": [
    "3. Crear un diccionario con los 5 distritos del ejercicio a. Incluir información de población proyectada e incidencia de pobreza (limite superior).Use la información del Mapa de Pobreza 2018"
   ]
  },
  {
   "cell_type": "code",
   "execution_count": 25,
   "id": "962b795f",
   "metadata": {
    "scrolled": true
   },
   "outputs": [
    {
     "data": {
      "text/html": [
       "<dl>\n",
       "\t<dt>$SAN_JUAN_DE_LURIGANCHO</dt>\n",
       "\t\t<dd><dl>\n",
       "\t<dt>$UBIGEO</dt>\n",
       "\t\t<dd>150132</dd>\n",
       "\t<dt>$Poverty_Rate</dt>\n",
       "\t\t<dd>'20,0%'</dd>\n",
       "\t<dt>$Population</dt>\n",
       "\t\t<dd>'1 177 629'</dd>\n",
       "</dl>\n",
       "</dd>\n",
       "\t<dt>$PUEBLO_LIBRE</dt>\n",
       "\t\t<dd><dl>\n",
       "\t<dt>$UBIGEO</dt>\n",
       "\t\t<dd>150121</dd>\n",
       "\t<dt>$Poverty_Rate</dt>\n",
       "\t\t<dd>' 1,2%'</dd>\n",
       "\t<dt>$Population</dt>\n",
       "\t\t<dd>'94 010'</dd>\n",
       "</dl>\n",
       "</dd>\n",
       "\t<dt>$COMAS</dt>\n",
       "\t\t<dd><dl>\n",
       "\t<dt>$UBIGEO</dt>\n",
       "\t\t<dd>150110</dd>\n",
       "\t<dt>$Poverty_Rate</dt>\n",
       "\t\t<dd>'19,2%'</dd>\n",
       "\t<dt>$Population</dt>\n",
       "\t\t<dd>'573 884'</dd>\n",
       "</dl>\n",
       "</dd>\n",
       "\t<dt>$BELLAVISTA</dt>\n",
       "\t\t<dd><dl>\n",
       "\t<dt>$UBIGEO</dt>\n",
       "\t\t<dd>200602</dd>\n",
       "\t<dt>$Poverty_Rate</dt>\n",
       "\t\t<dd>' 26,4%'</dd>\n",
       "\t<dt>$Population</dt>\n",
       "\t\t<dd>'38 905'</dd>\n",
       "</dl>\n",
       "</dd>\n",
       "\t<dt>$CALLAO</dt>\n",
       "\t\t<dd><dl>\n",
       "\t<dt>$UBIGEO</dt>\n",
       "\t\t<dd>70101</dd>\n",
       "\t<dt>$Poverty_Rate</dt>\n",
       "\t\t<dd>'16,6%'</dd>\n",
       "\t<dt>$Population</dt>\n",
       "\t\t<dd>' 512 386'</dd>\n",
       "</dl>\n",
       "</dd>\n",
       "</dl>\n"
      ],
      "text/latex": [
       "\\begin{description}\n",
       "\\item[\\$SAN\\_JUAN\\_DE\\_LURIGANCHO] \\begin{description}\n",
       "\\item[\\$UBIGEO] 150132\n",
       "\\item[\\$Poverty\\_Rate] '20,0\\%'\n",
       "\\item[\\$Population] '1 177 629'\n",
       "\\end{description}\n",
       "\n",
       "\\item[\\$PUEBLO\\_LIBRE] \\begin{description}\n",
       "\\item[\\$UBIGEO] 150121\n",
       "\\item[\\$Poverty\\_Rate] ' 1,2\\%'\n",
       "\\item[\\$Population] '94 010'\n",
       "\\end{description}\n",
       "\n",
       "\\item[\\$COMAS] \\begin{description}\n",
       "\\item[\\$UBIGEO] 150110\n",
       "\\item[\\$Poverty\\_Rate] '19,2\\%'\n",
       "\\item[\\$Population] '573 884'\n",
       "\\end{description}\n",
       "\n",
       "\\item[\\$BELLAVISTA] \\begin{description}\n",
       "\\item[\\$UBIGEO] 200602\n",
       "\\item[\\$Poverty\\_Rate] ' 26,4\\%'\n",
       "\\item[\\$Population] '38 905'\n",
       "\\end{description}\n",
       "\n",
       "\\item[\\$CALLAO] \\begin{description}\n",
       "\\item[\\$UBIGEO] 70101\n",
       "\\item[\\$Poverty\\_Rate] '16,6\\%'\n",
       "\\item[\\$Population] ' 512 386'\n",
       "\\end{description}\n",
       "\n",
       "\\end{description}\n"
      ],
      "text/markdown": [
       "$SAN_JUAN_DE_LURIGANCHO\n",
       ":   $UBIGEO\n",
       ":   150132\n",
       "$Poverty_Rate\n",
       ":   '20,0%'\n",
       "$Population\n",
       ":   '1 177 629'\n",
       "\n",
       "\n",
       "\n",
       "$PUEBLO_LIBRE\n",
       ":   $UBIGEO\n",
       ":   150121\n",
       "$Poverty_Rate\n",
       ":   ' 1,2%'\n",
       "$Population\n",
       ":   '94 010'\n",
       "\n",
       "\n",
       "\n",
       "$COMAS\n",
       ":   $UBIGEO\n",
       ":   150110\n",
       "$Poverty_Rate\n",
       ":   '19,2%'\n",
       "$Population\n",
       ":   '573 884'\n",
       "\n",
       "\n",
       "\n",
       "$BELLAVISTA\n",
       ":   $UBIGEO\n",
       ":   200602\n",
       "$Poverty_Rate\n",
       ":   ' 26,4%'\n",
       "$Population\n",
       ":   '38 905'\n",
       "\n",
       "\n",
       "\n",
       "$CALLAO\n",
       ":   $UBIGEO\n",
       ":   70101\n",
       "$Poverty_Rate\n",
       ":   '16,6%'\n",
       "$Population\n",
       ":   ' 512 386'\n",
       "\n",
       "\n",
       "\n",
       "\n",
       "\n"
      ],
      "text/plain": [
       "$SAN_JUAN_DE_LURIGANCHO\n",
       "$SAN_JUAN_DE_LURIGANCHO$UBIGEO\n",
       "[1] 150132\n",
       "\n",
       "$SAN_JUAN_DE_LURIGANCHO$Poverty_Rate\n",
       "[1] \"20,0%\"\n",
       "\n",
       "$SAN_JUAN_DE_LURIGANCHO$Population\n",
       "[1] \"1 177 629\"\n",
       "\n",
       "\n",
       "$PUEBLO_LIBRE\n",
       "$PUEBLO_LIBRE$UBIGEO\n",
       "[1] 150121\n",
       "\n",
       "$PUEBLO_LIBRE$Poverty_Rate\n",
       "[1] \" 1,2%\"\n",
       "\n",
       "$PUEBLO_LIBRE$Population\n",
       "[1] \"94 010\"\n",
       "\n",
       "\n",
       "$COMAS\n",
       "$COMAS$UBIGEO\n",
       "[1] 150110\n",
       "\n",
       "$COMAS$Poverty_Rate\n",
       "[1] \"19,2%\"\n",
       "\n",
       "$COMAS$Population\n",
       "[1] \"573 884\"\n",
       "\n",
       "\n",
       "$BELLAVISTA\n",
       "$BELLAVISTA$UBIGEO\n",
       "[1] 200602\n",
       "\n",
       "$BELLAVISTA$Poverty_Rate\n",
       "[1] \" 26,4%\"\n",
       "\n",
       "$BELLAVISTA$Population\n",
       "[1] \"38 905\"\n",
       "\n",
       "\n",
       "$CALLAO\n",
       "$CALLAO$UBIGEO\n",
       "[1] 70101\n",
       "\n",
       "$CALLAO$Poverty_Rate\n",
       "[1] \"16,6%\"\n",
       "\n",
       "$CALLAO$Population\n",
       "[1] \" 512 386\"\n",
       "\n"
      ]
     },
     "metadata": {},
     "output_type": "display_data"
    }
   ],
   "source": [
    "Postal_code <-list(SAN_JUAN_DE_LURIGANCHO=list(UBIGEO=150132,Poverty_Rate=\"20,0%\",Population=\"1 177 629\"),PUEBLO_LIBRE=list(UBIGEO=150121,Poverty_Rate=\" 1,2%\",Population=\"94 010\"),COMAS=list(UBIGEO=150110,Poverty_Rate=\"19,2%\",Population=\"573 884\"),BELLAVISTA=list(UBIGEO=200602,Poverty_Rate=\" 26,4%\",Population=\"38 905\"),CALLAO=list(UBIGEO=70101,Poverty_Rate=\"16,6%\",Population=\" 512 386\"))\n",
    "Postal_code"
   ]
  },
  {
   "cell_type": "markdown",
   "id": "4420b7d3",
   "metadata": {},
   "source": [
    "4. Muestre la información de pobreza y de población de 3 distritos"
   ]
  },
  {
   "cell_type": "code",
   "execution_count": 27,
   "id": "8c85b31b",
   "metadata": {},
   "outputs": [
    {
     "data": {
      "text/html": [
       "'19,2%'"
      ],
      "text/latex": [
       "'19,2\\%'"
      ],
      "text/markdown": [
       "'19,2%'"
      ],
      "text/plain": [
       "[1] \"19,2%\""
      ]
     },
     "metadata": {},
     "output_type": "display_data"
    }
   ],
   "source": [
    "Postal_code$COMAS$Poverty_Rate"
   ]
  },
  {
   "cell_type": "code",
   "execution_count": 28,
   "id": "4fbdea98",
   "metadata": {
    "scrolled": true
   },
   "outputs": [
    {
     "data": {
      "text/html": [
       "'573 884'"
      ],
      "text/latex": [
       "'573 884'"
      ],
      "text/markdown": [
       "'573 884'"
      ],
      "text/plain": [
       "[1] \"573 884\""
      ]
     },
     "metadata": {},
     "output_type": "display_data"
    }
   ],
   "source": [
    "Postal_code$COMAS$Population"
   ]
  },
  {
   "cell_type": "code",
   "execution_count": 29,
   "id": "863d8531",
   "metadata": {},
   "outputs": [
    {
     "data": {
      "text/html": [
       "' 26,4%'"
      ],
      "text/latex": [
       "' 26,4\\%'"
      ],
      "text/markdown": [
       "' 26,4%'"
      ],
      "text/plain": [
       "[1] \" 26,4%\""
      ]
     },
     "metadata": {},
     "output_type": "display_data"
    }
   ],
   "source": [
    "Postal_code$BELLAVISTA$Poverty_Rate"
   ]
  },
  {
   "cell_type": "code",
   "execution_count": 30,
   "id": "74f567dc",
   "metadata": {},
   "outputs": [
    {
     "data": {
      "text/html": [
       "'38 905'"
      ],
      "text/latex": [
       "'38 905'"
      ],
      "text/markdown": [
       "'38 905'"
      ],
      "text/plain": [
       "[1] \"38 905\""
      ]
     },
     "metadata": {},
     "output_type": "display_data"
    }
   ],
   "source": [
    "Postal_code$BELLAVISTA$Population"
   ]
  },
  {
   "cell_type": "code",
   "execution_count": 31,
   "id": "805371f1",
   "metadata": {},
   "outputs": [
    {
     "data": {
      "text/html": [
       "' 1,2%'"
      ],
      "text/latex": [
       "' 1,2\\%'"
      ],
      "text/markdown": [
       "' 1,2%'"
      ],
      "text/plain": [
       "[1] \" 1,2%\""
      ]
     },
     "metadata": {},
     "output_type": "display_data"
    }
   ],
   "source": [
    "Postal_code$PUEBLO_LIBRE$Poverty_Rate "
   ]
  },
  {
   "cell_type": "code",
   "execution_count": 32,
   "id": "c095be2d",
   "metadata": {},
   "outputs": [
    {
     "data": {
      "text/html": [
       "'94 010'"
      ],
      "text/latex": [
       "'94 010'"
      ],
      "text/markdown": [
       "'94 010'"
      ],
      "text/plain": [
       "[1] \"94 010\""
      ]
     },
     "metadata": {},
     "output_type": "display_data"
    }
   ],
   "source": [
    "Postal_code$PUEBLO_LIBRE$Population"
   ]
  },
  {
   "cell_type": "code",
   "execution_count": 33,
   "id": "60a4ffb5",
   "metadata": {},
   "outputs": [
    {
     "name": "stdout",
     "output_type": "stream",
     "text": [
      "COMAS \n",
      " Poverty Rate: 19,2% \n",
      " Population: 573 884"
     ]
    }
   ],
   "source": [
    "cat(\"COMAS\", \"\\n\", \"Poverty Rate:\", Postal_code$COMAS$Poverty_Rate, \"\\n\", \"Population:\", Postal_code$COMAS$Population )"
   ]
  },
  {
   "cell_type": "code",
   "execution_count": 34,
   "id": "9d40195f",
   "metadata": {},
   "outputs": [
    {
     "name": "stdout",
     "output_type": "stream",
     "text": [
      "BELLAVISTA \n",
      " Poverty Rate:  26,4% \n",
      " Population: 38 905"
     ]
    }
   ],
   "source": [
    "cat(\"BELLAVISTA\", \"\\n\", \"Poverty Rate:\", Postal_code$BELLAVISTA$Poverty_Rate, \"\\n\", \"Population:\", Postal_code$BELLAVISTA$Population )"
   ]
  },
  {
   "cell_type": "code",
   "execution_count": 35,
   "id": "0ca68766",
   "metadata": {},
   "outputs": [
    {
     "name": "stdout",
     "output_type": "stream",
     "text": [
      "PUEBLO_LIBRE \n",
      " Poverty Rate:  1,2% \n",
      " Population: 94 010"
     ]
    }
   ],
   "source": [
    "cat(\"PUEBLO_LIBRE\", \"\\n\", \"Poverty Rate:\", Postal_code$PUEBLO_LIBRE$Poverty_Rate, \"\\n\", \"Population:\", Postal_code$PUEBLO_LIBRE$Population )"
   ]
  },
  {
   "cell_type": "markdown",
   "id": "4312406d",
   "metadata": {},
   "source": [
    "5. Crear 2 matrices y dar 2 ejemplos de concatenacion"
   ]
  },
  {
   "cell_type": "code",
   "execution_count": 36,
   "id": "e6aa6a42",
   "metadata": {
    "scrolled": true
   },
   "outputs": [
    {
     "name": "stdout",
     "output_type": "stream",
     "text": [
      "     [,1] [,2] [,3] [,4]\n",
      "[1,]    0    0    0    0\n",
      "[2,]    0    0    0    0\n",
      "[3,]    0    0    0    0\n",
      "[4,]    0    0    0    0\n",
      "[5,]    0    0    0    0\n",
      "[6,]    0    0    0    0\n"
     ]
    }
   ],
   "source": [
    "M1 <- matrix(0,6,4)\n",
    "\n",
    "print(M1)"
   ]
  },
  {
   "cell_type": "code",
   "execution_count": 37,
   "id": "bf2f6049",
   "metadata": {},
   "outputs": [
    {
     "name": "stdout",
     "output_type": "stream",
     "text": [
      "     [,1] [,2] [,3] [,4]\n",
      "[1,]    1    1    1    1\n",
      "[2,]    1    1    1    1\n",
      "[3,]    1    1    1    1\n",
      "[4,]    1    1    1    1\n",
      "[5,]    1    1    1    1\n",
      "[6,]    1    1    1    1\n"
     ]
    }
   ],
   "source": [
    "M2 <- matrix(1,6, 4) \n",
    "print(M2)"
   ]
  },
  {
   "cell_type": "code",
   "execution_count": 38,
   "id": "d767f32c",
   "metadata": {
    "scrolled": true
   },
   "outputs": [
    {
     "data": {
      "text/html": [
       "<table>\n",
       "<tbody>\n",
       "\t<tr><td>0</td><td>0</td><td>0</td><td>0</td><td>1</td><td>1</td><td>1</td><td>1</td></tr>\n",
       "\t<tr><td>0</td><td>0</td><td>0</td><td>0</td><td>1</td><td>1</td><td>1</td><td>1</td></tr>\n",
       "\t<tr><td>0</td><td>0</td><td>0</td><td>0</td><td>1</td><td>1</td><td>1</td><td>1</td></tr>\n",
       "\t<tr><td>0</td><td>0</td><td>0</td><td>0</td><td>1</td><td>1</td><td>1</td><td>1</td></tr>\n",
       "\t<tr><td>0</td><td>0</td><td>0</td><td>0</td><td>1</td><td>1</td><td>1</td><td>1</td></tr>\n",
       "\t<tr><td>0</td><td>0</td><td>0</td><td>0</td><td>1</td><td>1</td><td>1</td><td>1</td></tr>\n",
       "</tbody>\n",
       "</table>\n"
      ],
      "text/latex": [
       "\\begin{tabular}{llllllll}\n",
       "\t 0 & 0 & 0 & 0 & 1 & 1 & 1 & 1\\\\\n",
       "\t 0 & 0 & 0 & 0 & 1 & 1 & 1 & 1\\\\\n",
       "\t 0 & 0 & 0 & 0 & 1 & 1 & 1 & 1\\\\\n",
       "\t 0 & 0 & 0 & 0 & 1 & 1 & 1 & 1\\\\\n",
       "\t 0 & 0 & 0 & 0 & 1 & 1 & 1 & 1\\\\\n",
       "\t 0 & 0 & 0 & 0 & 1 & 1 & 1 & 1\\\\\n",
       "\\end{tabular}\n"
      ],
      "text/markdown": [
       "\n",
       "| 0 | 0 | 0 | 0 | 1 | 1 | 1 | 1 |\n",
       "| 0 | 0 | 0 | 0 | 1 | 1 | 1 | 1 |\n",
       "| 0 | 0 | 0 | 0 | 1 | 1 | 1 | 1 |\n",
       "| 0 | 0 | 0 | 0 | 1 | 1 | 1 | 1 |\n",
       "| 0 | 0 | 0 | 0 | 1 | 1 | 1 | 1 |\n",
       "| 0 | 0 | 0 | 0 | 1 | 1 | 1 | 1 |\n",
       "\n"
      ],
      "text/plain": [
       "     [,1] [,2] [,3] [,4] [,5] [,6] [,7] [,8]\n",
       "[1,] 0    0    0    0    1    1    1    1   \n",
       "[2,] 0    0    0    0    1    1    1    1   \n",
       "[3,] 0    0    0    0    1    1    1    1   \n",
       "[4,] 0    0    0    0    1    1    1    1   \n",
       "[5,] 0    0    0    0    1    1    1    1   \n",
       "[6,] 0    0    0    0    1    1    1    1   "
      ]
     },
     "metadata": {},
     "output_type": "display_data"
    }
   ],
   "source": [
    "M3 <- cbind(M1,M2)\n",
    "M3"
   ]
  },
  {
   "cell_type": "code",
   "execution_count": 39,
   "id": "0c5d0967",
   "metadata": {},
   "outputs": [
    {
     "data": {
      "text/html": [
       "<table>\n",
       "<tbody>\n",
       "\t<tr><td>0</td><td>0</td><td>0</td><td>0</td></tr>\n",
       "\t<tr><td>0</td><td>0</td><td>0</td><td>0</td></tr>\n",
       "\t<tr><td>0</td><td>0</td><td>0</td><td>0</td></tr>\n",
       "\t<tr><td>0</td><td>0</td><td>0</td><td>0</td></tr>\n",
       "\t<tr><td>0</td><td>0</td><td>0</td><td>0</td></tr>\n",
       "\t<tr><td>0</td><td>0</td><td>0</td><td>0</td></tr>\n",
       "\t<tr><td>1</td><td>1</td><td>1</td><td>1</td></tr>\n",
       "\t<tr><td>1</td><td>1</td><td>1</td><td>1</td></tr>\n",
       "\t<tr><td>1</td><td>1</td><td>1</td><td>1</td></tr>\n",
       "\t<tr><td>1</td><td>1</td><td>1</td><td>1</td></tr>\n",
       "\t<tr><td>1</td><td>1</td><td>1</td><td>1</td></tr>\n",
       "\t<tr><td>1</td><td>1</td><td>1</td><td>1</td></tr>\n",
       "</tbody>\n",
       "</table>\n"
      ],
      "text/latex": [
       "\\begin{tabular}{llll}\n",
       "\t 0 & 0 & 0 & 0\\\\\n",
       "\t 0 & 0 & 0 & 0\\\\\n",
       "\t 0 & 0 & 0 & 0\\\\\n",
       "\t 0 & 0 & 0 & 0\\\\\n",
       "\t 0 & 0 & 0 & 0\\\\\n",
       "\t 0 & 0 & 0 & 0\\\\\n",
       "\t 1 & 1 & 1 & 1\\\\\n",
       "\t 1 & 1 & 1 & 1\\\\\n",
       "\t 1 & 1 & 1 & 1\\\\\n",
       "\t 1 & 1 & 1 & 1\\\\\n",
       "\t 1 & 1 & 1 & 1\\\\\n",
       "\t 1 & 1 & 1 & 1\\\\\n",
       "\\end{tabular}\n"
      ],
      "text/markdown": [
       "\n",
       "| 0 | 0 | 0 | 0 |\n",
       "| 0 | 0 | 0 | 0 |\n",
       "| 0 | 0 | 0 | 0 |\n",
       "| 0 | 0 | 0 | 0 |\n",
       "| 0 | 0 | 0 | 0 |\n",
       "| 0 | 0 | 0 | 0 |\n",
       "| 1 | 1 | 1 | 1 |\n",
       "| 1 | 1 | 1 | 1 |\n",
       "| 1 | 1 | 1 | 1 |\n",
       "| 1 | 1 | 1 | 1 |\n",
       "| 1 | 1 | 1 | 1 |\n",
       "| 1 | 1 | 1 | 1 |\n",
       "\n"
      ],
      "text/plain": [
       "      [,1] [,2] [,3] [,4]\n",
       " [1,] 0    0    0    0   \n",
       " [2,] 0    0    0    0   \n",
       " [3,] 0    0    0    0   \n",
       " [4,] 0    0    0    0   \n",
       " [5,] 0    0    0    0   \n",
       " [6,] 0    0    0    0   \n",
       " [7,] 1    1    1    1   \n",
       " [8,] 1    1    1    1   \n",
       " [9,] 1    1    1    1   \n",
       "[10,] 1    1    1    1   \n",
       "[11,] 1    1    1    1   \n",
       "[12,] 1    1    1    1   "
      ]
     },
     "metadata": {},
     "output_type": "display_data"
    }
   ],
   "source": [
    "M4 <- rbind(M1,M2)\n",
    "M4"
   ]
  },
  {
   "cell_type": "markdown",
   "id": "383428d6",
   "metadata": {},
   "source": [
    " 6. Crear una matriz de dimensión 4x8, seleccionar las ultimas dos columnas y primeras 3 filas."
   ]
  },
  {
   "cell_type": "code",
   "execution_count": 44,
   "id": "2f330cbf",
   "metadata": {
    "scrolled": true
   },
   "outputs": [
    {
     "data": {
      "text/html": [
       "<table>\n",
       "<tbody>\n",
       "\t<tr><td> 0</td><td> 1</td><td> 2</td><td> 3</td><td> 4</td><td> 5</td><td> 6</td><td> 7</td></tr>\n",
       "\t<tr><td> 8</td><td> 9</td><td>10</td><td>11</td><td>12</td><td>13</td><td>14</td><td>15</td></tr>\n",
       "\t<tr><td>16</td><td>17</td><td>18</td><td>19</td><td>20</td><td>21</td><td>22</td><td>23</td></tr>\n",
       "\t<tr><td>24</td><td>25</td><td>26</td><td>27</td><td>28</td><td>29</td><td>30</td><td>31</td></tr>\n",
       "</tbody>\n",
       "</table>\n"
      ],
      "text/latex": [
       "\\begin{tabular}{llllllll}\n",
       "\t  0 &  1 &  2 &  3 &  4 &  5 &  6 &  7\\\\\n",
       "\t  8 &  9 & 10 & 11 & 12 & 13 & 14 & 15\\\\\n",
       "\t 16 & 17 & 18 & 19 & 20 & 21 & 22 & 23\\\\\n",
       "\t 24 & 25 & 26 & 27 & 28 & 29 & 30 & 31\\\\\n",
       "\\end{tabular}\n"
      ],
      "text/markdown": [
       "\n",
       "|  0 |  1 |  2 |  3 |  4 |  5 |  6 |  7 |\n",
       "|  8 |  9 | 10 | 11 | 12 | 13 | 14 | 15 |\n",
       "| 16 | 17 | 18 | 19 | 20 | 21 | 22 | 23 |\n",
       "| 24 | 25 | 26 | 27 | 28 | 29 | 30 | 31 |\n",
       "\n"
      ],
      "text/plain": [
       "     [,1] [,2] [,3] [,4] [,5] [,6] [,7] [,8]\n",
       "[1,]  0    1    2    3    4    5    6    7  \n",
       "[2,]  8    9   10   11   12   13   14   15  \n",
       "[3,] 16   17   18   19   20   21   22   23  \n",
       "[4,] 24   25   26   27   28   29   30   31  "
      ]
     },
     "metadata": {},
     "output_type": "display_data"
    }
   ],
   "source": [
    "A <- matrix(c(seq(0, 7), seq( 8, 15), seq( 16, 23), seq( 24, 31)), nrow = 4, byrow =TRUE)\n",
    "A"
   ]
  },
  {
   "cell_type": "code",
   "execution_count": 45,
   "id": "4688fdb9",
   "metadata": {},
   "outputs": [
    {
     "data": {
      "text/html": [
       "<table>\n",
       "<tbody>\n",
       "\t<tr><td> 0</td><td> 1</td><td> 2</td><td> 3</td><td> 4</td><td> 5</td><td> 6</td><td> 7</td></tr>\n",
       "\t<tr><td> 8</td><td> 9</td><td>10</td><td>11</td><td>12</td><td>13</td><td>14</td><td>15</td></tr>\n",
       "\t<tr><td>16</td><td>17</td><td>18</td><td>19</td><td>20</td><td>21</td><td>22</td><td>23</td></tr>\n",
       "</tbody>\n",
       "</table>\n"
      ],
      "text/latex": [
       "\\begin{tabular}{llllllll}\n",
       "\t  0 &  1 &  2 &  3 &  4 &  5 &  6 &  7\\\\\n",
       "\t  8 &  9 & 10 & 11 & 12 & 13 & 14 & 15\\\\\n",
       "\t 16 & 17 & 18 & 19 & 20 & 21 & 22 & 23\\\\\n",
       "\\end{tabular}\n"
      ],
      "text/markdown": [
       "\n",
       "|  0 |  1 |  2 |  3 |  4 |  5 |  6 |  7 |\n",
       "|  8 |  9 | 10 | 11 | 12 | 13 | 14 | 15 |\n",
       "| 16 | 17 | 18 | 19 | 20 | 21 | 22 | 23 |\n",
       "\n"
      ],
      "text/plain": [
       "     [,1] [,2] [,3] [,4] [,5] [,6] [,7] [,8]\n",
       "[1,]  0    1    2    3    4    5    6    7  \n",
       "[2,]  8    9   10   11   12   13   14   15  \n",
       "[3,] 16   17   18   19   20   21   22   23  "
      ]
     },
     "metadata": {},
     "output_type": "display_data"
    }
   ],
   "source": [
    "A[1:3,] # rows selection"
   ]
  },
  {
   "cell_type": "code",
   "execution_count": 46,
   "id": "dc618f96",
   "metadata": {
    "scrolled": true
   },
   "outputs": [
    {
     "data": {
      "text/html": [
       "<table>\n",
       "<tbody>\n",
       "\t<tr><td> 6</td><td> 7</td></tr>\n",
       "\t<tr><td>14</td><td>15</td></tr>\n",
       "\t<tr><td>22</td><td>23</td></tr>\n",
       "\t<tr><td>30</td><td>31</td></tr>\n",
       "</tbody>\n",
       "</table>\n"
      ],
      "text/latex": [
       "\\begin{tabular}{ll}\n",
       "\t  6 &  7\\\\\n",
       "\t 14 & 15\\\\\n",
       "\t 22 & 23\\\\\n",
       "\t 30 & 31\\\\\n",
       "\\end{tabular}\n"
      ],
      "text/markdown": [
       "\n",
       "|  6 |  7 |\n",
       "| 14 | 15 |\n",
       "| 22 | 23 |\n",
       "| 30 | 31 |\n",
       "\n"
      ],
      "text/plain": [
       "     [,1] [,2]\n",
       "[1,]  6    7  \n",
       "[2,] 14   15  \n",
       "[3,] 22   23  \n",
       "[4,] 30   31  "
      ]
     },
     "metadata": {},
     "output_type": "display_data"
    }
   ],
   "source": [
    "A[,7:8]  # columns selection"
   ]
  },
  {
   "cell_type": "markdown",
   "id": "456d54ff",
   "metadata": {},
   "source": [
    "7. Obtener el estimador de la varianza del termino de perturbación"
   ]
  },
  {
   "cell_type": "code",
   "execution_count": 55,
   "id": "b1d8c2b4",
   "metadata": {},
   "outputs": [],
   "source": [
    "set.seed(756)\n",
    "\n",
    "#x1 = runif(500, min = 0, max = 1)\n",
    "x1 <- runif(500)\n",
    "x2 <- runif(500)\n",
    "x3 <- runif(500)\n",
    "x4 <- runif(500)\n",
    "#random.seed(123)\n",
    "e <- rnorm(500)\n",
    "\n",
    "# Poblacional regression (Data Generating Process GDP)\n",
    "\n",
    "Y <- 1 + 0.8*x1 + 1.2*x2 + 0.5*x3 + 1.5*x4 + e"
   ]
  },
  {
   "cell_type": "code",
   "execution_count": 56,
   "id": "904406ee",
   "metadata": {},
   "outputs": [
    {
     "data": {
      "text/html": [
       "<table>\n",
       "<thead><tr><th scope=col></th><th scope=col>x1</th><th scope=col>x2</th><th scope=col>x3</th><th scope=col>x4</th></tr></thead>\n",
       "<tbody>\n",
       "\t<tr><td>1         </td><td>0.18667121</td><td>0.14026657</td><td>0.94280410</td><td>0.10649518</td></tr>\n",
       "\t<tr><td>1         </td><td>0.94443903</td><td>0.13706934</td><td>0.52276689</td><td>0.52940151</td></tr>\n",
       "\t<tr><td>1         </td><td>0.92838826</td><td>0.71164475</td><td>0.64336073</td><td>0.71860641</td></tr>\n",
       "\t<tr><td>1         </td><td>0.95917710</td><td>0.18051582</td><td>0.69677409</td><td>0.25410129</td></tr>\n",
       "\t<tr><td>1         </td><td>0.52417646</td><td>0.08842863</td><td>0.19106442</td><td>0.40701648</td></tr>\n",
       "\t<tr><td>1         </td><td>0.76715036</td><td>0.21311299</td><td>0.76912339</td><td>0.23444981</td></tr>\n",
       "\t<tr><td>1         </td><td>0.11651188</td><td>0.23825413</td><td>0.93014166</td><td>0.99164182</td></tr>\n",
       "\t<tr><td>1         </td><td>0.22528155</td><td>0.07474239</td><td>0.94627987</td><td>0.67382932</td></tr>\n",
       "\t<tr><td>1         </td><td>0.50887578</td><td>0.59305166</td><td>0.19104230</td><td>0.68902774</td></tr>\n",
       "\t<tr><td>1         </td><td>0.48288501</td><td>0.43254095</td><td>0.65083054</td><td>0.12949274</td></tr>\n",
       "\t<tr><td>1         </td><td>0.99894565</td><td>0.69434619</td><td>0.01480160</td><td>0.42898919</td></tr>\n",
       "\t<tr><td>1         </td><td>0.05084642</td><td>0.91495662</td><td>0.33351877</td><td>0.63241673</td></tr>\n",
       "\t<tr><td>1         </td><td>0.06691185</td><td>0.19109222</td><td>0.08920029</td><td>0.76341623</td></tr>\n",
       "\t<tr><td>1         </td><td>0.11794333</td><td>0.35745388</td><td>0.81815994</td><td>0.66611022</td></tr>\n",
       "\t<tr><td>1         </td><td>0.68559683</td><td>0.27811306</td><td>0.66970300</td><td>0.05112475</td></tr>\n",
       "\t<tr><td>1         </td><td>0.71863128</td><td>0.46288762</td><td>0.80392381</td><td>0.89823474</td></tr>\n",
       "\t<tr><td>1         </td><td>0.06124421</td><td>0.84306605</td><td>0.37011961</td><td>0.92389927</td></tr>\n",
       "\t<tr><td>1         </td><td>0.62285430</td><td>0.31216241</td><td>0.98473847</td><td>0.79780304</td></tr>\n",
       "\t<tr><td>1         </td><td>0.55798855</td><td>0.75144188</td><td>0.52716798</td><td>0.65260034</td></tr>\n",
       "\t<tr><td>1         </td><td>0.90502225</td><td>0.22930374</td><td>0.39986640</td><td>0.91896482</td></tr>\n",
       "\t<tr><td>1         </td><td>0.92542007</td><td>0.65874796</td><td>0.69178055</td><td>0.09224323</td></tr>\n",
       "\t<tr><td>1         </td><td>0.08820010</td><td>0.14306197</td><td>0.03249294</td><td>0.14938501</td></tr>\n",
       "\t<tr><td>1         </td><td>0.31211653</td><td>0.56704057</td><td>0.32759226</td><td>0.80864499</td></tr>\n",
       "\t<tr><td>1         </td><td>0.20291122</td><td>0.42337361</td><td>0.09160377</td><td>0.86773079</td></tr>\n",
       "\t<tr><td>1         </td><td>0.71595446</td><td>0.59810639</td><td>0.30404230</td><td>0.34511233</td></tr>\n",
       "\t<tr><td>1         </td><td>0.90460165</td><td>0.45845377</td><td>0.65259555</td><td>0.88972366</td></tr>\n",
       "\t<tr><td>1         </td><td>0.46766476</td><td>0.52513082</td><td>0.71309737</td><td>0.16936588</td></tr>\n",
       "\t<tr><td>1         </td><td>0.64029220</td><td>0.56341941</td><td>0.47951154</td><td>0.72864526</td></tr>\n",
       "\t<tr><td>1         </td><td>0.96117897</td><td>0.44741020</td><td>0.60329951</td><td>0.69625929</td></tr>\n",
       "\t<tr><td>1         </td><td>0.06439775</td><td>0.81046488</td><td>0.52349975</td><td>0.54737779</td></tr>\n",
       "\t<tr><td>...</td><td>...</td><td>...</td><td>...</td><td>...</td></tr>\n",
       "\t<tr><td>1          </td><td>0.95949565 </td><td>0.675293292</td><td>0.8533642  </td><td>0.02793749 </td></tr>\n",
       "\t<tr><td>1          </td><td>0.97966608 </td><td>0.039872393</td><td>0.9416000  </td><td>0.72198486 </td></tr>\n",
       "\t<tr><td>1          </td><td>0.52690660 </td><td>0.977472335</td><td>0.6314807  </td><td>0.56772196 </td></tr>\n",
       "\t<tr><td>1          </td><td>0.04598748 </td><td>0.317146298</td><td>0.7144303  </td><td>0.44446465 </td></tr>\n",
       "\t<tr><td>1          </td><td>0.90023072 </td><td>0.205296297</td><td>0.6285209  </td><td>0.60478397 </td></tr>\n",
       "\t<tr><td>1          </td><td>0.32258687 </td><td>0.194069347</td><td>0.1173722  </td><td>0.98242966 </td></tr>\n",
       "\t<tr><td>1          </td><td>0.40783653 </td><td>0.555588038</td><td>0.5186564  </td><td>0.50368648 </td></tr>\n",
       "\t<tr><td>1          </td><td>0.99673296 </td><td>0.999136477</td><td>0.7249953  </td><td>0.92376843 </td></tr>\n",
       "\t<tr><td>1          </td><td>0.91272255 </td><td>0.241522007</td><td>0.7817168  </td><td>0.99709942 </td></tr>\n",
       "\t<tr><td>1          </td><td>0.29021141 </td><td>0.710598734</td><td>0.2612493  </td><td>0.48444181 </td></tr>\n",
       "\t<tr><td>1          </td><td>0.69542780 </td><td>0.276058567</td><td>0.9691086  </td><td>0.17449112 </td></tr>\n",
       "\t<tr><td>1          </td><td>0.04131045 </td><td>0.276989744</td><td>0.8094209  </td><td>0.15243695 </td></tr>\n",
       "\t<tr><td>1          </td><td>0.71684108 </td><td>0.512455887</td><td>0.8306769  </td><td>0.01123611 </td></tr>\n",
       "\t<tr><td>1          </td><td>0.76262139 </td><td>0.059084704</td><td>0.3211154  </td><td>0.45001308 </td></tr>\n",
       "\t<tr><td>1          </td><td>0.15972753 </td><td>0.833049576</td><td>0.2579192  </td><td>0.15601347 </td></tr>\n",
       "\t<tr><td>1          </td><td>0.92483975 </td><td>0.936467176</td><td>0.4144494  </td><td>0.94711103 </td></tr>\n",
       "\t<tr><td>1          </td><td>0.81208558 </td><td>0.555141241</td><td>0.3050448  </td><td>0.66984936 </td></tr>\n",
       "\t<tr><td>1          </td><td>0.77316963 </td><td>0.337681846</td><td>0.1429613  </td><td>0.95666772 </td></tr>\n",
       "\t<tr><td>1          </td><td>0.35355523 </td><td>0.450951844</td><td>0.3189683  </td><td>0.73501092 </td></tr>\n",
       "\t<tr><td>1          </td><td>0.12435475 </td><td>0.560914025</td><td>0.7513311  </td><td>0.43392086 </td></tr>\n",
       "\t<tr><td>1          </td><td>0.88780212 </td><td>0.681851396</td><td>0.3224342  </td><td>0.22024524 </td></tr>\n",
       "\t<tr><td>1          </td><td>0.85313819 </td><td>0.875375814</td><td>0.8255444  </td><td>0.34645350 </td></tr>\n",
       "\t<tr><td>1          </td><td>0.84449228 </td><td>0.617045320</td><td>0.8734211  </td><td>0.16636795 </td></tr>\n",
       "\t<tr><td>1          </td><td>0.34172408 </td><td>0.725208323</td><td>0.2835125  </td><td>0.16518848 </td></tr>\n",
       "\t<tr><td>1          </td><td>0.28166291 </td><td>0.007400454</td><td>0.3206765  </td><td>0.12923063 </td></tr>\n",
       "\t<tr><td>1          </td><td>0.12384033 </td><td>0.899060817</td><td>0.9858464  </td><td>0.85039734 </td></tr>\n",
       "\t<tr><td>1          </td><td>0.73414969 </td><td>0.561721307</td><td>0.3043357  </td><td>0.91251808 </td></tr>\n",
       "\t<tr><td>1          </td><td>0.77999513 </td><td>0.101500033</td><td>0.7807000  </td><td>0.07230745 </td></tr>\n",
       "\t<tr><td>1          </td><td>0.92141159 </td><td>0.072265238</td><td>0.8283349  </td><td>0.79017804 </td></tr>\n",
       "\t<tr><td>1          </td><td>0.06351236 </td><td>0.507830425</td><td>0.9885709  </td><td>0.24619645 </td></tr>\n",
       "</tbody>\n",
       "</table>\n"
      ],
      "text/latex": [
       "\\begin{tabular}{lllll}\n",
       "  & x1 & x2 & x3 & x4\\\\\n",
       "\\hline\n",
       "\t 1          & 0.18667121 & 0.14026657 & 0.94280410 & 0.10649518\\\\\n",
       "\t 1          & 0.94443903 & 0.13706934 & 0.52276689 & 0.52940151\\\\\n",
       "\t 1          & 0.92838826 & 0.71164475 & 0.64336073 & 0.71860641\\\\\n",
       "\t 1          & 0.95917710 & 0.18051582 & 0.69677409 & 0.25410129\\\\\n",
       "\t 1          & 0.52417646 & 0.08842863 & 0.19106442 & 0.40701648\\\\\n",
       "\t 1          & 0.76715036 & 0.21311299 & 0.76912339 & 0.23444981\\\\\n",
       "\t 1          & 0.11651188 & 0.23825413 & 0.93014166 & 0.99164182\\\\\n",
       "\t 1          & 0.22528155 & 0.07474239 & 0.94627987 & 0.67382932\\\\\n",
       "\t 1          & 0.50887578 & 0.59305166 & 0.19104230 & 0.68902774\\\\\n",
       "\t 1          & 0.48288501 & 0.43254095 & 0.65083054 & 0.12949274\\\\\n",
       "\t 1          & 0.99894565 & 0.69434619 & 0.01480160 & 0.42898919\\\\\n",
       "\t 1          & 0.05084642 & 0.91495662 & 0.33351877 & 0.63241673\\\\\n",
       "\t 1          & 0.06691185 & 0.19109222 & 0.08920029 & 0.76341623\\\\\n",
       "\t 1          & 0.11794333 & 0.35745388 & 0.81815994 & 0.66611022\\\\\n",
       "\t 1          & 0.68559683 & 0.27811306 & 0.66970300 & 0.05112475\\\\\n",
       "\t 1          & 0.71863128 & 0.46288762 & 0.80392381 & 0.89823474\\\\\n",
       "\t 1          & 0.06124421 & 0.84306605 & 0.37011961 & 0.92389927\\\\\n",
       "\t 1          & 0.62285430 & 0.31216241 & 0.98473847 & 0.79780304\\\\\n",
       "\t 1          & 0.55798855 & 0.75144188 & 0.52716798 & 0.65260034\\\\\n",
       "\t 1          & 0.90502225 & 0.22930374 & 0.39986640 & 0.91896482\\\\\n",
       "\t 1          & 0.92542007 & 0.65874796 & 0.69178055 & 0.09224323\\\\\n",
       "\t 1          & 0.08820010 & 0.14306197 & 0.03249294 & 0.14938501\\\\\n",
       "\t 1          & 0.31211653 & 0.56704057 & 0.32759226 & 0.80864499\\\\\n",
       "\t 1          & 0.20291122 & 0.42337361 & 0.09160377 & 0.86773079\\\\\n",
       "\t 1          & 0.71595446 & 0.59810639 & 0.30404230 & 0.34511233\\\\\n",
       "\t 1          & 0.90460165 & 0.45845377 & 0.65259555 & 0.88972366\\\\\n",
       "\t 1          & 0.46766476 & 0.52513082 & 0.71309737 & 0.16936588\\\\\n",
       "\t 1          & 0.64029220 & 0.56341941 & 0.47951154 & 0.72864526\\\\\n",
       "\t 1          & 0.96117897 & 0.44741020 & 0.60329951 & 0.69625929\\\\\n",
       "\t 1          & 0.06439775 & 0.81046488 & 0.52349975 & 0.54737779\\\\\n",
       "\t ... & ... & ... & ... & ...\\\\\n",
       "\t 1           & 0.95949565  & 0.675293292 & 0.8533642   & 0.02793749 \\\\\n",
       "\t 1           & 0.97966608  & 0.039872393 & 0.9416000   & 0.72198486 \\\\\n",
       "\t 1           & 0.52690660  & 0.977472335 & 0.6314807   & 0.56772196 \\\\\n",
       "\t 1           & 0.04598748  & 0.317146298 & 0.7144303   & 0.44446465 \\\\\n",
       "\t 1           & 0.90023072  & 0.205296297 & 0.6285209   & 0.60478397 \\\\\n",
       "\t 1           & 0.32258687  & 0.194069347 & 0.1173722   & 0.98242966 \\\\\n",
       "\t 1           & 0.40783653  & 0.555588038 & 0.5186564   & 0.50368648 \\\\\n",
       "\t 1           & 0.99673296  & 0.999136477 & 0.7249953   & 0.92376843 \\\\\n",
       "\t 1           & 0.91272255  & 0.241522007 & 0.7817168   & 0.99709942 \\\\\n",
       "\t 1           & 0.29021141  & 0.710598734 & 0.2612493   & 0.48444181 \\\\\n",
       "\t 1           & 0.69542780  & 0.276058567 & 0.9691086   & 0.17449112 \\\\\n",
       "\t 1           & 0.04131045  & 0.276989744 & 0.8094209   & 0.15243695 \\\\\n",
       "\t 1           & 0.71684108  & 0.512455887 & 0.8306769   & 0.01123611 \\\\\n",
       "\t 1           & 0.76262139  & 0.059084704 & 0.3211154   & 0.45001308 \\\\\n",
       "\t 1           & 0.15972753  & 0.833049576 & 0.2579192   & 0.15601347 \\\\\n",
       "\t 1           & 0.92483975  & 0.936467176 & 0.4144494   & 0.94711103 \\\\\n",
       "\t 1           & 0.81208558  & 0.555141241 & 0.3050448   & 0.66984936 \\\\\n",
       "\t 1           & 0.77316963  & 0.337681846 & 0.1429613   & 0.95666772 \\\\\n",
       "\t 1           & 0.35355523  & 0.450951844 & 0.3189683   & 0.73501092 \\\\\n",
       "\t 1           & 0.12435475  & 0.560914025 & 0.7513311   & 0.43392086 \\\\\n",
       "\t 1           & 0.88780212  & 0.681851396 & 0.3224342   & 0.22024524 \\\\\n",
       "\t 1           & 0.85313819  & 0.875375814 & 0.8255444   & 0.34645350 \\\\\n",
       "\t 1           & 0.84449228  & 0.617045320 & 0.8734211   & 0.16636795 \\\\\n",
       "\t 1           & 0.34172408  & 0.725208323 & 0.2835125   & 0.16518848 \\\\\n",
       "\t 1           & 0.28166291  & 0.007400454 & 0.3206765   & 0.12923063 \\\\\n",
       "\t 1           & 0.12384033  & 0.899060817 & 0.9858464   & 0.85039734 \\\\\n",
       "\t 1           & 0.73414969  & 0.561721307 & 0.3043357   & 0.91251808 \\\\\n",
       "\t 1           & 0.77999513  & 0.101500033 & 0.7807000   & 0.07230745 \\\\\n",
       "\t 1           & 0.92141159  & 0.072265238 & 0.8283349   & 0.79017804 \\\\\n",
       "\t 1           & 0.06351236  & 0.507830425 & 0.9885709   & 0.24619645 \\\\\n",
       "\\end{tabular}\n"
      ],
      "text/markdown": [
       "\n",
       "|  | x1 | x2 | x3 | x4 |\n",
       "|---|---|---|---|---|\n",
       "| 1          | 0.18667121 | 0.14026657 | 0.94280410 | 0.10649518 |\n",
       "| 1          | 0.94443903 | 0.13706934 | 0.52276689 | 0.52940151 |\n",
       "| 1          | 0.92838826 | 0.71164475 | 0.64336073 | 0.71860641 |\n",
       "| 1          | 0.95917710 | 0.18051582 | 0.69677409 | 0.25410129 |\n",
       "| 1          | 0.52417646 | 0.08842863 | 0.19106442 | 0.40701648 |\n",
       "| 1          | 0.76715036 | 0.21311299 | 0.76912339 | 0.23444981 |\n",
       "| 1          | 0.11651188 | 0.23825413 | 0.93014166 | 0.99164182 |\n",
       "| 1          | 0.22528155 | 0.07474239 | 0.94627987 | 0.67382932 |\n",
       "| 1          | 0.50887578 | 0.59305166 | 0.19104230 | 0.68902774 |\n",
       "| 1          | 0.48288501 | 0.43254095 | 0.65083054 | 0.12949274 |\n",
       "| 1          | 0.99894565 | 0.69434619 | 0.01480160 | 0.42898919 |\n",
       "| 1          | 0.05084642 | 0.91495662 | 0.33351877 | 0.63241673 |\n",
       "| 1          | 0.06691185 | 0.19109222 | 0.08920029 | 0.76341623 |\n",
       "| 1          | 0.11794333 | 0.35745388 | 0.81815994 | 0.66611022 |\n",
       "| 1          | 0.68559683 | 0.27811306 | 0.66970300 | 0.05112475 |\n",
       "| 1          | 0.71863128 | 0.46288762 | 0.80392381 | 0.89823474 |\n",
       "| 1          | 0.06124421 | 0.84306605 | 0.37011961 | 0.92389927 |\n",
       "| 1          | 0.62285430 | 0.31216241 | 0.98473847 | 0.79780304 |\n",
       "| 1          | 0.55798855 | 0.75144188 | 0.52716798 | 0.65260034 |\n",
       "| 1          | 0.90502225 | 0.22930374 | 0.39986640 | 0.91896482 |\n",
       "| 1          | 0.92542007 | 0.65874796 | 0.69178055 | 0.09224323 |\n",
       "| 1          | 0.08820010 | 0.14306197 | 0.03249294 | 0.14938501 |\n",
       "| 1          | 0.31211653 | 0.56704057 | 0.32759226 | 0.80864499 |\n",
       "| 1          | 0.20291122 | 0.42337361 | 0.09160377 | 0.86773079 |\n",
       "| 1          | 0.71595446 | 0.59810639 | 0.30404230 | 0.34511233 |\n",
       "| 1          | 0.90460165 | 0.45845377 | 0.65259555 | 0.88972366 |\n",
       "| 1          | 0.46766476 | 0.52513082 | 0.71309737 | 0.16936588 |\n",
       "| 1          | 0.64029220 | 0.56341941 | 0.47951154 | 0.72864526 |\n",
       "| 1          | 0.96117897 | 0.44741020 | 0.60329951 | 0.69625929 |\n",
       "| 1          | 0.06439775 | 0.81046488 | 0.52349975 | 0.54737779 |\n",
       "| ... | ... | ... | ... | ... |\n",
       "| 1           | 0.95949565  | 0.675293292 | 0.8533642   | 0.02793749  |\n",
       "| 1           | 0.97966608  | 0.039872393 | 0.9416000   | 0.72198486  |\n",
       "| 1           | 0.52690660  | 0.977472335 | 0.6314807   | 0.56772196  |\n",
       "| 1           | 0.04598748  | 0.317146298 | 0.7144303   | 0.44446465  |\n",
       "| 1           | 0.90023072  | 0.205296297 | 0.6285209   | 0.60478397  |\n",
       "| 1           | 0.32258687  | 0.194069347 | 0.1173722   | 0.98242966  |\n",
       "| 1           | 0.40783653  | 0.555588038 | 0.5186564   | 0.50368648  |\n",
       "| 1           | 0.99673296  | 0.999136477 | 0.7249953   | 0.92376843  |\n",
       "| 1           | 0.91272255  | 0.241522007 | 0.7817168   | 0.99709942  |\n",
       "| 1           | 0.29021141  | 0.710598734 | 0.2612493   | 0.48444181  |\n",
       "| 1           | 0.69542780  | 0.276058567 | 0.9691086   | 0.17449112  |\n",
       "| 1           | 0.04131045  | 0.276989744 | 0.8094209   | 0.15243695  |\n",
       "| 1           | 0.71684108  | 0.512455887 | 0.8306769   | 0.01123611  |\n",
       "| 1           | 0.76262139  | 0.059084704 | 0.3211154   | 0.45001308  |\n",
       "| 1           | 0.15972753  | 0.833049576 | 0.2579192   | 0.15601347  |\n",
       "| 1           | 0.92483975  | 0.936467176 | 0.4144494   | 0.94711103  |\n",
       "| 1           | 0.81208558  | 0.555141241 | 0.3050448   | 0.66984936  |\n",
       "| 1           | 0.77316963  | 0.337681846 | 0.1429613   | 0.95666772  |\n",
       "| 1           | 0.35355523  | 0.450951844 | 0.3189683   | 0.73501092  |\n",
       "| 1           | 0.12435475  | 0.560914025 | 0.7513311   | 0.43392086  |\n",
       "| 1           | 0.88780212  | 0.681851396 | 0.3224342   | 0.22024524  |\n",
       "| 1           | 0.85313819  | 0.875375814 | 0.8255444   | 0.34645350  |\n",
       "| 1           | 0.84449228  | 0.617045320 | 0.8734211   | 0.16636795  |\n",
       "| 1           | 0.34172408  | 0.725208323 | 0.2835125   | 0.16518848  |\n",
       "| 1           | 0.28166291  | 0.007400454 | 0.3206765   | 0.12923063  |\n",
       "| 1           | 0.12384033  | 0.899060817 | 0.9858464   | 0.85039734  |\n",
       "| 1           | 0.73414969  | 0.561721307 | 0.3043357   | 0.91251808  |\n",
       "| 1           | 0.77999513  | 0.101500033 | 0.7807000   | 0.07230745  |\n",
       "| 1           | 0.92141159  | 0.072265238 | 0.8283349   | 0.79017804  |\n",
       "| 1           | 0.06351236  | 0.507830425 | 0.9885709   | 0.24619645  |\n",
       "\n"
      ],
      "text/plain": [
       "          x1         x2          x3         x4        \n",
       " [1,] 1   0.18667121 0.14026657  0.94280410 0.10649518\n",
       " [2,] 1   0.94443903 0.13706934  0.52276689 0.52940151\n",
       " [3,] 1   0.92838826 0.71164475  0.64336073 0.71860641\n",
       " [4,] 1   0.95917710 0.18051582  0.69677409 0.25410129\n",
       " [5,] 1   0.52417646 0.08842863  0.19106442 0.40701648\n",
       " [6,] 1   0.76715036 0.21311299  0.76912339 0.23444981\n",
       " [7,] 1   0.11651188 0.23825413  0.93014166 0.99164182\n",
       " [8,] 1   0.22528155 0.07474239  0.94627987 0.67382932\n",
       " [9,] 1   0.50887578 0.59305166  0.19104230 0.68902774\n",
       "[10,] 1   0.48288501 0.43254095  0.65083054 0.12949274\n",
       "[11,] 1   0.99894565 0.69434619  0.01480160 0.42898919\n",
       "[12,] 1   0.05084642 0.91495662  0.33351877 0.63241673\n",
       "[13,] 1   0.06691185 0.19109222  0.08920029 0.76341623\n",
       "[14,] 1   0.11794333 0.35745388  0.81815994 0.66611022\n",
       "[15,] 1   0.68559683 0.27811306  0.66970300 0.05112475\n",
       "[16,] 1   0.71863128 0.46288762  0.80392381 0.89823474\n",
       "[17,] 1   0.06124421 0.84306605  0.37011961 0.92389927\n",
       "[18,] 1   0.62285430 0.31216241  0.98473847 0.79780304\n",
       "[19,] 1   0.55798855 0.75144188  0.52716798 0.65260034\n",
       "[20,] 1   0.90502225 0.22930374  0.39986640 0.91896482\n",
       "[21,] 1   0.92542007 0.65874796  0.69178055 0.09224323\n",
       "[22,] 1   0.08820010 0.14306197  0.03249294 0.14938501\n",
       "[23,] 1   0.31211653 0.56704057  0.32759226 0.80864499\n",
       "[24,] 1   0.20291122 0.42337361  0.09160377 0.86773079\n",
       "[25,] 1   0.71595446 0.59810639  0.30404230 0.34511233\n",
       "[26,] 1   0.90460165 0.45845377  0.65259555 0.88972366\n",
       "[27,] 1   0.46766476 0.52513082  0.71309737 0.16936588\n",
       "[28,] 1   0.64029220 0.56341941  0.47951154 0.72864526\n",
       "[29,] 1   0.96117897 0.44741020  0.60329951 0.69625929\n",
       "[30,] 1   0.06439775 0.81046488  0.52349975 0.54737779\n",
       "[31,] ... ...        ...         ...        ...       \n",
       "[32,] 1   0.95949565 0.675293292 0.8533642  0.02793749\n",
       "[33,] 1   0.97966608 0.039872393 0.9416000  0.72198486\n",
       "[34,] 1   0.52690660 0.977472335 0.6314807  0.56772196\n",
       "[35,] 1   0.04598748 0.317146298 0.7144303  0.44446465\n",
       "[36,] 1   0.90023072 0.205296297 0.6285209  0.60478397\n",
       "[37,] 1   0.32258687 0.194069347 0.1173722  0.98242966\n",
       "[38,] 1   0.40783653 0.555588038 0.5186564  0.50368648\n",
       "[39,] 1   0.99673296 0.999136477 0.7249953  0.92376843\n",
       "[40,] 1   0.91272255 0.241522007 0.7817168  0.99709942\n",
       "[41,] 1   0.29021141 0.710598734 0.2612493  0.48444181\n",
       "[42,] 1   0.69542780 0.276058567 0.9691086  0.17449112\n",
       "[43,] 1   0.04131045 0.276989744 0.8094209  0.15243695\n",
       "[44,] 1   0.71684108 0.512455887 0.8306769  0.01123611\n",
       "[45,] 1   0.76262139 0.059084704 0.3211154  0.45001308\n",
       "[46,] 1   0.15972753 0.833049576 0.2579192  0.15601347\n",
       "[47,] 1   0.92483975 0.936467176 0.4144494  0.94711103\n",
       "[48,] 1   0.81208558 0.555141241 0.3050448  0.66984936\n",
       "[49,] 1   0.77316963 0.337681846 0.1429613  0.95666772\n",
       "[50,] 1   0.35355523 0.450951844 0.3189683  0.73501092\n",
       "[51,] 1   0.12435475 0.560914025 0.7513311  0.43392086\n",
       "[52,] 1   0.88780212 0.681851396 0.3224342  0.22024524\n",
       "[53,] 1   0.85313819 0.875375814 0.8255444  0.34645350\n",
       "[54,] 1   0.84449228 0.617045320 0.8734211  0.16636795\n",
       "[55,] 1   0.34172408 0.725208323 0.2835125  0.16518848\n",
       "[56,] 1   0.28166291 0.007400454 0.3206765  0.12923063\n",
       "[57,] 1   0.12384033 0.899060817 0.9858464  0.85039734\n",
       "[58,] 1   0.73414969 0.561721307 0.3043357  0.91251808\n",
       "[59,] 1   0.77999513 0.101500033 0.7807000  0.07230745\n",
       "[60,] 1   0.92141159 0.072265238 0.8283349  0.79017804\n",
       "[61,] 1   0.06351236 0.507830425 0.9885709  0.24619645"
      ]
     },
     "metadata": {},
     "output_type": "display_data"
    }
   ],
   "source": [
    "X <- cbind(matrix(1,500), x1,x2,x3,x4)\n",
    "X"
   ]
  },
  {
   "cell_type": "code",
   "execution_count": 57,
   "id": "01c66eae",
   "metadata": {},
   "outputs": [
    {
     "data": {
      "text/html": [
       "<table>\n",
       "<tbody>\n",
       "\t<tr><th scope=row></th><td>1.1294850</td></tr>\n",
       "\t<tr><th scope=row>x1</th><td>0.9372619</td></tr>\n",
       "\t<tr><th scope=row>x2</th><td>1.0652342</td></tr>\n",
       "\t<tr><th scope=row>x3</th><td>0.3915098</td></tr>\n",
       "\t<tr><th scope=row>x4</th><td>1.3708041</td></tr>\n",
       "</tbody>\n",
       "</table>\n"
      ],
      "text/latex": [
       "\\begin{tabular}{r|l}\n",
       "\t & 1.1294850\\\\\n",
       "\tx1 & 0.9372619\\\\\n",
       "\tx2 & 1.0652342\\\\\n",
       "\tx3 & 0.3915098\\\\\n",
       "\tx4 & 1.3708041\\\\\n",
       "\\end{tabular}\n"
      ],
      "text/markdown": [
       "\n",
       "|  | 1.1294850 |\n",
       "| x1 | 0.9372619 |\n",
       "| x2 | 1.0652342 |\n",
       "| x3 | 0.3915098 |\n",
       "| x4 | 1.3708041 |\n",
       "\n"
      ],
      "text/plain": [
       "   [,1]     \n",
       "   1.1294850\n",
       "x1 0.9372619\n",
       "x2 1.0652342\n",
       "x3 0.3915098\n",
       "x4 1.3708041"
      ]
     },
     "metadata": {},
     "output_type": "display_data"
    }
   ],
   "source": [
    "beta <- solve(t(X) %*% X) %*% (t(X) %*% Y)\n",
    "beta"
   ]
  },
  {
   "cell_type": "code",
   "execution_count": 58,
   "id": "3ba489c9",
   "metadata": {
    "scrolled": true
   },
   "outputs": [
    {
     "data": {
      "text/html": [
       "<table>\n",
       "<tbody>\n",
       "\t<tr><td>1.968963</td></tr>\n",
       "\t<tr><td>3.091057</td></tr>\n",
       "\t<tr><td>3.994647</td></tr>\n",
       "\t<tr><td>2.841894</td></tr>\n",
       "\t<tr><td>2.347716</td></tr>\n",
       "\t<tr><td>2.698025</td></tr>\n",
       "\t<tr><td>3.215990</td></tr>\n",
       "\t<tr><td>2.714417</td></tr>\n",
       "\t<tr><td>3.257491</td></tr>\n",
       "\t<tr><td>2.475148</td></tr>\n",
       "\t<tr><td>3.399255</td></tr>\n",
       "\t<tr><td>3.149280</td></tr>\n",
       "\t<tr><td>2.477174</td></tr>\n",
       "\t<tr><td>2.854225</td></tr>\n",
       "\t<tr><td>2.400602</td></tr>\n",
       "\t<tr><td>3.842162</td></tr>\n",
       "\t<tr><td>3.496340</td></tr>\n",
       "\t<tr><td>3.524955</td></tr>\n",
       "\t<tr><td>3.553907</td></tr>\n",
       "\t<tr><td>3.638262</td></tr>\n",
       "\t<tr><td>3.095853</td></tr>\n",
       "\t<tr><td>1.582045</td></tr>\n",
       "\t<tr><td>3.262800</td></tr>\n",
       "\t<tr><td>2.996011</td></tr>\n",
       "\t<tr><td>3.029762</td></tr>\n",
       "\t<tr><td>3.940829</td></tr>\n",
       "\t<tr><td>2.638549</td></tr>\n",
       "\t<tr><td>3.516343</td></tr>\n",
       "\t<tr><td>3.697591</td></tr>\n",
       "\t<tr><td>3.008480</td></tr>\n",
       "\t<tr><td>...</td></tr>\n",
       "\t<tr><td>3.120526</td></tr>\n",
       "\t<tr><td>3.448508</td></tr>\n",
       "\t<tr><td>3.690038</td></tr>\n",
       "\t<tr><td>2.399403</td></tr>\n",
       "\t<tr><td>3.267038</td></tr>\n",
       "\t<tr><td>3.031234</td></tr>\n",
       "\t<tr><td>2.997081</td></tr>\n",
       "\t<tr><td>4.678147</td></tr>\n",
       "\t<tr><td>3.915100</td></tr>\n",
       "\t<tr><td>2.924800</td></tr>\n",
       "\t<tr><td>2.693959</td></tr>\n",
       "\t<tr><td>1.989120</td></tr>\n",
       "\t<tr><td>2.687859</td></tr>\n",
       "\t<tr><td>2.649800</td></tr>\n",
       "\t<tr><td>2.481426</td></tr>\n",
       "\t<tr><td>4.454424</td></tr>\n",
       "\t<tr><td>3.519638</td></tr>\n",
       "\t<tr><td>3.581232</td></tr>\n",
       "\t<tr><td>3.073663</td></tr>\n",
       "\t<tr><td>2.732517</td></tr>\n",
       "\t<tr><td>3.116069</td></tr>\n",
       "\t<tr><td>3.659708</td></tr>\n",
       "\t<tr><td>3.148304</td></tr>\n",
       "\t<tr><td>2.559726</td></tr>\n",
       "\t<tr><td>1.704058</td></tr>\n",
       "\t<tr><td>3.754963</td></tr>\n",
       "\t<tr><td>3.785974</td></tr>\n",
       "\t<tr><td>2.373437</td></tr>\n",
       "\t<tr><td>3.477549</td></tr>\n",
       "\t<tr><td>2.454493</td></tr>\n",
       "</tbody>\n",
       "</table>\n"
      ],
      "text/latex": [
       "\\begin{tabular}{l}\n",
       "\t 1.968963\\\\\n",
       "\t 3.091057\\\\\n",
       "\t 3.994647\\\\\n",
       "\t 2.841894\\\\\n",
       "\t 2.347716\\\\\n",
       "\t 2.698025\\\\\n",
       "\t 3.215990\\\\\n",
       "\t 2.714417\\\\\n",
       "\t 3.257491\\\\\n",
       "\t 2.475148\\\\\n",
       "\t 3.399255\\\\\n",
       "\t 3.149280\\\\\n",
       "\t 2.477174\\\\\n",
       "\t 2.854225\\\\\n",
       "\t 2.400602\\\\\n",
       "\t 3.842162\\\\\n",
       "\t 3.496340\\\\\n",
       "\t 3.524955\\\\\n",
       "\t 3.553907\\\\\n",
       "\t 3.638262\\\\\n",
       "\t 3.095853\\\\\n",
       "\t 1.582045\\\\\n",
       "\t 3.262800\\\\\n",
       "\t 2.996011\\\\\n",
       "\t 3.029762\\\\\n",
       "\t 3.940829\\\\\n",
       "\t 2.638549\\\\\n",
       "\t 3.516343\\\\\n",
       "\t 3.697591\\\\\n",
       "\t 3.008480\\\\\n",
       "\t ...\\\\\n",
       "\t 3.120526\\\\\n",
       "\t 3.448508\\\\\n",
       "\t 3.690038\\\\\n",
       "\t 2.399403\\\\\n",
       "\t 3.267038\\\\\n",
       "\t 3.031234\\\\\n",
       "\t 2.997081\\\\\n",
       "\t 4.678147\\\\\n",
       "\t 3.915100\\\\\n",
       "\t 2.924800\\\\\n",
       "\t 2.693959\\\\\n",
       "\t 1.989120\\\\\n",
       "\t 2.687859\\\\\n",
       "\t 2.649800\\\\\n",
       "\t 2.481426\\\\\n",
       "\t 4.454424\\\\\n",
       "\t 3.519638\\\\\n",
       "\t 3.581232\\\\\n",
       "\t 3.073663\\\\\n",
       "\t 2.732517\\\\\n",
       "\t 3.116069\\\\\n",
       "\t 3.659708\\\\\n",
       "\t 3.148304\\\\\n",
       "\t 2.559726\\\\\n",
       "\t 1.704058\\\\\n",
       "\t 3.754963\\\\\n",
       "\t 3.785974\\\\\n",
       "\t 2.373437\\\\\n",
       "\t 3.477549\\\\\n",
       "\t 2.454493\\\\\n",
       "\\end{tabular}\n"
      ],
      "text/markdown": [
       "\n",
       "| 1.968963 |\n",
       "| 3.091057 |\n",
       "| 3.994647 |\n",
       "| 2.841894 |\n",
       "| 2.347716 |\n",
       "| 2.698025 |\n",
       "| 3.215990 |\n",
       "| 2.714417 |\n",
       "| 3.257491 |\n",
       "| 2.475148 |\n",
       "| 3.399255 |\n",
       "| 3.149280 |\n",
       "| 2.477174 |\n",
       "| 2.854225 |\n",
       "| 2.400602 |\n",
       "| 3.842162 |\n",
       "| 3.496340 |\n",
       "| 3.524955 |\n",
       "| 3.553907 |\n",
       "| 3.638262 |\n",
       "| 3.095853 |\n",
       "| 1.582045 |\n",
       "| 3.262800 |\n",
       "| 2.996011 |\n",
       "| 3.029762 |\n",
       "| 3.940829 |\n",
       "| 2.638549 |\n",
       "| 3.516343 |\n",
       "| 3.697591 |\n",
       "| 3.008480 |\n",
       "| ... |\n",
       "| 3.120526 |\n",
       "| 3.448508 |\n",
       "| 3.690038 |\n",
       "| 2.399403 |\n",
       "| 3.267038 |\n",
       "| 3.031234 |\n",
       "| 2.997081 |\n",
       "| 4.678147 |\n",
       "| 3.915100 |\n",
       "| 2.924800 |\n",
       "| 2.693959 |\n",
       "| 1.989120 |\n",
       "| 2.687859 |\n",
       "| 2.649800 |\n",
       "| 2.481426 |\n",
       "| 4.454424 |\n",
       "| 3.519638 |\n",
       "| 3.581232 |\n",
       "| 3.073663 |\n",
       "| 2.732517 |\n",
       "| 3.116069 |\n",
       "| 3.659708 |\n",
       "| 3.148304 |\n",
       "| 2.559726 |\n",
       "| 1.704058 |\n",
       "| 3.754963 |\n",
       "| 3.785974 |\n",
       "| 2.373437 |\n",
       "| 3.477549 |\n",
       "| 2.454493 |\n",
       "\n"
      ],
      "text/plain": [
       "      [,1]    \n",
       " [1,] 1.968963\n",
       " [2,] 3.091057\n",
       " [3,] 3.994647\n",
       " [4,] 2.841894\n",
       " [5,] 2.347716\n",
       " [6,] 2.698025\n",
       " [7,] 3.215990\n",
       " [8,] 2.714417\n",
       " [9,] 3.257491\n",
       "[10,] 2.475148\n",
       "[11,] 3.399255\n",
       "[12,] 3.149280\n",
       "[13,] 2.477174\n",
       "[14,] 2.854225\n",
       "[15,] 2.400602\n",
       "[16,] 3.842162\n",
       "[17,] 3.496340\n",
       "[18,] 3.524955\n",
       "[19,] 3.553907\n",
       "[20,] 3.638262\n",
       "[21,] 3.095853\n",
       "[22,] 1.582045\n",
       "[23,] 3.262800\n",
       "[24,] 2.996011\n",
       "[25,] 3.029762\n",
       "[26,] 3.940829\n",
       "[27,] 2.638549\n",
       "[28,] 3.516343\n",
       "[29,] 3.697591\n",
       "[30,] 3.008480\n",
       "[31,] ...     \n",
       "[32,] 3.120526\n",
       "[33,] 3.448508\n",
       "[34,] 3.690038\n",
       "[35,] 2.399403\n",
       "[36,] 3.267038\n",
       "[37,] 3.031234\n",
       "[38,] 2.997081\n",
       "[39,] 4.678147\n",
       "[40,] 3.915100\n",
       "[41,] 2.924800\n",
       "[42,] 2.693959\n",
       "[43,] 1.989120\n",
       "[44,] 2.687859\n",
       "[45,] 2.649800\n",
       "[46,] 2.481426\n",
       "[47,] 4.454424\n",
       "[48,] 3.519638\n",
       "[49,] 3.581232\n",
       "[50,] 3.073663\n",
       "[51,] 2.732517\n",
       "[52,] 3.116069\n",
       "[53,] 3.659708\n",
       "[54,] 3.148304\n",
       "[55,] 2.559726\n",
       "[56,] 1.704058\n",
       "[57,] 3.754963\n",
       "[58,] 3.785974\n",
       "[59,] 2.373437\n",
       "[60,] 3.477549\n",
       "[61,] 2.454493"
      ]
     },
     "metadata": {},
     "output_type": "display_data"
    }
   ],
   "source": [
    "Y_hat <- X %*% beta\n",
    "Y_hat"
   ]
  },
  {
   "cell_type": "code",
   "execution_count": 59,
   "id": "eb007207",
   "metadata": {
    "scrolled": true
   },
   "outputs": [
    {
     "data": {
      "text/html": [
       "<table>\n",
       "<tbody>\n",
       "\t<tr><td> 0.43372226</td></tr>\n",
       "\t<tr><td>-0.85432933</td></tr>\n",
       "\t<tr><td>-0.83587065</td></tr>\n",
       "\t<tr><td> 0.27985232</td></tr>\n",
       "\t<tr><td> 1.70601560</td></tr>\n",
       "\t<tr><td>-1.33152955</td></tr>\n",
       "\t<tr><td>-0.14388449</td></tr>\n",
       "\t<tr><td>-1.05654689</td></tr>\n",
       "\t<tr><td> 0.04821029</td></tr>\n",
       "\t<tr><td> 0.08383981</td></tr>\n",
       "\t<tr><td> 1.58892027</td></tr>\n",
       "\t<tr><td> 1.34537807</td></tr>\n",
       "\t<tr><td>-0.41960163</td></tr>\n",
       "\t<tr><td>-0.10462227</td></tr>\n",
       "\t<tr><td>-0.55915252</td></tr>\n",
       "\t<tr><td> 2.04259087</td></tr>\n",
       "\t<tr><td>-1.56916536</td></tr>\n",
       "\t<tr><td>-0.88482503</td></tr>\n",
       "\t<tr><td> 1.28665754</td></tr>\n",
       "\t<tr><td> 1.20929716</td></tr>\n",
       "\t<tr><td>-0.56396357</td></tr>\n",
       "\t<tr><td>-1.54832459</td></tr>\n",
       "\t<tr><td>-0.94693670</td></tr>\n",
       "\t<tr><td> 0.91577549</td></tr>\n",
       "\t<tr><td> 0.96185798</td></tr>\n",
       "\t<tr><td> 0.47570405</td></tr>\n",
       "\t<tr><td>-1.20882839</td></tr>\n",
       "\t<tr><td>-0.81176472</td></tr>\n",
       "\t<tr><td>-1.31738220</td></tr>\n",
       "\t<tr><td> 0.48629048</td></tr>\n",
       "\t<tr><td>...</td></tr>\n",
       "\t<tr><td>-0.162618228</td></tr>\n",
       "\t<tr><td>-1.367137693</td></tr>\n",
       "\t<tr><td> 1.222009939</td></tr>\n",
       "\t<tr><td>-0.608604249</td></tr>\n",
       "\t<tr><td>-0.110432797</td></tr>\n",
       "\t<tr><td> 0.714795832</td></tr>\n",
       "\t<tr><td>-0.349693467</td></tr>\n",
       "\t<tr><td> 0.025894789</td></tr>\n",
       "\t<tr><td> 0.858142636</td></tr>\n",
       "\t<tr><td>-1.883076751</td></tr>\n",
       "\t<tr><td> 0.488302903</td></tr>\n",
       "\t<tr><td>-0.984598073</td></tr>\n",
       "\t<tr><td>-0.108765933</td></tr>\n",
       "\t<tr><td> 0.290679532</td></tr>\n",
       "\t<tr><td>-0.007500173</td></tr>\n",
       "\t<tr><td>-1.707895403</td></tr>\n",
       "\t<tr><td> 0.343204281</td></tr>\n",
       "\t<tr><td> 1.151756392</td></tr>\n",
       "\t<tr><td>-0.086668357</td></tr>\n",
       "\t<tr><td>-0.078314440</td></tr>\n",
       "\t<tr><td> 2.915950135</td></tr>\n",
       "\t<tr><td> 0.836701832</td></tr>\n",
       "\t<tr><td>-1.389491981</td></tr>\n",
       "\t<tr><td>-0.781432843</td></tr>\n",
       "\t<tr><td>-0.525050619</td></tr>\n",
       "\t<tr><td>-0.802642337</td></tr>\n",
       "\t<tr><td>-2.406318729</td></tr>\n",
       "\t<tr><td> 1.205802843</td></tr>\n",
       "\t<tr><td> 1.678856222</td></tr>\n",
       "\t<tr><td>-1.407873778</td></tr>\n",
       "</tbody>\n",
       "</table>\n"
      ],
      "text/latex": [
       "\\begin{tabular}{l}\n",
       "\t  0.43372226\\\\\n",
       "\t -0.85432933\\\\\n",
       "\t -0.83587065\\\\\n",
       "\t  0.27985232\\\\\n",
       "\t  1.70601560\\\\\n",
       "\t -1.33152955\\\\\n",
       "\t -0.14388449\\\\\n",
       "\t -1.05654689\\\\\n",
       "\t  0.04821029\\\\\n",
       "\t  0.08383981\\\\\n",
       "\t  1.58892027\\\\\n",
       "\t  1.34537807\\\\\n",
       "\t -0.41960163\\\\\n",
       "\t -0.10462227\\\\\n",
       "\t -0.55915252\\\\\n",
       "\t  2.04259087\\\\\n",
       "\t -1.56916536\\\\\n",
       "\t -0.88482503\\\\\n",
       "\t  1.28665754\\\\\n",
       "\t  1.20929716\\\\\n",
       "\t -0.56396357\\\\\n",
       "\t -1.54832459\\\\\n",
       "\t -0.94693670\\\\\n",
       "\t  0.91577549\\\\\n",
       "\t  0.96185798\\\\\n",
       "\t  0.47570405\\\\\n",
       "\t -1.20882839\\\\\n",
       "\t -0.81176472\\\\\n",
       "\t -1.31738220\\\\\n",
       "\t  0.48629048\\\\\n",
       "\t ...\\\\\n",
       "\t -0.162618228\\\\\n",
       "\t -1.367137693\\\\\n",
       "\t  1.222009939\\\\\n",
       "\t -0.608604249\\\\\n",
       "\t -0.110432797\\\\\n",
       "\t  0.714795832\\\\\n",
       "\t -0.349693467\\\\\n",
       "\t  0.025894789\\\\\n",
       "\t  0.858142636\\\\\n",
       "\t -1.883076751\\\\\n",
       "\t  0.488302903\\\\\n",
       "\t -0.984598073\\\\\n",
       "\t -0.108765933\\\\\n",
       "\t  0.290679532\\\\\n",
       "\t -0.007500173\\\\\n",
       "\t -1.707895403\\\\\n",
       "\t  0.343204281\\\\\n",
       "\t  1.151756392\\\\\n",
       "\t -0.086668357\\\\\n",
       "\t -0.078314440\\\\\n",
       "\t  2.915950135\\\\\n",
       "\t  0.836701832\\\\\n",
       "\t -1.389491981\\\\\n",
       "\t -0.781432843\\\\\n",
       "\t -0.525050619\\\\\n",
       "\t -0.802642337\\\\\n",
       "\t -2.406318729\\\\\n",
       "\t  1.205802843\\\\\n",
       "\t  1.678856222\\\\\n",
       "\t -1.407873778\\\\\n",
       "\\end{tabular}\n"
      ],
      "text/markdown": [
       "\n",
       "|  0.43372226 |\n",
       "| -0.85432933 |\n",
       "| -0.83587065 |\n",
       "|  0.27985232 |\n",
       "|  1.70601560 |\n",
       "| -1.33152955 |\n",
       "| -0.14388449 |\n",
       "| -1.05654689 |\n",
       "|  0.04821029 |\n",
       "|  0.08383981 |\n",
       "|  1.58892027 |\n",
       "|  1.34537807 |\n",
       "| -0.41960163 |\n",
       "| -0.10462227 |\n",
       "| -0.55915252 |\n",
       "|  2.04259087 |\n",
       "| -1.56916536 |\n",
       "| -0.88482503 |\n",
       "|  1.28665754 |\n",
       "|  1.20929716 |\n",
       "| -0.56396357 |\n",
       "| -1.54832459 |\n",
       "| -0.94693670 |\n",
       "|  0.91577549 |\n",
       "|  0.96185798 |\n",
       "|  0.47570405 |\n",
       "| -1.20882839 |\n",
       "| -0.81176472 |\n",
       "| -1.31738220 |\n",
       "|  0.48629048 |\n",
       "| ... |\n",
       "| -0.162618228 |\n",
       "| -1.367137693 |\n",
       "|  1.222009939 |\n",
       "| -0.608604249 |\n",
       "| -0.110432797 |\n",
       "|  0.714795832 |\n",
       "| -0.349693467 |\n",
       "|  0.025894789 |\n",
       "|  0.858142636 |\n",
       "| -1.883076751 |\n",
       "|  0.488302903 |\n",
       "| -0.984598073 |\n",
       "| -0.108765933 |\n",
       "|  0.290679532 |\n",
       "| -0.007500173 |\n",
       "| -1.707895403 |\n",
       "|  0.343204281 |\n",
       "|  1.151756392 |\n",
       "| -0.086668357 |\n",
       "| -0.078314440 |\n",
       "|  2.915950135 |\n",
       "|  0.836701832 |\n",
       "| -1.389491981 |\n",
       "| -0.781432843 |\n",
       "| -0.525050619 |\n",
       "| -0.802642337 |\n",
       "| -2.406318729 |\n",
       "|  1.205802843 |\n",
       "|  1.678856222 |\n",
       "| -1.407873778 |\n",
       "\n"
      ],
      "text/plain": [
       "      [,1]        \n",
       " [1,]  0.43372226 \n",
       " [2,] -0.85432933 \n",
       " [3,] -0.83587065 \n",
       " [4,]  0.27985232 \n",
       " [5,]  1.70601560 \n",
       " [6,] -1.33152955 \n",
       " [7,] -0.14388449 \n",
       " [8,] -1.05654689 \n",
       " [9,]  0.04821029 \n",
       "[10,]  0.08383981 \n",
       "[11,]  1.58892027 \n",
       "[12,]  1.34537807 \n",
       "[13,] -0.41960163 \n",
       "[14,] -0.10462227 \n",
       "[15,] -0.55915252 \n",
       "[16,]  2.04259087 \n",
       "[17,] -1.56916536 \n",
       "[18,] -0.88482503 \n",
       "[19,]  1.28665754 \n",
       "[20,]  1.20929716 \n",
       "[21,] -0.56396357 \n",
       "[22,] -1.54832459 \n",
       "[23,] -0.94693670 \n",
       "[24,]  0.91577549 \n",
       "[25,]  0.96185798 \n",
       "[26,]  0.47570405 \n",
       "[27,] -1.20882839 \n",
       "[28,] -0.81176472 \n",
       "[29,] -1.31738220 \n",
       "[30,]  0.48629048 \n",
       "[31,] ...         \n",
       "[32,] -0.162618228\n",
       "[33,] -1.367137693\n",
       "[34,]  1.222009939\n",
       "[35,] -0.608604249\n",
       "[36,] -0.110432797\n",
       "[37,]  0.714795832\n",
       "[38,] -0.349693467\n",
       "[39,]  0.025894789\n",
       "[40,]  0.858142636\n",
       "[41,] -1.883076751\n",
       "[42,]  0.488302903\n",
       "[43,] -0.984598073\n",
       "[44,] -0.108765933\n",
       "[45,]  0.290679532\n",
       "[46,] -0.007500173\n",
       "[47,] -1.707895403\n",
       "[48,]  0.343204281\n",
       "[49,]  1.151756392\n",
       "[50,] -0.086668357\n",
       "[51,] -0.078314440\n",
       "[52,]  2.915950135\n",
       "[53,]  0.836701832\n",
       "[54,] -1.389491981\n",
       "[55,] -0.781432843\n",
       "[56,] -0.525050619\n",
       "[57,] -0.802642337\n",
       "[58,] -2.406318729\n",
       "[59,]  1.205802843\n",
       "[60,]  1.678856222\n",
       "[61,] -1.407873778"
      ]
     },
     "metadata": {},
     "output_type": "display_data"
    }
   ],
   "source": [
    "U_hat <- Y - Y_hat\n",
    "U_hat"
   ]
  },
  {
   "cell_type": "code",
   "execution_count": 60,
   "id": "7240caab",
   "metadata": {
    "scrolled": true
   },
   "outputs": [
    {
     "data": {
      "text/html": [
       "<table>\n",
       "<tbody>\n",
       "\t<tr><td>0.4337223 </td><td>-0.8543293</td><td>-0.8358706</td><td>0.2798523 </td><td>1.706016  </td><td>-1.33153  </td><td>-0.1438845</td><td>-1.056547 </td><td>0.04821029</td><td>0.08383981</td><td>...       </td><td>2.91595   </td><td>0.8367018 </td><td>-1.389492 </td><td>-0.7814328</td><td>-0.5250506</td><td>-0.8026423</td><td>-2.406319 </td><td>1.205803  </td><td>1.678856  </td><td>-1.407874 </td></tr>\n",
       "</tbody>\n",
       "</table>\n"
      ],
      "text/latex": [
       "\\begin{tabular}{llllllllllllllllllllllllllllllllllllllllllllllllllllllllllllllllllllllllllllllllllllllllllllllllllllllllllllllllllllllllllllllllllllllllllllllllllllllllllllllllllllllllllllllllllllllllllllllllllllllllllllllllllllllllllllllllllllllllllllllllllllllllllllllllllllllllllllllllllllllllllllllllllllllllllllllllllllllllllllllllllllllllllllllllllllllllllllllllllllllllllllllllllllllllllllllllllllllllllllllllllllllllllllllllllllllllllllllllllllllllllllllllllllllllllllllllllllllllllllllllllllllllllllllllllll}\n",
       "\t 0.4337223  & -0.8543293 & -0.8358706 & 0.2798523  & 1.706016   & -1.33153   & -0.1438845 & -1.056547  & 0.04821029 & 0.08383981 & ...        & 2.91595    & 0.8367018  & -1.389492  & -0.7814328 & -0.5250506 & -0.8026423 & -2.406319  & 1.205803   & 1.678856   & -1.407874 \\\\\n",
       "\\end{tabular}\n"
      ],
      "text/markdown": [
       "\n",
       "| 0.4337223  | -0.8543293 | -0.8358706 | 0.2798523  | 1.706016   | -1.33153   | -0.1438845 | -1.056547  | 0.04821029 | 0.08383981 | ...        | 2.91595    | 0.8367018  | -1.389492  | -0.7814328 | -0.5250506 | -0.8026423 | -2.406319  | 1.205803   | 1.678856   | -1.407874  |\n",
       "\n"
      ],
      "text/plain": [
       "     [,1]      [,2]       [,3]       [,4]      [,5]     [,6]     [,7]      \n",
       "[1,] 0.4337223 -0.8543293 -0.8358706 0.2798523 1.706016 -1.33153 -0.1438845\n",
       "     [,8]      [,9]       [,10]      [,11] [,12]   [,13]     [,14]    \n",
       "[1,] -1.056547 0.04821029 0.08383981 ...   2.91595 0.8367018 -1.389492\n",
       "     [,15]      [,16]      [,17]      [,18]     [,19]    [,20]    [,21]    \n",
       "[1,] -0.7814328 -0.5250506 -0.8026423 -2.406319 1.205803 1.678856 -1.407874"
      ]
     },
     "metadata": {},
     "output_type": "display_data"
    }
   ],
   "source": [
    "t(U_hat)"
   ]
  },
  {
   "cell_type": "code",
   "execution_count": 62,
   "id": "f2ac0958",
   "metadata": {
    "scrolled": true
   },
   "outputs": [
    {
     "data": {
      "text/html": [
       "<table>\n",
       "<tbody>\n",
       "\t<tr><td>510.2016</td></tr>\n",
       "</tbody>\n",
       "</table>\n"
      ],
      "text/latex": [
       "\\begin{tabular}{l}\n",
       "\t 510.2016\\\\\n",
       "\\end{tabular}\n"
      ],
      "text/markdown": [
       "\n",
       "| 510.2016 |\n",
       "\n"
      ],
      "text/plain": [
       "     [,1]    \n",
       "[1,] 510.2016"
      ]
     },
     "metadata": {},
     "output_type": "display_data"
    }
   ],
   "source": [
    "t(U_hat) %*% U_hat"
   ]
  },
  {
   "cell_type": "code",
   "execution_count": 63,
   "id": "6272322d",
   "metadata": {},
   "outputs": [
    {
     "data": {
      "text/html": [
       "<table>\n",
       "<tbody>\n",
       "\t<tr><td>510.2016</td></tr>\n",
       "</tbody>\n",
       "</table>\n"
      ],
      "text/latex": [
       "\\begin{tabular}{l}\n",
       "\t 510.2016\\\\\n",
       "\\end{tabular}\n"
      ],
      "text/markdown": [
       "\n",
       "| 510.2016 |\n",
       "\n"
      ],
      "text/plain": [
       "     [,1]    \n",
       "[1,] 510.2016"
      ]
     },
     "metadata": {},
     "output_type": "display_data"
    }
   ],
   "source": [
    "SCR <- t(U_hat) %*% U_hat\n",
    "SCR"
   ]
  },
  {
   "cell_type": "code",
   "execution_count": 83,
   "id": "854959db",
   "metadata": {},
   "outputs": [
    {
     "data": {
      "text/html": [
       "<table>\n",
       "<tbody>\n",
       "\t<tr><td>1.03071</td></tr>\n",
       "</tbody>\n",
       "</table>\n"
      ],
      "text/latex": [
       "\\begin{tabular}{l}\n",
       "\t 1.03071\\\\\n",
       "\\end{tabular}\n"
      ],
      "text/markdown": [
       "\n",
       "| 1.03071 |\n",
       "\n"
      ],
      "text/plain": [
       "     [,1]   \n",
       "[1,] 1.03071"
      ]
     },
     "metadata": {},
     "output_type": "display_data"
    }
   ],
   "source": [
    "Estimador_de_la_varianza_del_termino_de_pertubacion <- SCR/(500-5)\n",
    "Estimador_de_la_varianza_del_termino_de_pertubacion"
   ]
  },
  {
   "cell_type": "markdown",
   "id": "e0c2926f",
   "metadata": {},
   "source": [
    "8. Matriz de varianza y covarianza de los coeficientes"
   ]
  },
  {
   "cell_type": "code",
   "execution_count": 87,
   "id": "10d356a6",
   "metadata": {
    "scrolled": true
   },
   "outputs": [
    {
     "data": {
      "text/html": [
       "<table>\n",
       "<thead><tr><th></th><th scope=col></th><th scope=col>x1</th><th scope=col>x2</th><th scope=col>x3</th><th scope=col>x4</th></tr></thead>\n",
       "<tbody>\n",
       "\t<tr><th scope=row></th><td> 0.02637547  </td><td>-0.0107577256</td><td>-0.0125223845</td><td>-0.0129083837</td><td>-0.0119220529</td></tr>\n",
       "\t<tr><th scope=row>x1</th><td>-0.01075773  </td><td> 0.0226380977</td><td> 0.0006594612</td><td> 0.0004359917</td><td>-0.0022281607</td></tr>\n",
       "\t<tr><th scope=row>x2</th><td>-0.01252238  </td><td> 0.0006594612</td><td> 0.0260365322</td><td>-0.0001631863</td><td>-0.0008748490</td></tr>\n",
       "\t<tr><th scope=row>x3</th><td>-0.01290838  </td><td> 0.0004359917</td><td>-0.0001631863</td><td> 0.0253669356</td><td>-0.0003919564</td></tr>\n",
       "\t<tr><th scope=row>x4</th><td>-0.01192205  </td><td>-0.0022281607</td><td>-0.0008748490</td><td>-0.0003919564</td><td> 0.0263347481</td></tr>\n",
       "</tbody>\n",
       "</table>\n"
      ],
      "text/latex": [
       "\\begin{tabular}{r|lllll}\n",
       "  &  & x1 & x2 & x3 & x4\\\\\n",
       "\\hline\n",
       "\t &  0.02637547   & -0.0107577256 & -0.0125223845 & -0.0129083837 & -0.0119220529\\\\\n",
       "\tx1 & -0.01075773   &  0.0226380977 &  0.0006594612 &  0.0004359917 & -0.0022281607\\\\\n",
       "\tx2 & -0.01252238   &  0.0006594612 &  0.0260365322 & -0.0001631863 & -0.0008748490\\\\\n",
       "\tx3 & -0.01290838   &  0.0004359917 & -0.0001631863 &  0.0253669356 & -0.0003919564\\\\\n",
       "\tx4 & -0.01192205   & -0.0022281607 & -0.0008748490 & -0.0003919564 &  0.0263347481\\\\\n",
       "\\end{tabular}\n"
      ],
      "text/markdown": [
       "\n",
       "| <!--/--> |  | x1 | x2 | x3 | x4 |\n",
       "|---|---|---|---|---|---|\n",
       "|  |  0.02637547   | -0.0107577256 | -0.0125223845 | -0.0129083837 | -0.0119220529 |\n",
       "| x1 | -0.01075773   |  0.0226380977 |  0.0006594612 |  0.0004359917 | -0.0022281607 |\n",
       "| x2 | -0.01252238   |  0.0006594612 |  0.0260365322 | -0.0001631863 | -0.0008748490 |\n",
       "| x3 | -0.01290838   |  0.0004359917 | -0.0001631863 |  0.0253669356 | -0.0003919564 |\n",
       "| x4 | -0.01192205   | -0.0022281607 | -0.0008748490 | -0.0003919564 |  0.0263347481 |\n",
       "\n"
      ],
      "text/plain": [
       "               x1            x2            x3            x4           \n",
       "    0.02637547 -0.0107577256 -0.0125223845 -0.0129083837 -0.0119220529\n",
       "x1 -0.01075773  0.0226380977  0.0006594612  0.0004359917 -0.0022281607\n",
       "x2 -0.01252238  0.0006594612  0.0260365322 -0.0001631863 -0.0008748490\n",
       "x3 -0.01290838  0.0004359917 -0.0001631863  0.0253669356 -0.0003919564\n",
       "x4 -0.01192205 -0.0022281607 -0.0008748490 -0.0003919564  0.0263347481"
      ]
     },
     "metadata": {},
     "output_type": "display_data"
    }
   ],
   "source": [
    "drop(Estimador_de_la_varianza_del_termino_de_pertubacion)* solve(t(X) %*% X)\n"
   ]
  },
  {
   "cell_type": "markdown",
   "id": "43452483",
   "metadata": {},
   "source": [
    "9. Matriz generador de residuos"
   ]
  },
  {
   "cell_type": "code",
   "execution_count": 85,
   "id": "80df25ca",
   "metadata": {
    "scrolled": true
   },
   "outputs": [
    {
     "data": {
      "text/html": [
       "<table>\n",
       "<tbody>\n",
       "\t<tr><td>1  </td><td>0  </td><td>0  </td><td>0  </td><td>0  </td><td>0  </td><td>0  </td><td>0  </td><td>0  </td><td>0  </td><td>...</td><td>0  </td><td>0  </td><td>0  </td><td>0  </td><td>0  </td><td>0  </td><td>0  </td><td>0  </td><td>0  </td><td>0  </td></tr>\n",
       "\t<tr><td>0  </td><td>1  </td><td>0  </td><td>0  </td><td>0  </td><td>0  </td><td>0  </td><td>0  </td><td>0  </td><td>0  </td><td>...</td><td>0  </td><td>0  </td><td>0  </td><td>0  </td><td>0  </td><td>0  </td><td>0  </td><td>0  </td><td>0  </td><td>0  </td></tr>\n",
       "\t<tr><td>0  </td><td>0  </td><td>1  </td><td>0  </td><td>0  </td><td>0  </td><td>0  </td><td>0  </td><td>0  </td><td>0  </td><td>...</td><td>0  </td><td>0  </td><td>0  </td><td>0  </td><td>0  </td><td>0  </td><td>0  </td><td>0  </td><td>0  </td><td>0  </td></tr>\n",
       "\t<tr><td>0  </td><td>0  </td><td>0  </td><td>1  </td><td>0  </td><td>0  </td><td>0  </td><td>0  </td><td>0  </td><td>0  </td><td>...</td><td>0  </td><td>0  </td><td>0  </td><td>0  </td><td>0  </td><td>0  </td><td>0  </td><td>0  </td><td>0  </td><td>0  </td></tr>\n",
       "\t<tr><td>0  </td><td>0  </td><td>0  </td><td>0  </td><td>1  </td><td>0  </td><td>0  </td><td>0  </td><td>0  </td><td>0  </td><td>...</td><td>0  </td><td>0  </td><td>0  </td><td>0  </td><td>0  </td><td>0  </td><td>0  </td><td>0  </td><td>0  </td><td>0  </td></tr>\n",
       "\t<tr><td>0  </td><td>0  </td><td>0  </td><td>0  </td><td>0  </td><td>1  </td><td>0  </td><td>0  </td><td>0  </td><td>0  </td><td>...</td><td>0  </td><td>0  </td><td>0  </td><td>0  </td><td>0  </td><td>0  </td><td>0  </td><td>0  </td><td>0  </td><td>0  </td></tr>\n",
       "\t<tr><td>0  </td><td>0  </td><td>0  </td><td>0  </td><td>0  </td><td>0  </td><td>1  </td><td>0  </td><td>0  </td><td>0  </td><td>...</td><td>0  </td><td>0  </td><td>0  </td><td>0  </td><td>0  </td><td>0  </td><td>0  </td><td>0  </td><td>0  </td><td>0  </td></tr>\n",
       "\t<tr><td>0  </td><td>0  </td><td>0  </td><td>0  </td><td>0  </td><td>0  </td><td>0  </td><td>1  </td><td>0  </td><td>0  </td><td>...</td><td>0  </td><td>0  </td><td>0  </td><td>0  </td><td>0  </td><td>0  </td><td>0  </td><td>0  </td><td>0  </td><td>0  </td></tr>\n",
       "\t<tr><td>0  </td><td>0  </td><td>0  </td><td>0  </td><td>0  </td><td>0  </td><td>0  </td><td>0  </td><td>1  </td><td>0  </td><td>...</td><td>0  </td><td>0  </td><td>0  </td><td>0  </td><td>0  </td><td>0  </td><td>0  </td><td>0  </td><td>0  </td><td>0  </td></tr>\n",
       "\t<tr><td>0  </td><td>0  </td><td>0  </td><td>0  </td><td>0  </td><td>0  </td><td>0  </td><td>0  </td><td>0  </td><td>1  </td><td>...</td><td>0  </td><td>0  </td><td>0  </td><td>0  </td><td>0  </td><td>0  </td><td>0  </td><td>0  </td><td>0  </td><td>0  </td></tr>\n",
       "\t<tr><td>0  </td><td>0  </td><td>0  </td><td>0  </td><td>0  </td><td>0  </td><td>0  </td><td>0  </td><td>0  </td><td>0  </td><td>...</td><td>0  </td><td>0  </td><td>0  </td><td>0  </td><td>0  </td><td>0  </td><td>0  </td><td>0  </td><td>0  </td><td>0  </td></tr>\n",
       "\t<tr><td>0  </td><td>0  </td><td>0  </td><td>0  </td><td>0  </td><td>0  </td><td>0  </td><td>0  </td><td>0  </td><td>0  </td><td>...</td><td>0  </td><td>0  </td><td>0  </td><td>0  </td><td>0  </td><td>0  </td><td>0  </td><td>0  </td><td>0  </td><td>0  </td></tr>\n",
       "\t<tr><td>0  </td><td>0  </td><td>0  </td><td>0  </td><td>0  </td><td>0  </td><td>0  </td><td>0  </td><td>0  </td><td>0  </td><td>...</td><td>0  </td><td>0  </td><td>0  </td><td>0  </td><td>0  </td><td>0  </td><td>0  </td><td>0  </td><td>0  </td><td>0  </td></tr>\n",
       "\t<tr><td>0  </td><td>0  </td><td>0  </td><td>0  </td><td>0  </td><td>0  </td><td>0  </td><td>0  </td><td>0  </td><td>0  </td><td>...</td><td>0  </td><td>0  </td><td>0  </td><td>0  </td><td>0  </td><td>0  </td><td>0  </td><td>0  </td><td>0  </td><td>0  </td></tr>\n",
       "\t<tr><td>0  </td><td>0  </td><td>0  </td><td>0  </td><td>0  </td><td>0  </td><td>0  </td><td>0  </td><td>0  </td><td>0  </td><td>...</td><td>0  </td><td>0  </td><td>0  </td><td>0  </td><td>0  </td><td>0  </td><td>0  </td><td>0  </td><td>0  </td><td>0  </td></tr>\n",
       "\t<tr><td>0  </td><td>0  </td><td>0  </td><td>0  </td><td>0  </td><td>0  </td><td>0  </td><td>0  </td><td>0  </td><td>0  </td><td>...</td><td>0  </td><td>0  </td><td>0  </td><td>0  </td><td>0  </td><td>0  </td><td>0  </td><td>0  </td><td>0  </td><td>0  </td></tr>\n",
       "\t<tr><td>0  </td><td>0  </td><td>0  </td><td>0  </td><td>0  </td><td>0  </td><td>0  </td><td>0  </td><td>0  </td><td>0  </td><td>...</td><td>0  </td><td>0  </td><td>0  </td><td>0  </td><td>0  </td><td>0  </td><td>0  </td><td>0  </td><td>0  </td><td>0  </td></tr>\n",
       "\t<tr><td>0  </td><td>0  </td><td>0  </td><td>0  </td><td>0  </td><td>0  </td><td>0  </td><td>0  </td><td>0  </td><td>0  </td><td>...</td><td>0  </td><td>0  </td><td>0  </td><td>0  </td><td>0  </td><td>0  </td><td>0  </td><td>0  </td><td>0  </td><td>0  </td></tr>\n",
       "\t<tr><td>0  </td><td>0  </td><td>0  </td><td>0  </td><td>0  </td><td>0  </td><td>0  </td><td>0  </td><td>0  </td><td>0  </td><td>...</td><td>0  </td><td>0  </td><td>0  </td><td>0  </td><td>0  </td><td>0  </td><td>0  </td><td>0  </td><td>0  </td><td>0  </td></tr>\n",
       "\t<tr><td>0  </td><td>0  </td><td>0  </td><td>0  </td><td>0  </td><td>0  </td><td>0  </td><td>0  </td><td>0  </td><td>0  </td><td>...</td><td>0  </td><td>0  </td><td>0  </td><td>0  </td><td>0  </td><td>0  </td><td>0  </td><td>0  </td><td>0  </td><td>0  </td></tr>\n",
       "\t<tr><td>0  </td><td>0  </td><td>0  </td><td>0  </td><td>0  </td><td>0  </td><td>0  </td><td>0  </td><td>0  </td><td>0  </td><td>...</td><td>0  </td><td>0  </td><td>0  </td><td>0  </td><td>0  </td><td>0  </td><td>0  </td><td>0  </td><td>0  </td><td>0  </td></tr>\n",
       "\t<tr><td>0  </td><td>0  </td><td>0  </td><td>0  </td><td>0  </td><td>0  </td><td>0  </td><td>0  </td><td>0  </td><td>0  </td><td>...</td><td>0  </td><td>0  </td><td>0  </td><td>0  </td><td>0  </td><td>0  </td><td>0  </td><td>0  </td><td>0  </td><td>0  </td></tr>\n",
       "\t<tr><td>0  </td><td>0  </td><td>0  </td><td>0  </td><td>0  </td><td>0  </td><td>0  </td><td>0  </td><td>0  </td><td>0  </td><td>...</td><td>0  </td><td>0  </td><td>0  </td><td>0  </td><td>0  </td><td>0  </td><td>0  </td><td>0  </td><td>0  </td><td>0  </td></tr>\n",
       "\t<tr><td>0  </td><td>0  </td><td>0  </td><td>0  </td><td>0  </td><td>0  </td><td>0  </td><td>0  </td><td>0  </td><td>0  </td><td>...</td><td>0  </td><td>0  </td><td>0  </td><td>0  </td><td>0  </td><td>0  </td><td>0  </td><td>0  </td><td>0  </td><td>0  </td></tr>\n",
       "\t<tr><td>0  </td><td>0  </td><td>0  </td><td>0  </td><td>0  </td><td>0  </td><td>0  </td><td>0  </td><td>0  </td><td>0  </td><td>...</td><td>0  </td><td>0  </td><td>0  </td><td>0  </td><td>0  </td><td>0  </td><td>0  </td><td>0  </td><td>0  </td><td>0  </td></tr>\n",
       "\t<tr><td>0  </td><td>0  </td><td>0  </td><td>0  </td><td>0  </td><td>0  </td><td>0  </td><td>0  </td><td>0  </td><td>0  </td><td>...</td><td>0  </td><td>0  </td><td>0  </td><td>0  </td><td>0  </td><td>0  </td><td>0  </td><td>0  </td><td>0  </td><td>0  </td></tr>\n",
       "\t<tr><td>0  </td><td>0  </td><td>0  </td><td>0  </td><td>0  </td><td>0  </td><td>0  </td><td>0  </td><td>0  </td><td>0  </td><td>...</td><td>0  </td><td>0  </td><td>0  </td><td>0  </td><td>0  </td><td>0  </td><td>0  </td><td>0  </td><td>0  </td><td>0  </td></tr>\n",
       "\t<tr><td>0  </td><td>0  </td><td>0  </td><td>0  </td><td>0  </td><td>0  </td><td>0  </td><td>0  </td><td>0  </td><td>0  </td><td>...</td><td>0  </td><td>0  </td><td>0  </td><td>0  </td><td>0  </td><td>0  </td><td>0  </td><td>0  </td><td>0  </td><td>0  </td></tr>\n",
       "\t<tr><td>0  </td><td>0  </td><td>0  </td><td>0  </td><td>0  </td><td>0  </td><td>0  </td><td>0  </td><td>0  </td><td>0  </td><td>...</td><td>0  </td><td>0  </td><td>0  </td><td>0  </td><td>0  </td><td>0  </td><td>0  </td><td>0  </td><td>0  </td><td>0  </td></tr>\n",
       "\t<tr><td>0  </td><td>0  </td><td>0  </td><td>0  </td><td>0  </td><td>0  </td><td>0  </td><td>0  </td><td>0  </td><td>0  </td><td>...</td><td>0  </td><td>0  </td><td>0  </td><td>0  </td><td>0  </td><td>0  </td><td>0  </td><td>0  </td><td>0  </td><td>0  </td></tr>\n",
       "\t<tr><td>...</td><td>...</td><td>...</td><td>...</td><td>...</td><td>...</td><td>...</td><td>...</td><td>...</td><td>...</td><td>   </td><td>...</td><td>...</td><td>...</td><td>...</td><td>...</td><td>...</td><td>...</td><td>...</td><td>...</td><td>...</td></tr>\n",
       "\t<tr><td>0  </td><td>0  </td><td>0  </td><td>0  </td><td>0  </td><td>0  </td><td>0  </td><td>0  </td><td>0  </td><td>0  </td><td>...</td><td>0  </td><td>0  </td><td>0  </td><td>0  </td><td>0  </td><td>0  </td><td>0  </td><td>0  </td><td>0  </td><td>0  </td></tr>\n",
       "\t<tr><td>0  </td><td>0  </td><td>0  </td><td>0  </td><td>0  </td><td>0  </td><td>0  </td><td>0  </td><td>0  </td><td>0  </td><td>...</td><td>0  </td><td>0  </td><td>0  </td><td>0  </td><td>0  </td><td>0  </td><td>0  </td><td>0  </td><td>0  </td><td>0  </td></tr>\n",
       "\t<tr><td>0  </td><td>0  </td><td>0  </td><td>0  </td><td>0  </td><td>0  </td><td>0  </td><td>0  </td><td>0  </td><td>0  </td><td>...</td><td>0  </td><td>0  </td><td>0  </td><td>0  </td><td>0  </td><td>0  </td><td>0  </td><td>0  </td><td>0  </td><td>0  </td></tr>\n",
       "\t<tr><td>0  </td><td>0  </td><td>0  </td><td>0  </td><td>0  </td><td>0  </td><td>0  </td><td>0  </td><td>0  </td><td>0  </td><td>...</td><td>0  </td><td>0  </td><td>0  </td><td>0  </td><td>0  </td><td>0  </td><td>0  </td><td>0  </td><td>0  </td><td>0  </td></tr>\n",
       "\t<tr><td>0  </td><td>0  </td><td>0  </td><td>0  </td><td>0  </td><td>0  </td><td>0  </td><td>0  </td><td>0  </td><td>0  </td><td>...</td><td>0  </td><td>0  </td><td>0  </td><td>0  </td><td>0  </td><td>0  </td><td>0  </td><td>0  </td><td>0  </td><td>0  </td></tr>\n",
       "\t<tr><td>0  </td><td>0  </td><td>0  </td><td>0  </td><td>0  </td><td>0  </td><td>0  </td><td>0  </td><td>0  </td><td>0  </td><td>...</td><td>0  </td><td>0  </td><td>0  </td><td>0  </td><td>0  </td><td>0  </td><td>0  </td><td>0  </td><td>0  </td><td>0  </td></tr>\n",
       "\t<tr><td>0  </td><td>0  </td><td>0  </td><td>0  </td><td>0  </td><td>0  </td><td>0  </td><td>0  </td><td>0  </td><td>0  </td><td>...</td><td>0  </td><td>0  </td><td>0  </td><td>0  </td><td>0  </td><td>0  </td><td>0  </td><td>0  </td><td>0  </td><td>0  </td></tr>\n",
       "\t<tr><td>0  </td><td>0  </td><td>0  </td><td>0  </td><td>0  </td><td>0  </td><td>0  </td><td>0  </td><td>0  </td><td>0  </td><td>...</td><td>0  </td><td>0  </td><td>0  </td><td>0  </td><td>0  </td><td>0  </td><td>0  </td><td>0  </td><td>0  </td><td>0  </td></tr>\n",
       "\t<tr><td>0  </td><td>0  </td><td>0  </td><td>0  </td><td>0  </td><td>0  </td><td>0  </td><td>0  </td><td>0  </td><td>0  </td><td>...</td><td>0  </td><td>0  </td><td>0  </td><td>0  </td><td>0  </td><td>0  </td><td>0  </td><td>0  </td><td>0  </td><td>0  </td></tr>\n",
       "\t<tr><td>0  </td><td>0  </td><td>0  </td><td>0  </td><td>0  </td><td>0  </td><td>0  </td><td>0  </td><td>0  </td><td>0  </td><td>...</td><td>0  </td><td>0  </td><td>0  </td><td>0  </td><td>0  </td><td>0  </td><td>0  </td><td>0  </td><td>0  </td><td>0  </td></tr>\n",
       "\t<tr><td>0  </td><td>0  </td><td>0  </td><td>0  </td><td>0  </td><td>0  </td><td>0  </td><td>0  </td><td>0  </td><td>0  </td><td>...</td><td>0  </td><td>0  </td><td>0  </td><td>0  </td><td>0  </td><td>0  </td><td>0  </td><td>0  </td><td>0  </td><td>0  </td></tr>\n",
       "\t<tr><td>0  </td><td>0  </td><td>0  </td><td>0  </td><td>0  </td><td>0  </td><td>0  </td><td>0  </td><td>0  </td><td>0  </td><td>...</td><td>0  </td><td>0  </td><td>0  </td><td>0  </td><td>0  </td><td>0  </td><td>0  </td><td>0  </td><td>0  </td><td>0  </td></tr>\n",
       "\t<tr><td>0  </td><td>0  </td><td>0  </td><td>0  </td><td>0  </td><td>0  </td><td>0  </td><td>0  </td><td>0  </td><td>0  </td><td>...</td><td>0  </td><td>0  </td><td>0  </td><td>0  </td><td>0  </td><td>0  </td><td>0  </td><td>0  </td><td>0  </td><td>0  </td></tr>\n",
       "\t<tr><td>0  </td><td>0  </td><td>0  </td><td>0  </td><td>0  </td><td>0  </td><td>0  </td><td>0  </td><td>0  </td><td>0  </td><td>...</td><td>0  </td><td>0  </td><td>0  </td><td>0  </td><td>0  </td><td>0  </td><td>0  </td><td>0  </td><td>0  </td><td>0  </td></tr>\n",
       "\t<tr><td>0  </td><td>0  </td><td>0  </td><td>0  </td><td>0  </td><td>0  </td><td>0  </td><td>0  </td><td>0  </td><td>0  </td><td>...</td><td>0  </td><td>0  </td><td>0  </td><td>0  </td><td>0  </td><td>0  </td><td>0  </td><td>0  </td><td>0  </td><td>0  </td></tr>\n",
       "\t<tr><td>0  </td><td>0  </td><td>0  </td><td>0  </td><td>0  </td><td>0  </td><td>0  </td><td>0  </td><td>0  </td><td>0  </td><td>...</td><td>0  </td><td>0  </td><td>0  </td><td>0  </td><td>0  </td><td>0  </td><td>0  </td><td>0  </td><td>0  </td><td>0  </td></tr>\n",
       "\t<tr><td>0  </td><td>0  </td><td>0  </td><td>0  </td><td>0  </td><td>0  </td><td>0  </td><td>0  </td><td>0  </td><td>0  </td><td>...</td><td>0  </td><td>0  </td><td>0  </td><td>0  </td><td>0  </td><td>0  </td><td>0  </td><td>0  </td><td>0  </td><td>0  </td></tr>\n",
       "\t<tr><td>0  </td><td>0  </td><td>0  </td><td>0  </td><td>0  </td><td>0  </td><td>0  </td><td>0  </td><td>0  </td><td>0  </td><td>...</td><td>0  </td><td>0  </td><td>0  </td><td>0  </td><td>0  </td><td>0  </td><td>0  </td><td>0  </td><td>0  </td><td>0  </td></tr>\n",
       "\t<tr><td>0  </td><td>0  </td><td>0  </td><td>0  </td><td>0  </td><td>0  </td><td>0  </td><td>0  </td><td>0  </td><td>0  </td><td>...</td><td>0  </td><td>0  </td><td>0  </td><td>0  </td><td>0  </td><td>0  </td><td>0  </td><td>0  </td><td>0  </td><td>0  </td></tr>\n",
       "\t<tr><td>0  </td><td>0  </td><td>0  </td><td>0  </td><td>0  </td><td>0  </td><td>0  </td><td>0  </td><td>0  </td><td>0  </td><td>...</td><td>0  </td><td>0  </td><td>0  </td><td>0  </td><td>0  </td><td>0  </td><td>0  </td><td>0  </td><td>0  </td><td>0  </td></tr>\n",
       "\t<tr><td>0  </td><td>0  </td><td>0  </td><td>0  </td><td>0  </td><td>0  </td><td>0  </td><td>0  </td><td>0  </td><td>0  </td><td>...</td><td>1  </td><td>0  </td><td>0  </td><td>0  </td><td>0  </td><td>0  </td><td>0  </td><td>0  </td><td>0  </td><td>0  </td></tr>\n",
       "\t<tr><td>0  </td><td>0  </td><td>0  </td><td>0  </td><td>0  </td><td>0  </td><td>0  </td><td>0  </td><td>0  </td><td>0  </td><td>...</td><td>0  </td><td>1  </td><td>0  </td><td>0  </td><td>0  </td><td>0  </td><td>0  </td><td>0  </td><td>0  </td><td>0  </td></tr>\n",
       "\t<tr><td>0  </td><td>0  </td><td>0  </td><td>0  </td><td>0  </td><td>0  </td><td>0  </td><td>0  </td><td>0  </td><td>0  </td><td>...</td><td>0  </td><td>0  </td><td>1  </td><td>0  </td><td>0  </td><td>0  </td><td>0  </td><td>0  </td><td>0  </td><td>0  </td></tr>\n",
       "\t<tr><td>0  </td><td>0  </td><td>0  </td><td>0  </td><td>0  </td><td>0  </td><td>0  </td><td>0  </td><td>0  </td><td>0  </td><td>...</td><td>0  </td><td>0  </td><td>0  </td><td>1  </td><td>0  </td><td>0  </td><td>0  </td><td>0  </td><td>0  </td><td>0  </td></tr>\n",
       "\t<tr><td>0  </td><td>0  </td><td>0  </td><td>0  </td><td>0  </td><td>0  </td><td>0  </td><td>0  </td><td>0  </td><td>0  </td><td>...</td><td>0  </td><td>0  </td><td>0  </td><td>0  </td><td>1  </td><td>0  </td><td>0  </td><td>0  </td><td>0  </td><td>0  </td></tr>\n",
       "\t<tr><td>0  </td><td>0  </td><td>0  </td><td>0  </td><td>0  </td><td>0  </td><td>0  </td><td>0  </td><td>0  </td><td>0  </td><td>...</td><td>0  </td><td>0  </td><td>0  </td><td>0  </td><td>0  </td><td>1  </td><td>0  </td><td>0  </td><td>0  </td><td>0  </td></tr>\n",
       "\t<tr><td>0  </td><td>0  </td><td>0  </td><td>0  </td><td>0  </td><td>0  </td><td>0  </td><td>0  </td><td>0  </td><td>0  </td><td>...</td><td>0  </td><td>0  </td><td>0  </td><td>0  </td><td>0  </td><td>0  </td><td>1  </td><td>0  </td><td>0  </td><td>0  </td></tr>\n",
       "\t<tr><td>0  </td><td>0  </td><td>0  </td><td>0  </td><td>0  </td><td>0  </td><td>0  </td><td>0  </td><td>0  </td><td>0  </td><td>...</td><td>0  </td><td>0  </td><td>0  </td><td>0  </td><td>0  </td><td>0  </td><td>0  </td><td>1  </td><td>0  </td><td>0  </td></tr>\n",
       "\t<tr><td>0  </td><td>0  </td><td>0  </td><td>0  </td><td>0  </td><td>0  </td><td>0  </td><td>0  </td><td>0  </td><td>0  </td><td>...</td><td>0  </td><td>0  </td><td>0  </td><td>0  </td><td>0  </td><td>0  </td><td>0  </td><td>0  </td><td>1  </td><td>0  </td></tr>\n",
       "\t<tr><td>0  </td><td>0  </td><td>0  </td><td>0  </td><td>0  </td><td>0  </td><td>0  </td><td>0  </td><td>0  </td><td>0  </td><td>...</td><td>0  </td><td>0  </td><td>0  </td><td>0  </td><td>0  </td><td>0  </td><td>0  </td><td>0  </td><td>0  </td><td>1  </td></tr>\n",
       "</tbody>\n",
       "</table>\n"
      ],
      "text/latex": [
       "\\begin{tabular}{llllllllllllllllllllllllllllllllllllllllllllllllllllllllllllllllllllllllllllllllllllllllllllllllllllllllllllllllllllllllllllllllllllllllllllllllllllllllllllllllllllllllllllllllllllllllllllllllllllllllllllllllllllllllllllllllllllllllllllllllllllllllllllllllllllllllllllllllllllllllllllllllllllllllllllllllllllllllllllllllllllllllllllllllllllllllllllllllllllllllllllllllllllllllllllllllllllllllllllllllllllllllllllllllllllllllllllllllllllllllllllllllllllllllllllllllllllllllllllllllllllllllllllllllllll}\n",
       "\t 1   & 0   & 0   & 0   & 0   & 0   & 0   & 0   & 0   & 0   & ... & 0   & 0   & 0   & 0   & 0   & 0   & 0   & 0   & 0   & 0  \\\\\n",
       "\t 0   & 1   & 0   & 0   & 0   & 0   & 0   & 0   & 0   & 0   & ... & 0   & 0   & 0   & 0   & 0   & 0   & 0   & 0   & 0   & 0  \\\\\n",
       "\t 0   & 0   & 1   & 0   & 0   & 0   & 0   & 0   & 0   & 0   & ... & 0   & 0   & 0   & 0   & 0   & 0   & 0   & 0   & 0   & 0  \\\\\n",
       "\t 0   & 0   & 0   & 1   & 0   & 0   & 0   & 0   & 0   & 0   & ... & 0   & 0   & 0   & 0   & 0   & 0   & 0   & 0   & 0   & 0  \\\\\n",
       "\t 0   & 0   & 0   & 0   & 1   & 0   & 0   & 0   & 0   & 0   & ... & 0   & 0   & 0   & 0   & 0   & 0   & 0   & 0   & 0   & 0  \\\\\n",
       "\t 0   & 0   & 0   & 0   & 0   & 1   & 0   & 0   & 0   & 0   & ... & 0   & 0   & 0   & 0   & 0   & 0   & 0   & 0   & 0   & 0  \\\\\n",
       "\t 0   & 0   & 0   & 0   & 0   & 0   & 1   & 0   & 0   & 0   & ... & 0   & 0   & 0   & 0   & 0   & 0   & 0   & 0   & 0   & 0  \\\\\n",
       "\t 0   & 0   & 0   & 0   & 0   & 0   & 0   & 1   & 0   & 0   & ... & 0   & 0   & 0   & 0   & 0   & 0   & 0   & 0   & 0   & 0  \\\\\n",
       "\t 0   & 0   & 0   & 0   & 0   & 0   & 0   & 0   & 1   & 0   & ... & 0   & 0   & 0   & 0   & 0   & 0   & 0   & 0   & 0   & 0  \\\\\n",
       "\t 0   & 0   & 0   & 0   & 0   & 0   & 0   & 0   & 0   & 1   & ... & 0   & 0   & 0   & 0   & 0   & 0   & 0   & 0   & 0   & 0  \\\\\n",
       "\t 0   & 0   & 0   & 0   & 0   & 0   & 0   & 0   & 0   & 0   & ... & 0   & 0   & 0   & 0   & 0   & 0   & 0   & 0   & 0   & 0  \\\\\n",
       "\t 0   & 0   & 0   & 0   & 0   & 0   & 0   & 0   & 0   & 0   & ... & 0   & 0   & 0   & 0   & 0   & 0   & 0   & 0   & 0   & 0  \\\\\n",
       "\t 0   & 0   & 0   & 0   & 0   & 0   & 0   & 0   & 0   & 0   & ... & 0   & 0   & 0   & 0   & 0   & 0   & 0   & 0   & 0   & 0  \\\\\n",
       "\t 0   & 0   & 0   & 0   & 0   & 0   & 0   & 0   & 0   & 0   & ... & 0   & 0   & 0   & 0   & 0   & 0   & 0   & 0   & 0   & 0  \\\\\n",
       "\t 0   & 0   & 0   & 0   & 0   & 0   & 0   & 0   & 0   & 0   & ... & 0   & 0   & 0   & 0   & 0   & 0   & 0   & 0   & 0   & 0  \\\\\n",
       "\t 0   & 0   & 0   & 0   & 0   & 0   & 0   & 0   & 0   & 0   & ... & 0   & 0   & 0   & 0   & 0   & 0   & 0   & 0   & 0   & 0  \\\\\n",
       "\t 0   & 0   & 0   & 0   & 0   & 0   & 0   & 0   & 0   & 0   & ... & 0   & 0   & 0   & 0   & 0   & 0   & 0   & 0   & 0   & 0  \\\\\n",
       "\t 0   & 0   & 0   & 0   & 0   & 0   & 0   & 0   & 0   & 0   & ... & 0   & 0   & 0   & 0   & 0   & 0   & 0   & 0   & 0   & 0  \\\\\n",
       "\t 0   & 0   & 0   & 0   & 0   & 0   & 0   & 0   & 0   & 0   & ... & 0   & 0   & 0   & 0   & 0   & 0   & 0   & 0   & 0   & 0  \\\\\n",
       "\t 0   & 0   & 0   & 0   & 0   & 0   & 0   & 0   & 0   & 0   & ... & 0   & 0   & 0   & 0   & 0   & 0   & 0   & 0   & 0   & 0  \\\\\n",
       "\t 0   & 0   & 0   & 0   & 0   & 0   & 0   & 0   & 0   & 0   & ... & 0   & 0   & 0   & 0   & 0   & 0   & 0   & 0   & 0   & 0  \\\\\n",
       "\t 0   & 0   & 0   & 0   & 0   & 0   & 0   & 0   & 0   & 0   & ... & 0   & 0   & 0   & 0   & 0   & 0   & 0   & 0   & 0   & 0  \\\\\n",
       "\t 0   & 0   & 0   & 0   & 0   & 0   & 0   & 0   & 0   & 0   & ... & 0   & 0   & 0   & 0   & 0   & 0   & 0   & 0   & 0   & 0  \\\\\n",
       "\t 0   & 0   & 0   & 0   & 0   & 0   & 0   & 0   & 0   & 0   & ... & 0   & 0   & 0   & 0   & 0   & 0   & 0   & 0   & 0   & 0  \\\\\n",
       "\t 0   & 0   & 0   & 0   & 0   & 0   & 0   & 0   & 0   & 0   & ... & 0   & 0   & 0   & 0   & 0   & 0   & 0   & 0   & 0   & 0  \\\\\n",
       "\t 0   & 0   & 0   & 0   & 0   & 0   & 0   & 0   & 0   & 0   & ... & 0   & 0   & 0   & 0   & 0   & 0   & 0   & 0   & 0   & 0  \\\\\n",
       "\t 0   & 0   & 0   & 0   & 0   & 0   & 0   & 0   & 0   & 0   & ... & 0   & 0   & 0   & 0   & 0   & 0   & 0   & 0   & 0   & 0  \\\\\n",
       "\t 0   & 0   & 0   & 0   & 0   & 0   & 0   & 0   & 0   & 0   & ... & 0   & 0   & 0   & 0   & 0   & 0   & 0   & 0   & 0   & 0  \\\\\n",
       "\t 0   & 0   & 0   & 0   & 0   & 0   & 0   & 0   & 0   & 0   & ... & 0   & 0   & 0   & 0   & 0   & 0   & 0   & 0   & 0   & 0  \\\\\n",
       "\t 0   & 0   & 0   & 0   & 0   & 0   & 0   & 0   & 0   & 0   & ... & 0   & 0   & 0   & 0   & 0   & 0   & 0   & 0   & 0   & 0  \\\\\n",
       "\t ... & ... & ... & ... & ... & ... & ... & ... & ... & ... &     & ... & ... & ... & ... & ... & ... & ... & ... & ... & ...\\\\\n",
       "\t 0   & 0   & 0   & 0   & 0   & 0   & 0   & 0   & 0   & 0   & ... & 0   & 0   & 0   & 0   & 0   & 0   & 0   & 0   & 0   & 0  \\\\\n",
       "\t 0   & 0   & 0   & 0   & 0   & 0   & 0   & 0   & 0   & 0   & ... & 0   & 0   & 0   & 0   & 0   & 0   & 0   & 0   & 0   & 0  \\\\\n",
       "\t 0   & 0   & 0   & 0   & 0   & 0   & 0   & 0   & 0   & 0   & ... & 0   & 0   & 0   & 0   & 0   & 0   & 0   & 0   & 0   & 0  \\\\\n",
       "\t 0   & 0   & 0   & 0   & 0   & 0   & 0   & 0   & 0   & 0   & ... & 0   & 0   & 0   & 0   & 0   & 0   & 0   & 0   & 0   & 0  \\\\\n",
       "\t 0   & 0   & 0   & 0   & 0   & 0   & 0   & 0   & 0   & 0   & ... & 0   & 0   & 0   & 0   & 0   & 0   & 0   & 0   & 0   & 0  \\\\\n",
       "\t 0   & 0   & 0   & 0   & 0   & 0   & 0   & 0   & 0   & 0   & ... & 0   & 0   & 0   & 0   & 0   & 0   & 0   & 0   & 0   & 0  \\\\\n",
       "\t 0   & 0   & 0   & 0   & 0   & 0   & 0   & 0   & 0   & 0   & ... & 0   & 0   & 0   & 0   & 0   & 0   & 0   & 0   & 0   & 0  \\\\\n",
       "\t 0   & 0   & 0   & 0   & 0   & 0   & 0   & 0   & 0   & 0   & ... & 0   & 0   & 0   & 0   & 0   & 0   & 0   & 0   & 0   & 0  \\\\\n",
       "\t 0   & 0   & 0   & 0   & 0   & 0   & 0   & 0   & 0   & 0   & ... & 0   & 0   & 0   & 0   & 0   & 0   & 0   & 0   & 0   & 0  \\\\\n",
       "\t 0   & 0   & 0   & 0   & 0   & 0   & 0   & 0   & 0   & 0   & ... & 0   & 0   & 0   & 0   & 0   & 0   & 0   & 0   & 0   & 0  \\\\\n",
       "\t 0   & 0   & 0   & 0   & 0   & 0   & 0   & 0   & 0   & 0   & ... & 0   & 0   & 0   & 0   & 0   & 0   & 0   & 0   & 0   & 0  \\\\\n",
       "\t 0   & 0   & 0   & 0   & 0   & 0   & 0   & 0   & 0   & 0   & ... & 0   & 0   & 0   & 0   & 0   & 0   & 0   & 0   & 0   & 0  \\\\\n",
       "\t 0   & 0   & 0   & 0   & 0   & 0   & 0   & 0   & 0   & 0   & ... & 0   & 0   & 0   & 0   & 0   & 0   & 0   & 0   & 0   & 0  \\\\\n",
       "\t 0   & 0   & 0   & 0   & 0   & 0   & 0   & 0   & 0   & 0   & ... & 0   & 0   & 0   & 0   & 0   & 0   & 0   & 0   & 0   & 0  \\\\\n",
       "\t 0   & 0   & 0   & 0   & 0   & 0   & 0   & 0   & 0   & 0   & ... & 0   & 0   & 0   & 0   & 0   & 0   & 0   & 0   & 0   & 0  \\\\\n",
       "\t 0   & 0   & 0   & 0   & 0   & 0   & 0   & 0   & 0   & 0   & ... & 0   & 0   & 0   & 0   & 0   & 0   & 0   & 0   & 0   & 0  \\\\\n",
       "\t 0   & 0   & 0   & 0   & 0   & 0   & 0   & 0   & 0   & 0   & ... & 0   & 0   & 0   & 0   & 0   & 0   & 0   & 0   & 0   & 0  \\\\\n",
       "\t 0   & 0   & 0   & 0   & 0   & 0   & 0   & 0   & 0   & 0   & ... & 0   & 0   & 0   & 0   & 0   & 0   & 0   & 0   & 0   & 0  \\\\\n",
       "\t 0   & 0   & 0   & 0   & 0   & 0   & 0   & 0   & 0   & 0   & ... & 0   & 0   & 0   & 0   & 0   & 0   & 0   & 0   & 0   & 0  \\\\\n",
       "\t 0   & 0   & 0   & 0   & 0   & 0   & 0   & 0   & 0   & 0   & ... & 0   & 0   & 0   & 0   & 0   & 0   & 0   & 0   & 0   & 0  \\\\\n",
       "\t 0   & 0   & 0   & 0   & 0   & 0   & 0   & 0   & 0   & 0   & ... & 1   & 0   & 0   & 0   & 0   & 0   & 0   & 0   & 0   & 0  \\\\\n",
       "\t 0   & 0   & 0   & 0   & 0   & 0   & 0   & 0   & 0   & 0   & ... & 0   & 1   & 0   & 0   & 0   & 0   & 0   & 0   & 0   & 0  \\\\\n",
       "\t 0   & 0   & 0   & 0   & 0   & 0   & 0   & 0   & 0   & 0   & ... & 0   & 0   & 1   & 0   & 0   & 0   & 0   & 0   & 0   & 0  \\\\\n",
       "\t 0   & 0   & 0   & 0   & 0   & 0   & 0   & 0   & 0   & 0   & ... & 0   & 0   & 0   & 1   & 0   & 0   & 0   & 0   & 0   & 0  \\\\\n",
       "\t 0   & 0   & 0   & 0   & 0   & 0   & 0   & 0   & 0   & 0   & ... & 0   & 0   & 0   & 0   & 1   & 0   & 0   & 0   & 0   & 0  \\\\\n",
       "\t 0   & 0   & 0   & 0   & 0   & 0   & 0   & 0   & 0   & 0   & ... & 0   & 0   & 0   & 0   & 0   & 1   & 0   & 0   & 0   & 0  \\\\\n",
       "\t 0   & 0   & 0   & 0   & 0   & 0   & 0   & 0   & 0   & 0   & ... & 0   & 0   & 0   & 0   & 0   & 0   & 1   & 0   & 0   & 0  \\\\\n",
       "\t 0   & 0   & 0   & 0   & 0   & 0   & 0   & 0   & 0   & 0   & ... & 0   & 0   & 0   & 0   & 0   & 0   & 0   & 1   & 0   & 0  \\\\\n",
       "\t 0   & 0   & 0   & 0   & 0   & 0   & 0   & 0   & 0   & 0   & ... & 0   & 0   & 0   & 0   & 0   & 0   & 0   & 0   & 1   & 0  \\\\\n",
       "\t 0   & 0   & 0   & 0   & 0   & 0   & 0   & 0   & 0   & 0   & ... & 0   & 0   & 0   & 0   & 0   & 0   & 0   & 0   & 0   & 1  \\\\\n",
       "\\end{tabular}\n"
      ],
      "text/markdown": [
       "\n",
       "| 1   | 0   | 0   | 0   | 0   | 0   | 0   | 0   | 0   | 0   | ... | 0   | 0   | 0   | 0   | 0   | 0   | 0   | 0   | 0   | 0   |\n",
       "| 0   | 1   | 0   | 0   | 0   | 0   | 0   | 0   | 0   | 0   | ... | 0   | 0   | 0   | 0   | 0   | 0   | 0   | 0   | 0   | 0   |\n",
       "| 0   | 0   | 1   | 0   | 0   | 0   | 0   | 0   | 0   | 0   | ... | 0   | 0   | 0   | 0   | 0   | 0   | 0   | 0   | 0   | 0   |\n",
       "| 0   | 0   | 0   | 1   | 0   | 0   | 0   | 0   | 0   | 0   | ... | 0   | 0   | 0   | 0   | 0   | 0   | 0   | 0   | 0   | 0   |\n",
       "| 0   | 0   | 0   | 0   | 1   | 0   | 0   | 0   | 0   | 0   | ... | 0   | 0   | 0   | 0   | 0   | 0   | 0   | 0   | 0   | 0   |\n",
       "| 0   | 0   | 0   | 0   | 0   | 1   | 0   | 0   | 0   | 0   | ... | 0   | 0   | 0   | 0   | 0   | 0   | 0   | 0   | 0   | 0   |\n",
       "| 0   | 0   | 0   | 0   | 0   | 0   | 1   | 0   | 0   | 0   | ... | 0   | 0   | 0   | 0   | 0   | 0   | 0   | 0   | 0   | 0   |\n",
       "| 0   | 0   | 0   | 0   | 0   | 0   | 0   | 1   | 0   | 0   | ... | 0   | 0   | 0   | 0   | 0   | 0   | 0   | 0   | 0   | 0   |\n",
       "| 0   | 0   | 0   | 0   | 0   | 0   | 0   | 0   | 1   | 0   | ... | 0   | 0   | 0   | 0   | 0   | 0   | 0   | 0   | 0   | 0   |\n",
       "| 0   | 0   | 0   | 0   | 0   | 0   | 0   | 0   | 0   | 1   | ... | 0   | 0   | 0   | 0   | 0   | 0   | 0   | 0   | 0   | 0   |\n",
       "| 0   | 0   | 0   | 0   | 0   | 0   | 0   | 0   | 0   | 0   | ... | 0   | 0   | 0   | 0   | 0   | 0   | 0   | 0   | 0   | 0   |\n",
       "| 0   | 0   | 0   | 0   | 0   | 0   | 0   | 0   | 0   | 0   | ... | 0   | 0   | 0   | 0   | 0   | 0   | 0   | 0   | 0   | 0   |\n",
       "| 0   | 0   | 0   | 0   | 0   | 0   | 0   | 0   | 0   | 0   | ... | 0   | 0   | 0   | 0   | 0   | 0   | 0   | 0   | 0   | 0   |\n",
       "| 0   | 0   | 0   | 0   | 0   | 0   | 0   | 0   | 0   | 0   | ... | 0   | 0   | 0   | 0   | 0   | 0   | 0   | 0   | 0   | 0   |\n",
       "| 0   | 0   | 0   | 0   | 0   | 0   | 0   | 0   | 0   | 0   | ... | 0   | 0   | 0   | 0   | 0   | 0   | 0   | 0   | 0   | 0   |\n",
       "| 0   | 0   | 0   | 0   | 0   | 0   | 0   | 0   | 0   | 0   | ... | 0   | 0   | 0   | 0   | 0   | 0   | 0   | 0   | 0   | 0   |\n",
       "| 0   | 0   | 0   | 0   | 0   | 0   | 0   | 0   | 0   | 0   | ... | 0   | 0   | 0   | 0   | 0   | 0   | 0   | 0   | 0   | 0   |\n",
       "| 0   | 0   | 0   | 0   | 0   | 0   | 0   | 0   | 0   | 0   | ... | 0   | 0   | 0   | 0   | 0   | 0   | 0   | 0   | 0   | 0   |\n",
       "| 0   | 0   | 0   | 0   | 0   | 0   | 0   | 0   | 0   | 0   | ... | 0   | 0   | 0   | 0   | 0   | 0   | 0   | 0   | 0   | 0   |\n",
       "| 0   | 0   | 0   | 0   | 0   | 0   | 0   | 0   | 0   | 0   | ... | 0   | 0   | 0   | 0   | 0   | 0   | 0   | 0   | 0   | 0   |\n",
       "| 0   | 0   | 0   | 0   | 0   | 0   | 0   | 0   | 0   | 0   | ... | 0   | 0   | 0   | 0   | 0   | 0   | 0   | 0   | 0   | 0   |\n",
       "| 0   | 0   | 0   | 0   | 0   | 0   | 0   | 0   | 0   | 0   | ... | 0   | 0   | 0   | 0   | 0   | 0   | 0   | 0   | 0   | 0   |\n",
       "| 0   | 0   | 0   | 0   | 0   | 0   | 0   | 0   | 0   | 0   | ... | 0   | 0   | 0   | 0   | 0   | 0   | 0   | 0   | 0   | 0   |\n",
       "| 0   | 0   | 0   | 0   | 0   | 0   | 0   | 0   | 0   | 0   | ... | 0   | 0   | 0   | 0   | 0   | 0   | 0   | 0   | 0   | 0   |\n",
       "| 0   | 0   | 0   | 0   | 0   | 0   | 0   | 0   | 0   | 0   | ... | 0   | 0   | 0   | 0   | 0   | 0   | 0   | 0   | 0   | 0   |\n",
       "| 0   | 0   | 0   | 0   | 0   | 0   | 0   | 0   | 0   | 0   | ... | 0   | 0   | 0   | 0   | 0   | 0   | 0   | 0   | 0   | 0   |\n",
       "| 0   | 0   | 0   | 0   | 0   | 0   | 0   | 0   | 0   | 0   | ... | 0   | 0   | 0   | 0   | 0   | 0   | 0   | 0   | 0   | 0   |\n",
       "| 0   | 0   | 0   | 0   | 0   | 0   | 0   | 0   | 0   | 0   | ... | 0   | 0   | 0   | 0   | 0   | 0   | 0   | 0   | 0   | 0   |\n",
       "| 0   | 0   | 0   | 0   | 0   | 0   | 0   | 0   | 0   | 0   | ... | 0   | 0   | 0   | 0   | 0   | 0   | 0   | 0   | 0   | 0   |\n",
       "| 0   | 0   | 0   | 0   | 0   | 0   | 0   | 0   | 0   | 0   | ... | 0   | 0   | 0   | 0   | 0   | 0   | 0   | 0   | 0   | 0   |\n",
       "| ... | ... | ... | ... | ... | ... | ... | ... | ... | ... |     | ... | ... | ... | ... | ... | ... | ... | ... | ... | ... |\n",
       "| 0   | 0   | 0   | 0   | 0   | 0   | 0   | 0   | 0   | 0   | ... | 0   | 0   | 0   | 0   | 0   | 0   | 0   | 0   | 0   | 0   |\n",
       "| 0   | 0   | 0   | 0   | 0   | 0   | 0   | 0   | 0   | 0   | ... | 0   | 0   | 0   | 0   | 0   | 0   | 0   | 0   | 0   | 0   |\n",
       "| 0   | 0   | 0   | 0   | 0   | 0   | 0   | 0   | 0   | 0   | ... | 0   | 0   | 0   | 0   | 0   | 0   | 0   | 0   | 0   | 0   |\n",
       "| 0   | 0   | 0   | 0   | 0   | 0   | 0   | 0   | 0   | 0   | ... | 0   | 0   | 0   | 0   | 0   | 0   | 0   | 0   | 0   | 0   |\n",
       "| 0   | 0   | 0   | 0   | 0   | 0   | 0   | 0   | 0   | 0   | ... | 0   | 0   | 0   | 0   | 0   | 0   | 0   | 0   | 0   | 0   |\n",
       "| 0   | 0   | 0   | 0   | 0   | 0   | 0   | 0   | 0   | 0   | ... | 0   | 0   | 0   | 0   | 0   | 0   | 0   | 0   | 0   | 0   |\n",
       "| 0   | 0   | 0   | 0   | 0   | 0   | 0   | 0   | 0   | 0   | ... | 0   | 0   | 0   | 0   | 0   | 0   | 0   | 0   | 0   | 0   |\n",
       "| 0   | 0   | 0   | 0   | 0   | 0   | 0   | 0   | 0   | 0   | ... | 0   | 0   | 0   | 0   | 0   | 0   | 0   | 0   | 0   | 0   |\n",
       "| 0   | 0   | 0   | 0   | 0   | 0   | 0   | 0   | 0   | 0   | ... | 0   | 0   | 0   | 0   | 0   | 0   | 0   | 0   | 0   | 0   |\n",
       "| 0   | 0   | 0   | 0   | 0   | 0   | 0   | 0   | 0   | 0   | ... | 0   | 0   | 0   | 0   | 0   | 0   | 0   | 0   | 0   | 0   |\n",
       "| 0   | 0   | 0   | 0   | 0   | 0   | 0   | 0   | 0   | 0   | ... | 0   | 0   | 0   | 0   | 0   | 0   | 0   | 0   | 0   | 0   |\n",
       "| 0   | 0   | 0   | 0   | 0   | 0   | 0   | 0   | 0   | 0   | ... | 0   | 0   | 0   | 0   | 0   | 0   | 0   | 0   | 0   | 0   |\n",
       "| 0   | 0   | 0   | 0   | 0   | 0   | 0   | 0   | 0   | 0   | ... | 0   | 0   | 0   | 0   | 0   | 0   | 0   | 0   | 0   | 0   |\n",
       "| 0   | 0   | 0   | 0   | 0   | 0   | 0   | 0   | 0   | 0   | ... | 0   | 0   | 0   | 0   | 0   | 0   | 0   | 0   | 0   | 0   |\n",
       "| 0   | 0   | 0   | 0   | 0   | 0   | 0   | 0   | 0   | 0   | ... | 0   | 0   | 0   | 0   | 0   | 0   | 0   | 0   | 0   | 0   |\n",
       "| 0   | 0   | 0   | 0   | 0   | 0   | 0   | 0   | 0   | 0   | ... | 0   | 0   | 0   | 0   | 0   | 0   | 0   | 0   | 0   | 0   |\n",
       "| 0   | 0   | 0   | 0   | 0   | 0   | 0   | 0   | 0   | 0   | ... | 0   | 0   | 0   | 0   | 0   | 0   | 0   | 0   | 0   | 0   |\n",
       "| 0   | 0   | 0   | 0   | 0   | 0   | 0   | 0   | 0   | 0   | ... | 0   | 0   | 0   | 0   | 0   | 0   | 0   | 0   | 0   | 0   |\n",
       "| 0   | 0   | 0   | 0   | 0   | 0   | 0   | 0   | 0   | 0   | ... | 0   | 0   | 0   | 0   | 0   | 0   | 0   | 0   | 0   | 0   |\n",
       "| 0   | 0   | 0   | 0   | 0   | 0   | 0   | 0   | 0   | 0   | ... | 0   | 0   | 0   | 0   | 0   | 0   | 0   | 0   | 0   | 0   |\n",
       "| 0   | 0   | 0   | 0   | 0   | 0   | 0   | 0   | 0   | 0   | ... | 1   | 0   | 0   | 0   | 0   | 0   | 0   | 0   | 0   | 0   |\n",
       "| 0   | 0   | 0   | 0   | 0   | 0   | 0   | 0   | 0   | 0   | ... | 0   | 1   | 0   | 0   | 0   | 0   | 0   | 0   | 0   | 0   |\n",
       "| 0   | 0   | 0   | 0   | 0   | 0   | 0   | 0   | 0   | 0   | ... | 0   | 0   | 1   | 0   | 0   | 0   | 0   | 0   | 0   | 0   |\n",
       "| 0   | 0   | 0   | 0   | 0   | 0   | 0   | 0   | 0   | 0   | ... | 0   | 0   | 0   | 1   | 0   | 0   | 0   | 0   | 0   | 0   |\n",
       "| 0   | 0   | 0   | 0   | 0   | 0   | 0   | 0   | 0   | 0   | ... | 0   | 0   | 0   | 0   | 1   | 0   | 0   | 0   | 0   | 0   |\n",
       "| 0   | 0   | 0   | 0   | 0   | 0   | 0   | 0   | 0   | 0   | ... | 0   | 0   | 0   | 0   | 0   | 1   | 0   | 0   | 0   | 0   |\n",
       "| 0   | 0   | 0   | 0   | 0   | 0   | 0   | 0   | 0   | 0   | ... | 0   | 0   | 0   | 0   | 0   | 0   | 1   | 0   | 0   | 0   |\n",
       "| 0   | 0   | 0   | 0   | 0   | 0   | 0   | 0   | 0   | 0   | ... | 0   | 0   | 0   | 0   | 0   | 0   | 0   | 1   | 0   | 0   |\n",
       "| 0   | 0   | 0   | 0   | 0   | 0   | 0   | 0   | 0   | 0   | ... | 0   | 0   | 0   | 0   | 0   | 0   | 0   | 0   | 1   | 0   |\n",
       "| 0   | 0   | 0   | 0   | 0   | 0   | 0   | 0   | 0   | 0   | ... | 0   | 0   | 0   | 0   | 0   | 0   | 0   | 0   | 0   | 1   |\n",
       "\n"
      ],
      "text/plain": [
       "      [,1] [,2] [,3] [,4] [,5] [,6] [,7] [,8] [,9] [,10] [,11] [,12] [,13]\n",
       " [1,] 1    0    0    0    0    0    0    0    0    0     ...   0     0    \n",
       " [2,] 0    1    0    0    0    0    0    0    0    0     ...   0     0    \n",
       " [3,] 0    0    1    0    0    0    0    0    0    0     ...   0     0    \n",
       " [4,] 0    0    0    1    0    0    0    0    0    0     ...   0     0    \n",
       " [5,] 0    0    0    0    1    0    0    0    0    0     ...   0     0    \n",
       " [6,] 0    0    0    0    0    1    0    0    0    0     ...   0     0    \n",
       " [7,] 0    0    0    0    0    0    1    0    0    0     ...   0     0    \n",
       " [8,] 0    0    0    0    0    0    0    1    0    0     ...   0     0    \n",
       " [9,] 0    0    0    0    0    0    0    0    1    0     ...   0     0    \n",
       "[10,] 0    0    0    0    0    0    0    0    0    1     ...   0     0    \n",
       "[11,] 0    0    0    0    0    0    0    0    0    0     ...   0     0    \n",
       "[12,] 0    0    0    0    0    0    0    0    0    0     ...   0     0    \n",
       "[13,] 0    0    0    0    0    0    0    0    0    0     ...   0     0    \n",
       "[14,] 0    0    0    0    0    0    0    0    0    0     ...   0     0    \n",
       "[15,] 0    0    0    0    0    0    0    0    0    0     ...   0     0    \n",
       "[16,] 0    0    0    0    0    0    0    0    0    0     ...   0     0    \n",
       "[17,] 0    0    0    0    0    0    0    0    0    0     ...   0     0    \n",
       "[18,] 0    0    0    0    0    0    0    0    0    0     ...   0     0    \n",
       "[19,] 0    0    0    0    0    0    0    0    0    0     ...   0     0    \n",
       "[20,] 0    0    0    0    0    0    0    0    0    0     ...   0     0    \n",
       "[21,] 0    0    0    0    0    0    0    0    0    0     ...   0     0    \n",
       "[22,] 0    0    0    0    0    0    0    0    0    0     ...   0     0    \n",
       "[23,] 0    0    0    0    0    0    0    0    0    0     ...   0     0    \n",
       "[24,] 0    0    0    0    0    0    0    0    0    0     ...   0     0    \n",
       "[25,] 0    0    0    0    0    0    0    0    0    0     ...   0     0    \n",
       "[26,] 0    0    0    0    0    0    0    0    0    0     ...   0     0    \n",
       "[27,] 0    0    0    0    0    0    0    0    0    0     ...   0     0    \n",
       "[28,] 0    0    0    0    0    0    0    0    0    0     ...   0     0    \n",
       "[29,] 0    0    0    0    0    0    0    0    0    0     ...   0     0    \n",
       "[30,] 0    0    0    0    0    0    0    0    0    0     ...   0     0    \n",
       "[31,] ...  ...  ...  ...  ...  ...  ...  ...  ...  ...         ...   ...  \n",
       "[32,] 0    0    0    0    0    0    0    0    0    0     ...   0     0    \n",
       "[33,] 0    0    0    0    0    0    0    0    0    0     ...   0     0    \n",
       "[34,] 0    0    0    0    0    0    0    0    0    0     ...   0     0    \n",
       "[35,] 0    0    0    0    0    0    0    0    0    0     ...   0     0    \n",
       "[36,] 0    0    0    0    0    0    0    0    0    0     ...   0     0    \n",
       "[37,] 0    0    0    0    0    0    0    0    0    0     ...   0     0    \n",
       "[38,] 0    0    0    0    0    0    0    0    0    0     ...   0     0    \n",
       "[39,] 0    0    0    0    0    0    0    0    0    0     ...   0     0    \n",
       "[40,] 0    0    0    0    0    0    0    0    0    0     ...   0     0    \n",
       "[41,] 0    0    0    0    0    0    0    0    0    0     ...   0     0    \n",
       "[42,] 0    0    0    0    0    0    0    0    0    0     ...   0     0    \n",
       "[43,] 0    0    0    0    0    0    0    0    0    0     ...   0     0    \n",
       "[44,] 0    0    0    0    0    0    0    0    0    0     ...   0     0    \n",
       "[45,] 0    0    0    0    0    0    0    0    0    0     ...   0     0    \n",
       "[46,] 0    0    0    0    0    0    0    0    0    0     ...   0     0    \n",
       "[47,] 0    0    0    0    0    0    0    0    0    0     ...   0     0    \n",
       "[48,] 0    0    0    0    0    0    0    0    0    0     ...   0     0    \n",
       "[49,] 0    0    0    0    0    0    0    0    0    0     ...   0     0    \n",
       "[50,] 0    0    0    0    0    0    0    0    0    0     ...   0     0    \n",
       "[51,] 0    0    0    0    0    0    0    0    0    0     ...   0     0    \n",
       "[52,] 0    0    0    0    0    0    0    0    0    0     ...   1     0    \n",
       "[53,] 0    0    0    0    0    0    0    0    0    0     ...   0     1    \n",
       "[54,] 0    0    0    0    0    0    0    0    0    0     ...   0     0    \n",
       "[55,] 0    0    0    0    0    0    0    0    0    0     ...   0     0    \n",
       "[56,] 0    0    0    0    0    0    0    0    0    0     ...   0     0    \n",
       "[57,] 0    0    0    0    0    0    0    0    0    0     ...   0     0    \n",
       "[58,] 0    0    0    0    0    0    0    0    0    0     ...   0     0    \n",
       "[59,] 0    0    0    0    0    0    0    0    0    0     ...   0     0    \n",
       "[60,] 0    0    0    0    0    0    0    0    0    0     ...   0     0    \n",
       "[61,] 0    0    0    0    0    0    0    0    0    0     ...   0     0    \n",
       "      [,14] [,15] [,16] [,17] [,18] [,19] [,20] [,21]\n",
       " [1,] 0     0     0     0     0     0     0     0    \n",
       " [2,] 0     0     0     0     0     0     0     0    \n",
       " [3,] 0     0     0     0     0     0     0     0    \n",
       " [4,] 0     0     0     0     0     0     0     0    \n",
       " [5,] 0     0     0     0     0     0     0     0    \n",
       " [6,] 0     0     0     0     0     0     0     0    \n",
       " [7,] 0     0     0     0     0     0     0     0    \n",
       " [8,] 0     0     0     0     0     0     0     0    \n",
       " [9,] 0     0     0     0     0     0     0     0    \n",
       "[10,] 0     0     0     0     0     0     0     0    \n",
       "[11,] 0     0     0     0     0     0     0     0    \n",
       "[12,] 0     0     0     0     0     0     0     0    \n",
       "[13,] 0     0     0     0     0     0     0     0    \n",
       "[14,] 0     0     0     0     0     0     0     0    \n",
       "[15,] 0     0     0     0     0     0     0     0    \n",
       "[16,] 0     0     0     0     0     0     0     0    \n",
       "[17,] 0     0     0     0     0     0     0     0    \n",
       "[18,] 0     0     0     0     0     0     0     0    \n",
       "[19,] 0     0     0     0     0     0     0     0    \n",
       "[20,] 0     0     0     0     0     0     0     0    \n",
       "[21,] 0     0     0     0     0     0     0     0    \n",
       "[22,] 0     0     0     0     0     0     0     0    \n",
       "[23,] 0     0     0     0     0     0     0     0    \n",
       "[24,] 0     0     0     0     0     0     0     0    \n",
       "[25,] 0     0     0     0     0     0     0     0    \n",
       "[26,] 0     0     0     0     0     0     0     0    \n",
       "[27,] 0     0     0     0     0     0     0     0    \n",
       "[28,] 0     0     0     0     0     0     0     0    \n",
       "[29,] 0     0     0     0     0     0     0     0    \n",
       "[30,] 0     0     0     0     0     0     0     0    \n",
       "[31,] ...   ...   ...   ...   ...   ...   ...   ...  \n",
       "[32,] 0     0     0     0     0     0     0     0    \n",
       "[33,] 0     0     0     0     0     0     0     0    \n",
       "[34,] 0     0     0     0     0     0     0     0    \n",
       "[35,] 0     0     0     0     0     0     0     0    \n",
       "[36,] 0     0     0     0     0     0     0     0    \n",
       "[37,] 0     0     0     0     0     0     0     0    \n",
       "[38,] 0     0     0     0     0     0     0     0    \n",
       "[39,] 0     0     0     0     0     0     0     0    \n",
       "[40,] 0     0     0     0     0     0     0     0    \n",
       "[41,] 0     0     0     0     0     0     0     0    \n",
       "[42,] 0     0     0     0     0     0     0     0    \n",
       "[43,] 0     0     0     0     0     0     0     0    \n",
       "[44,] 0     0     0     0     0     0     0     0    \n",
       "[45,] 0     0     0     0     0     0     0     0    \n",
       "[46,] 0     0     0     0     0     0     0     0    \n",
       "[47,] 0     0     0     0     0     0     0     0    \n",
       "[48,] 0     0     0     0     0     0     0     0    \n",
       "[49,] 0     0     0     0     0     0     0     0    \n",
       "[50,] 0     0     0     0     0     0     0     0    \n",
       "[51,] 0     0     0     0     0     0     0     0    \n",
       "[52,] 0     0     0     0     0     0     0     0    \n",
       "[53,] 0     0     0     0     0     0     0     0    \n",
       "[54,] 1     0     0     0     0     0     0     0    \n",
       "[55,] 0     1     0     0     0     0     0     0    \n",
       "[56,] 0     0     1     0     0     0     0     0    \n",
       "[57,] 0     0     0     1     0     0     0     0    \n",
       "[58,] 0     0     0     0     1     0     0     0    \n",
       "[59,] 0     0     0     0     0     1     0     0    \n",
       "[60,] 0     0     0     0     0     0     1     0    \n",
       "[61,] 0     0     0     0     0     0     0     1    "
      ]
     },
     "metadata": {},
     "output_type": "display_data"
    }
   ],
   "source": [
    "I <- diag(500)\n",
    "I"
   ]
  },
  {
   "cell_type": "code",
   "execution_count": 88,
   "id": "7539cc43",
   "metadata": {},
   "outputs": [
    {
     "data": {
      "text/html": [
       "<table>\n",
       "<tbody>\n",
       "\t<tr><td> 0.9844125842</td><td>-0.0024026222</td><td> 3.064232e-03</td><td>-0.0064729214</td><td>-3.024371e-03</td><td>-0.0083207741</td><td>-0.0064135887</td><td>-0.0104432095</td><td> 4.029449e-03</td><td>-0.0078896698</td><td>...          </td><td> 1.142585e-03</td><td>-0.0015330011</td><td>-0.0061035961</td><td>-0.0019178536</td><td>-0.0092940037</td><td>-0.0025723676</td><td> 6.087576e-03</td><td>-0.0109176371</td><td>-3.839869e-03</td><td>-0.0122592724</td></tr>\n",
       "\t<tr><td>-0.0024026222</td><td> 0.9907793004</td><td>-4.106278e-03</td><td>-0.0091856335</td><td>-5.536260e-03</td><td>-0.0071315668</td><td>-0.0005357530</td><td>-0.0031091071</td><td>-9.321296e-04</td><td>-0.0025295106</td><td>...          </td><td>-4.010176e-03</td><td>-0.0022255001</td><td>-0.0044654353</td><td> 0.0015332444</td><td>-0.0041151737</td><td> 0.0050024477</td><td>-3.305420e-03</td><td>-0.0082851536</td><td>-9.615720e-03</td><td> 0.0019619625</td></tr>\n",
       "\t<tr><td> 0.0030642317</td><td>-0.0041062782</td><td> 9.916146e-01</td><td>-0.0039818871</td><td> 1.589553e-03</td><td>-0.0025778550</td><td>-0.0002985479</td><td> 0.0008402525</td><td>-2.262471e-03</td><td>-0.0004303840</td><td>...          </td><td>-4.817896e-03</td><td>-0.0077721812</td><td>-0.0056679241</td><td> 0.0002648113</td><td> 0.0049297599</td><td>-0.0037669317</td><td>-5.395659e-03</td><td>-0.0014577139</td><td>-5.566536e-03</td><td> 0.0013877820</td></tr>\n",
       "\t<tr><td>-0.0064729214</td><td>-0.0091856335</td><td>-3.981887e-03</td><td> 0.9880404686</td><td>-4.430886e-03</td><td>-0.0102105957</td><td> 0.0017378988</td><td>-0.0030808721</td><td> 1.548059e-03</td><td>-0.0058401622</td><td>...          </td><td>-5.970174e-03</td><td>-0.0057063914</td><td>-0.0090993283</td><td>-0.0001505140</td><td>-0.0052159422</td><td> 0.0051440423</td><td> 9.127442e-05</td><td>-0.0124438917</td><td>-8.942993e-03</td><td>-0.0016645721</td></tr>\n",
       "\t<tr><td>-0.0030243713</td><td>-0.0055362601</td><td> 1.589553e-03</td><td>-0.0044308864</td><td> 9.912430e-01</td><td>-0.0035284531</td><td> 0.0000433616</td><td>-0.0022735273</td><td>-3.037656e-03</td><td>-0.0024251027</td><td>...          </td><td>-2.406848e-03</td><td> 0.0037488249</td><td> 0.0011108184</td><td>-0.0022304471</td><td>-0.0091561542</td><td> 0.0067067329</td><td>-1.997308e-03</td><td>-0.0049509872</td><td>-3.161477e-03</td><td> 0.0013736474</td></tr>\n",
       "\t<tr><td>-0.0083207741</td><td>-0.0071315668</td><td>-2.577855e-03</td><td>-0.0102105957</td><td>-3.528453e-03</td><td> 0.9905975720</td><td>-0.0003210460</td><td>-0.0046485251</td><td> 2.071366e-03</td><td>-0.0061727014</td><td>...          </td><td>-4.237210e-03</td><td>-0.0050911487</td><td>-0.0084444822</td><td>-0.0006415821</td><td>-0.0055164105</td><td> 0.0025340531</td><td> 1.404628e-03</td><td>-0.0115467308</td><td>-7.421053e-03</td><td>-0.0043377342</td></tr>\n",
       "\t<tr><td>-0.0064135887</td><td>-0.0005357530</td><td>-2.985479e-04</td><td> 0.0017378988</td><td> 4.336160e-05</td><td>-0.0003210460</td><td> 0.9822653956</td><td>-0.0138978451</td><td>-2.016378e-04</td><td> 0.0010748418</td><td>...          </td><td> 8.776740e-03</td><td> 0.0031434164</td><td> 0.0030968613</td><td> 0.0050105228</td><td>-0.0005213685</td><td>-0.0117360345</td><td>-2.317752e-03</td><td> 0.0010002130</td><td>-7.647128e-03</td><td>-0.0072596564</td></tr>\n",
       "\t<tr><td>-0.0104432095</td><td>-0.0031091071</td><td> 8.402525e-04</td><td>-0.0030808721</td><td>-2.273527e-03</td><td>-0.0046485251</td><td>-0.0138978451</td><td> 0.9863718952</td><td> 1.760287e-03</td><td>-0.0023668394</td><td>...          </td><td> 6.014877e-03</td><td> 0.0019599141</td><td>-0.0005499252</td><td> 0.0036097312</td><td>-0.0047839825</td><td>-0.0066085003</td><td> 6.252432e-04</td><td>-0.0051290057</td><td>-8.433742e-03</td><td>-0.0084063657</td></tr>\n",
       "\t<tr><td> 0.0040294486</td><td>-0.0009321296</td><td>-2.262471e-03</td><td> 0.0015480587</td><td>-3.037656e-03</td><td> 0.0020713657</td><td>-0.0002016378</td><td> 0.0017602873</td><td> 9.944448e-01</td><td> 0.0009470588</td><td>...          </td><td>-2.580171e-03</td><td> 0.0003734200</td><td> 0.0021943578</td><td>-0.0029183786</td><td>-0.0006582273</td><td>-0.0008197564</td><td>-5.482965e-03</td><td> 0.0031582394</td><td> 5.216244e-04</td><td> 0.0028144345</td></tr>\n",
       "\t<tr><td>-0.0078896698</td><td>-0.0025295106</td><td>-4.303840e-04</td><td>-0.0058401622</td><td>-2.425103e-03</td><td>-0.0061727014</td><td> 0.0010748418</td><td>-0.0023668394</td><td> 9.470588e-04</td><td> 0.9935825917</td><td>...          </td><td>-4.239161e-03</td><td>-0.0045555562</td><td>-0.0068001639</td><td>-0.0043562160</td><td>-0.0056283298</td><td> 0.0002161728</td><td> 2.623118e-03</td><td>-0.0079535290</td><td>-1.100388e-03</td><td>-0.0061996271</td></tr>\n",
       "\t<tr><td> 0.0072481216</td><td>-0.0047126365</td><td>-5.705370e-03</td><td>-0.0039565299</td><td>-4.198240e-03</td><td>-0.0012208985</td><td> 0.0102893460</td><td> 0.0091417806</td><td>-5.939811e-03</td><td>-0.0011025440</td><td>...          </td><td>-1.061824e-02</td><td>-0.0048654896</td><td>-0.0033373948</td><td>-0.0054949922</td><td>-0.0004422061</td><td> 0.0066606648</td><td>-6.134624e-03</td><td>-0.0011363104</td><td> 4.545006e-04</td><td> 0.0075436970</td></tr>\n",
       "\t<tr><td> 0.0019795879</td><td> 0.0060823362</td><td>-1.693771e-04</td><td> 0.0075763323</td><td> 1.287985e-03</td><td> 0.0057331883</td><td>-0.0029653722</td><td> 0.0010323141</td><td>-5.124798e-03</td><td> 0.0004402071</td><td>...          </td><td> 1.784889e-05</td><td>-0.0004386513</td><td> 0.0030318592</td><td>-0.0058579902</td><td> 0.0013159332</td><td>-0.0090027886</td><td>-2.824333e-03</td><td> 0.0076569376</td><td> 7.024088e-03</td><td>-0.0033578520</td></tr>\n",
       "\t<tr><td>-0.0003519329</td><td>-0.0001268947</td><td> 4.111456e-03</td><td> 0.0043120088</td><td>-7.501305e-03</td><td> 0.0034803874</td><td>-0.0071671098</td><td>-0.0047420598</td><td>-5.796781e-03</td><td> 0.0017912213</td><td>...          </td><td> 3.828368e-03</td><td> 0.0093872059</td><td> 0.0091220071</td><td>-0.0015332186</td><td>-0.0071938449</td><td>-0.0001779546</td><td>-4.184463e-03</td><td> 0.0040832221</td><td> 3.816827e-04</td><td> 0.0007037234</td></tr>\n",
       "\t<tr><td>-0.0073334122</td><td> 0.0004062691</td><td> 6.611630e-04</td><td> 0.0006794714</td><td>-4.373398e-04</td><td>-0.0013134213</td><td>-0.0115416454</td><td>-0.0098676112</td><td> 2.398108e-05</td><td>-0.0016187443</td><td>...          </td><td> 4.839560e-03</td><td> 0.0009839081</td><td> 0.0004159568</td><td> 0.0007827568</td><td>-0.0025329416</td><td>-0.0087691711</td><td> 1.223971e-05</td><td>-0.0009608962</td><td>-3.478309e-03</td><td>-0.0080086882</td></tr>\n",
       "\t<tr><td>-0.0089691283</td><td>-0.0058205551</td><td>-1.152906e-03</td><td>-0.0097798453</td><td>-4.075355e-03</td><td>-0.0092107324</td><td> 0.0027347879</td><td>-0.0025519819</td><td> 1.890472e-03</td><td>-0.0075255296</td><td>...          </td><td>-5.848786e-03</td><td>-0.0053023225</td><td>-0.0089117103</td><td>-0.0034348939</td><td>-0.0072020889</td><td> 0.0039321314</td><td> 2.878940e-03</td><td>-0.0118462111</td><td>-4.107960e-03</td><td>-0.0050622663</td></tr>\n",
       "\t<tr><td>-0.0003517090</td><td>-0.0042746245</td><td>-6.290509e-03</td><td>-0.0030261922</td><td> 8.699769e-04</td><td>-0.0025592456</td><td>-0.0079731076</td><td>-0.0057710049</td><td>-1.195853e-03</td><td> 0.0005881919</td><td>...          </td><td> 6.925278e-04</td><td>-0.0037459355</td><td>-0.0026379406</td><td> 0.0037186853</td><td> 0.0033877934</td><td>-0.0065256897</td><td>-4.984782e-03</td><td>-0.0013123265</td><td>-8.805222e-03</td><td>-0.0011311499</td></tr>\n",
       "\t<tr><td> 0.0038592274</td><td> 0.0054613988</td><td>-1.123067e-03</td><td> 0.0089682267</td><td> 1.566786e-03</td><td> 0.0071978536</td><td>-0.0075175953</td><td>-0.0014484429</td><td>-5.918975e-03</td><td> 0.0031141326</td><td>...          </td><td> 2.967513e-03</td><td> 0.0015467842</td><td> 0.0057877651</td><td>-0.0026122022</td><td> 0.0032939727</td><td>-0.0111783909</td><td>-5.346964e-03</td><td> 0.0100991520</td><td> 4.064801e-03</td><td>-0.0018540548</td></tr>\n",
       "\t<tr><td>-0.0051600775</td><td>-0.0047996936</td><td>-4.759951e-03</td><td>-0.0047687718</td><td> 5.600516e-04</td><td>-0.0049123618</td><td>-0.0104493949</td><td>-0.0094663259</td><td> 1.037398e-03</td><td>-0.0011828052</td><td>...          </td><td> 2.321048e-03</td><td>-0.0034052140</td><td>-0.0039267322</td><td> 0.0045188390</td><td> 0.0010882121</td><td>-0.0070428726</td><td>-2.434108e-03</td><td>-0.0044910984</td><td>-1.038787e-02</td><td>-0.0046564879</td></tr>\n",
       "\t<tr><td> 0.0017606426</td><td>-0.0002215578</td><td>-4.586515e-03</td><td> 0.0002649730</td><td> 1.044902e-03</td><td> 0.0003018558</td><td>-0.0015102894</td><td> 0.0004084218</td><td>-3.108256e-03</td><td>-0.0004608089</td><td>...          </td><td>-2.717420e-03</td><td>-0.0044941184</td><td>-0.0022555881</td><td>-0.0022136403</td><td> 0.0026546899</td><td>-0.0054334753</td><td>-3.873948e-03</td><td> 0.0015117974</td><td>-6.675862e-04</td><td>-0.0009533751</td></tr>\n",
       "\t<tr><td> 0.0032664463</td><td>-0.0078343017</td><td>-5.399576e-03</td><td>-0.0045482952</td><td>-4.605811e-03</td><td>-0.0024573502</td><td>-0.0040796235</td><td>-0.0029099446</td><td>-3.855838e-03</td><td> 0.0018950660</td><td>...          </td><td>-1.354285e-03</td><td> 0.0003347061</td><td> 0.0005505732</td><td> 0.0036001492</td><td>-0.0002405670</td><td> 0.0017456514</td><td>-7.656982e-03</td><td>-0.0017069317</td><td>-9.769821e-03</td><td> 0.0054374653</td></tr>\n",
       "\t<tr><td>-0.0040259298</td><td>-0.0048078647</td><td>-5.750331e-03</td><td>-0.0093136935</td><td>-9.351884e-05</td><td>-0.0080560057</td><td> 0.0069351957</td><td> 0.0027032493</td><td> 9.887630e-04</td><td>-0.0068735688</td><td>...          </td><td>-9.653298e-03</td><td>-0.0111131337</td><td>-0.0121530613</td><td>-0.0046621377</td><td>-0.0011326490</td><td> 0.0016596233</td><td> 9.492373e-04</td><td>-0.0096492847</td><td>-2.565810e-03</td><td>-0.0030806780</td></tr>\n",
       "\t<tr><td>-0.0060077877</td><td>-0.0009568598</td><td> 6.797511e-03</td><td>-0.0006297610</td><td>-9.930496e-03</td><td>-0.0013304903</td><td> 0.0012224642</td><td>-0.0016135925</td><td>-3.441773e-03</td><td>-0.0041584774</td><td>...          </td><td>-1.612960e-03</td><td> 0.0066900563</td><td> 0.0034994489</td><td>-0.0069026587</td><td>-0.0134603068</td><td> 0.0064914709</td><td> 1.389913e-03</td><td>-0.0033526077</td><td> 3.985393e-03</td><td>-0.0022498603</td></tr>\n",
       "\t<tr><td> 0.0023093756</td><td> 0.0006839148</td><td>-1.241992e-03</td><td> 0.0036575329</td><td>-1.877414e-03</td><td> 0.0031724713</td><td>-0.0051656910</td><td>-0.0018134378</td><td>-4.980504e-03</td><td> 0.0017017904</td><td>...          </td><td> 9.878344e-04</td><td> 0.0018957117</td><td> 0.0039100088</td><td>-0.0014737454</td><td>-0.0001327634</td><td>-0.0048445158</td><td>-5.052211e-03</td><td> 0.0047387246</td><td> 8.546460e-05</td><td> 0.0002380765</td></tr>\n",
       "\t<tr><td> 0.0034907005</td><td> 0.0006263570</td><td> 1.125119e-03</td><td> 0.0053587865</td><td>-4.959978e-03</td><td> 0.0049347761</td><td>-0.0056180676</td><td>-0.0018605396</td><td>-6.783737e-03</td><td> 0.0030189043</td><td>...          </td><td> 2.230883e-03</td><td> 0.0064609612</td><td> 0.0081256526</td><td>-0.0016740857</td><td>-0.0028727713</td><td>-0.0022216322</td><td>-6.133697e-03</td><td> 0.0065068039</td><td> 1.003084e-03</td><td> 0.0024434361</td></tr>\n",
       "\t<tr><td> 0.0007784613</td><td>-0.0030449776</td><td>-3.201920e-03</td><td>-0.0037438575</td><td>-3.020510e-03</td><td>-0.0026113782</td><td> 0.0051237633</td><td> 0.0035935876</td><td>-3.108160e-03</td><td>-0.0029536543</td><td>...          </td><td>-6.950308e-03</td><td>-0.0042520773</td><td>-0.0040620652</td><td>-0.0047884743</td><td>-0.0022691858</td><td> 0.0026354221</td><td>-2.488070e-03</td><td>-0.0030732250</td><td> 7.066171e-05</td><td> 0.0011845637</td></tr>\n",
       "\t<tr><td> 0.0022759062</td><td>-0.0059989514</td><td>-7.427201e-03</td><td>-0.0043316362</td><td>-4.325514e-04</td><td>-0.0028383799</td><td>-0.0046181077</td><td>-0.0029673959</td><td>-2.298554e-03</td><td> 0.0009586361</td><td>...          </td><td>-1.726123e-03</td><td>-0.0041294151</td><td>-0.0029028286</td><td> 0.0033299454</td><td> 0.0033841356</td><td>-0.0031014650</td><td>-6.458189e-03</td><td>-0.0016873884</td><td>-9.175772e-03</td><td> 0.0022241703</td></tr>\n",
       "\t<tr><td>-0.0074523856</td><td>-0.0016041844</td><td>-1.183660e-03</td><td>-0.0050081743</td><td>-9.168762e-04</td><td>-0.0055691160</td><td> 0.0004432723</td><td>-0.0023106983</td><td> 1.029162e-03</td><td>-0.0061338824</td><td>...          </td><td>-3.984627e-03</td><td>-0.0056274948</td><td>-0.0071852565</td><td>-0.0042731528</td><td>-0.0039463331</td><td>-0.0018724318</td><td> 2.470581e-03</td><td>-0.0069539390</td><td>-7.394382e-04</td><td>-0.0068447473</td></tr>\n",
       "\t<tr><td> 0.0018696437</td><td>-0.0025658270</td><td>-4.405606e-03</td><td>-0.0011621816</td><td>-1.038471e-03</td><td>-0.0005612953</td><td>-0.0025640394</td><td>-0.0009503332</td><td>-3.317591e-03</td><td> 0.0002157704</td><td>...          </td><td>-2.013924e-03</td><td>-0.0024915736</td><td>-0.0010638293</td><td>-0.0004206652</td><td> 0.0012376365</td><td>-0.0030190573</td><td>-4.876121e-03</td><td> 0.0004269088</td><td>-3.444450e-03</td><td> 0.0008687299</td></tr>\n",
       "\t<tr><td> 0.0011689056</td><td>-0.0066812146</td><td>-6.955193e-03</td><td>-0.0062277994</td><td>-1.417979e-03</td><td>-0.0044370600</td><td>-0.0011590348</td><td>-0.0012804219</td><td>-1.802763e-03</td><td>-0.0008207951</td><td>...          </td><td>-4.057809e-03</td><td>-0.0051946104</td><td>-0.0048259811</td><td> 0.0015723533</td><td> 0.0015341031</td><td>-0.0002570285</td><td>-5.080498e-03</td><td>-0.0041187914</td><td>-8.171032e-03</td><td> 0.0020989787</td></tr>\n",
       "\t<tr><td>-0.0017090572</td><td> 0.0049215262</td><td> 8.288192e-06</td><td> 0.0050959042</td><td> 1.510829e-03</td><td> 0.0030470145</td><td>-0.0043711470</td><td>-0.0016215434</td><td>-2.971557e-03</td><td>-0.0012070519</td><td>...          </td><td> 5.673211e-04</td><td>-0.0014750310</td><td> 0.0007109360</td><td>-0.0048622030</td><td> 0.0002288249</td><td>-0.0092737164</td><td>-9.111513e-04</td><td> 0.0042663261</td><td> 4.831451e-03</td><td>-0.0059451550</td></tr>\n",
       "\t<tr><td>...</td><td>...</td><td>...</td><td>...</td><td>...</td><td>...</td><td>...</td><td>...</td><td>...</td><td>...</td><td>   </td><td>...</td><td>...</td><td>...</td><td>...</td><td>...</td><td>...</td><td>...</td><td>...</td><td>...</td><td>...</td></tr>\n",
       "\t<tr><td>-6.028201e-03</td><td>-0.0050973915</td><td>-0.0064385340</td><td>-1.082951e-02</td><td> 0.0011576733</td><td>-9.727085e-03</td><td> 0.0065919419</td><td> 1.697192e-03</td><td> 2.523701e-03</td><td>-0.0080861898</td><td>...          </td><td>-0.0098935840</td><td>-0.0132034319</td><td>-1.462879e-02</td><td>-4.337511e-03</td><td>-0.0006270904</td><td> 5.228571e-04</td><td> 0.0022270491</td><td>-0.0116175025</td><td>-0.0035615967</td><td>-0.0050695211</td></tr>\n",
       "\t<tr><td>-5.643206e-03</td><td>-0.0105323056</td><td>-0.0060204424</td><td>-1.086219e-02</td><td>-0.0027904421</td><td>-9.279601e-03</td><td>-0.0075723459</td><td>-9.282887e-03</td><td> 1.820188e-03</td><td>-0.0022443684</td><td>...          </td><td>-0.0003141961</td><td>-0.0037640250</td><td>-6.320561e-03</td><td> 6.264633e-03</td><td>-0.0014766351</td><td>-1.766201e-04</td><td>-0.0029714024</td><td>-0.0100822300</td><td>-0.0154689250</td><td>-0.0013776404</td></tr>\n",
       "\t<tr><td> 1.602764e-03</td><td> 0.0019321528</td><td>-0.0056050965</td><td> 1.087552e-03</td><td> 0.0039081209</td><td> 6.471595e-04</td><td>-0.0001555964</td><td> 1.953701e-03</td><td>-2.491037e-03</td><td>-0.0014075873</td><td>...          </td><td>-0.0039215389</td><td>-0.0078096534</td><td>-4.631859e-03</td><td>-3.865558e-03</td><td> 0.0049295009</td><td>-8.344670e-03</td><td>-0.0027743596</td><td> 0.0020945417</td><td> 0.0016803024</td><td>-0.0030520808</td></tr>\n",
       "\t<tr><td>-9.169017e-03</td><td> 0.0007062048</td><td> 0.0027649723</td><td>-2.818397e-05</td><td>-0.0021631655</td><td>-2.144343e-03</td><td>-0.0085969674</td><td>-8.622861e-03</td><td> 2.464105e-04</td><td>-0.0034590682</td><td>...          </td><td> 0.0033622461</td><td> 0.0015722613</td><td>-8.711494e-05</td><td>-1.692892e-03</td><td>-0.0057987600</td><td>-5.876474e-03</td><td> 0.0019683321</td><td>-0.0027249313</td><td>-0.0010823456</td><td>-0.0087993153</td></tr>\n",
       "\t<tr><td>-2.473888e-03</td><td>-0.0082391624</td><td>-0.0047399363</td><td>-8.172068e-03</td><td>-0.0038361589</td><td>-6.517699e-03</td><td>-0.0025089044</td><td>-4.134314e-03</td><td>-6.051008e-04</td><td>-0.0020642267</td><td>...          </td><td>-0.0028629700</td><td>-0.0029499228</td><td>-4.557271e-03</td><td> 2.244442e-03</td><td>-0.0023333074</td><td> 2.100052e-03</td><td>-0.0034104346</td><td>-0.0071952431</td><td>-0.0098327677</td><td> 0.0007833459</td></tr>\n",
       "\t<tr><td> 3.057284e-03</td><td>-0.0024501873</td><td> 0.0008048613</td><td> 3.170455e-03</td><td>-0.0068017523</td><td> 3.374243e-03</td><td>-0.0078439822</td><td>-4.384848e-03</td><td>-6.461242e-03</td><td> 0.0037529177</td><td>...          </td><td> 0.0034695043</td><td> 0.0082017821</td><td> 8.865116e-03</td><td> 1.226208e-03</td><td>-0.0039357932</td><td>-2.541577e-04</td><td>-0.0072143388</td><td> 0.0047235021</td><td>-0.0033507316</td><td> 0.0039946067</td></tr>\n",
       "\t<tr><td>-2.218633e-03</td><td>-0.0005415219</td><td>-0.0014830963</td><td>-6.748414e-04</td><td>-0.0012856907</td><td>-1.125587e-03</td><td>-0.0022976148</td><td>-1.894159e-03</td><td>-2.072108e-03</td><td>-0.0020616138</td><td>...          </td><td>-0.0015958797</td><td>-0.0020177972</td><td>-1.663332e-03</td><td>-2.763960e-03</td><td>-0.0017228293</td><td>-3.406982e-03</td><td>-0.0015314579</td><td>-0.0009590830</td><td>-0.0004576175</td><td>-0.0030372012</td></tr>\n",
       "\t<tr><td> 7.110870e-03</td><td>-0.0022377016</td><td>-0.0117294249</td><td>-1.447845e-03</td><td> 0.0055655053</td><td>-7.464323e-05</td><td>-0.0011013184</td><td> 2.563389e-03</td><td>-3.218368e-03</td><td> 0.0016057437</td><td>...          </td><td>-0.0048819202</td><td>-0.0107410700</td><td>-6.010553e-03</td><td> 9.287966e-04</td><td> 0.0108825428</td><td>-8.709263e-03</td><td>-0.0077099009</td><td> 0.0025828889</td><td>-0.0050489560</td><td> 0.0022140629</td></tr>\n",
       "\t<tr><td> 9.563798e-05</td><td>-0.0079689432</td><td>-0.0071138448</td><td>-5.821709e-03</td><td>-0.0013290178</td><td>-4.346315e-03</td><td>-0.0087528141</td><td>-7.142512e-03</td><td>-1.184926e-03</td><td> 0.0013130973</td><td>...          </td><td> 0.0008598456</td><td>-0.0024254829</td><td>-2.279972e-03</td><td> 6.363874e-03</td><td> 0.0023848127</td><td>-3.316489e-03</td><td>-0.0064875772</td><td>-0.0033899246</td><td>-0.0132271230</td><td> 0.0015352428</td></tr>\n",
       "\t<tr><td> 9.850210e-04</td><td> 0.0020336444</td><td>-0.0003649598</td><td> 2.807965e-03</td><td>-0.0017500349</td><td> 2.198057e-03</td><td> 0.0005040192</td><td> 1.839455e-03</td><td>-4.465957e-03</td><td>-0.0011042907</td><td>...          </td><td>-0.0026548816</td><td>-0.0006643557</td><td> 9.325834e-04</td><td>-5.649410e-03</td><td>-0.0017356820</td><td>-2.843824e-03</td><td>-0.0024424922</td><td> 0.0028625054</td><td> 0.0043383306</td><td>-0.0012495079</td></tr>\n",
       "\t<tr><td>-1.092974e-02</td><td>-0.0060376017</td><td>-0.0027097982</td><td>-1.043319e-02</td><td>-0.0014710979</td><td>-1.031404e-02</td><td>-0.0017804007</td><td>-6.266477e-03</td><td> 3.744512e-03</td><td>-0.0073807800</td><td>...          </td><td>-0.0035529637</td><td>-0.0070325554</td><td>-1.049952e-02</td><td>-6.384310e-04</td><td>-0.0047068030</td><td>-4.346874e-04</td><td> 0.0032053276</td><td>-0.0125679077</td><td>-0.0073619737</td><td>-0.0076980261</td></tr>\n",
       "\t<tr><td>-1.340443e-02</td><td> 0.0002392595</td><td> 0.0038718726</td><td>-2.947817e-03</td><td>-0.0025384598</td><td>-5.258079e-03</td><td>-0.0060891090</td><td>-8.710686e-03</td><td> 2.377286e-03</td><td>-0.0067383484</td><td>...          </td><td> 0.0015407105</td><td>-0.0003722155</td><td>-3.689249e-03</td><td>-3.498726e-03</td><td>-0.0084943084</td><td>-4.043550e-03</td><td> 0.0053400842</td><td>-0.0071700988</td><td>-0.0003936283</td><td>-0.0117505225</td></tr>\n",
       "\t<tr><td>-8.844027e-03</td><td>-0.0041970000</td><td>-0.0031529370</td><td>-9.487946e-03</td><td>-0.0005998155</td><td>-9.234988e-03</td><td> 0.0035887385</td><td>-1.325024e-03</td><td> 2.759554e-03</td><td>-0.0082471312</td><td>...          </td><td>-0.0070339750</td><td>-0.0094230991</td><td>-1.191916e-02</td><td>-4.257378e-03</td><td>-0.0038908715</td><td> 4.378839e-04</td><td> 0.0035643940</td><td>-0.0114834502</td><td>-0.0029328396</td><td>-0.0069942260</td></tr>\n",
       "\t<tr><td>-2.803744e-03</td><td>-0.0080975873</td><td>-0.0010199961</td><td>-7.459195e-03</td><td>-0.0080130025</td><td>-5.767979e-03</td><td> 0.0002379749</td><td>-2.623552e-03</td><td>-2.045965e-03</td><td>-0.0026025298</td><td>...          </td><td>-0.0034912206</td><td> 0.0012433435</td><td>-1.573617e-03</td><td>-2.991214e-04</td><td>-0.0074794099</td><td> 7.185746e-03</td><td>-0.0026904073</td><td>-0.0072766512</td><td>-0.0067962950</td><td> 0.0022410531</td></tr>\n",
       "\t<tr><td>-1.898641e-03</td><td> 0.0041954764</td><td> 0.0014312804</td><td> 2.602291e-03</td><td>-0.0013174553</td><td> 1.326865e-03</td><td> 0.0044206114</td><td> 3.910612e-03</td><td>-3.409030e-03</td><td>-0.0041538099</td><td>...          </td><td>-0.0049477098</td><td>-0.0026134136</td><td>-1.662140e-03</td><td>-9.673476e-03</td><td>-0.0038178454</td><td>-2.243527e-03</td><td> 0.0010246992</td><td> 0.0010539717</td><td> 0.0088165886</td><td>-0.0044494634</td></tr>\n",
       "\t<tr><td> 9.675607e-03</td><td>-0.0019263947</td><td>-0.0097772963</td><td> 5.486654e-04</td><td> 0.0026101983</td><td> 2.201405e-03</td><td> 0.0005795813</td><td> 4.595796e-03</td><td>-5.654473e-03</td><td> 0.0029101810</td><td>...          </td><td>-0.0050527330</td><td>-0.0069212435</td><td>-2.085993e-03</td><td>-4.039113e-04</td><td> 0.0086117010</td><td>-5.400295e-03</td><td>-0.0091275082</td><td> 0.0049420146</td><td>-0.0027791197</td><td> 0.0053671699</td></tr>\n",
       "\t<tr><td> 4.135900e-03</td><td>-0.0041969915</td><td>-0.0051161793</td><td>-2.613938e-03</td><td>-0.0026774181</td><td>-1.010264e-03</td><td> 0.0015127654</td><td> 2.202896e-03</td><td>-4.379539e-03</td><td> 0.0001723128</td><td>...          </td><td>-0.0048143126</td><td>-0.0028163074</td><td>-1.484360e-03</td><td>-1.395926e-03</td><td> 0.0005675890</td><td> 1.023609e-03</td><td>-0.0059216813</td><td>-0.0003168643</td><td>-0.0032369472</td><td> 0.0040571685</td></tr>\n",
       "\t<tr><td> 6.525243e-03</td><td>-0.0055037488</td><td>-0.0041112471</td><td>-8.283101e-04</td><td>-0.0053863530</td><td> 1.084958e-03</td><td>-0.0024845161</td><td>-4.942943e-05</td><td>-6.379657e-03</td><td> 0.0033690476</td><td>...          </td><td>-0.0015412497</td><td> 0.0025946601</td><td> 4.004853e-03</td><td> 1.469920e-03</td><td>-0.0003578516</td><td> 2.137978e-03</td><td>-0.0089718540</td><td> 0.0024487846</td><td>-0.0057045668</td><td> 0.0074644245</td></tr>\n",
       "\t<tr><td> 9.242594e-04</td><td>-0.0007333806</td><td>-0.0006388307</td><td> 1.860347e-03</td><td>-0.0032942596</td><td> 1.632306e-03</td><td>-0.0045501879</td><td>-2.362125e-03</td><td>-4.420873e-03</td><td> 0.0008533601</td><td>...          </td><td> 0.0005674527</td><td> 0.0023702421</td><td> 3.329406e-03</td><td>-1.338201e-03</td><td>-0.0020394628</td><td>-2.613932e-03</td><td>-0.0043704250</td><td> 0.0025672614</td><td>-0.0009604315</td><td> 0.0002876259</td></tr>\n",
       "\t<tr><td>-7.062698e-03</td><td> 0.0020406785</td><td> 0.0005769810</td><td> 6.688045e-04</td><td> 0.0004984922</td><td>-1.360537e-03</td><td>-0.0063694005</td><td>-5.812388e-03</td><td>-1.076361e-05</td><td>-0.0034555784</td><td>...          </td><td> 0.0013992519</td><td>-0.0018992349</td><td>-2.099779e-03</td><td>-2.880144e-03</td><td>-0.0024700699</td><td>-7.910915e-03</td><td> 0.0015189372</td><td>-0.0013899715</td><td> 0.0005937149</td><td>-0.0086893473</td></tr>\n",
       "\t<tr><td> 1.142585e-03</td><td>-0.0040101764</td><td>-0.0048178960</td><td>-5.970174e-03</td><td>-0.0024068485</td><td>-4.237210e-03</td><td> 0.0087767404</td><td> 6.014877e-03</td><td>-2.580171e-03</td><td>-0.0042391612</td><td>...          </td><td> 0.9900352984</td><td>-0.0073969027</td><td>-7.252164e-03</td><td>-5.840423e-03</td><td>-0.0015548159</td><td> 4.174340e-03</td><td>-0.0020619366</td><td>-0.0050885697</td><td> 0.0001291274</td><td> 0.0016813661</td></tr>\n",
       "\t<tr><td>-1.533001e-03</td><td>-0.0022255001</td><td>-0.0077721812</td><td>-5.706391e-03</td><td> 0.0037488249</td><td>-5.091149e-03</td><td> 0.0031434164</td><td> 1.959914e-03</td><td> 3.734200e-04</td><td>-0.0045555562</td><td>...          </td><td>-0.0073969027</td><td> 0.9876869168</td><td>-1.102367e-02</td><td>-3.216043e-03</td><td> 0.0040358952</td><td>-4.814919e-03</td><td>-0.0008547872</td><td>-0.0050761609</td><td>-0.0023217896</td><td>-0.0037738851</td></tr>\n",
       "\t<tr><td>-6.103596e-03</td><td>-0.0044654353</td><td>-0.0056679241</td><td>-9.099328e-03</td><td> 0.0011108184</td><td>-8.444482e-03</td><td> 0.0030968613</td><td>-5.499252e-04</td><td> 2.194358e-03</td><td>-0.0068001639</td><td>...          </td><td>-0.0072521642</td><td>-0.0110236653</td><td> 9.877660e-01</td><td>-2.955990e-03</td><td>-0.0004898914</td><td>-1.332420e-03</td><td> 0.0015875695</td><td>-0.0098682243</td><td>-0.0042240809</td><td>-0.0054372336</td></tr>\n",
       "\t<tr><td>-1.917854e-03</td><td> 0.0015332444</td><td> 0.0002648113</td><td>-1.505140e-04</td><td>-0.0022304471</td><td>-6.415821e-04</td><td> 0.0050105228</td><td> 3.609731e-03</td><td>-2.918379e-03</td><td>-0.0043562160</td><td>...          </td><td>-0.0058404229</td><td>-0.0032160429</td><td>-2.955990e-03</td><td> 9.917114e-01</td><td>-0.0041074405</td><td>-2.360747e-06</td><td> 0.0004859986</td><td>-0.0012780532</td><td> 0.0058748387</td><td>-0.0030453154</td></tr>\n",
       "\t<tr><td>-9.294004e-03</td><td>-0.0041151737</td><td> 0.0049297599</td><td>-5.215942e-03</td><td>-0.0091561542</td><td>-5.516410e-03</td><td>-0.0005213685</td><td>-4.783982e-03</td><td>-6.582273e-04</td><td>-0.0056283298</td><td>...          </td><td>-0.0015548159</td><td> 0.0040358952</td><td>-4.898914e-04</td><td>-4.107440e-03</td><td> 0.9869022921</td><td> 6.385212e-03</td><td> 0.0024853367</td><td>-0.0081997709</td><td>-0.0012484270</td><td>-0.0039785647</td></tr>\n",
       "\t<tr><td>-2.572368e-03</td><td> 0.0050024477</td><td>-0.0037669317</td><td> 5.144042e-03</td><td> 0.0067067329</td><td> 2.534053e-03</td><td>-0.0117360345</td><td>-6.608500e-03</td><td>-8.197564e-04</td><td> 0.0002161728</td><td>...          </td><td> 0.0041743399</td><td>-0.0048149192</td><td>-1.332420e-03</td><td>-2.360747e-06</td><td> 0.0063852119</td><td> 9.824810e-01</td><td>-0.0018246030</td><td> 0.0050222019</td><td>-0.0003059671</td><td>-0.0089570080</td></tr>\n",
       "\t<tr><td> 6.087576e-03</td><td>-0.0033054202</td><td>-0.0053956587</td><td> 9.127442e-05</td><td>-0.0019973076</td><td> 1.404628e-03</td><td>-0.0023177525</td><td> 6.252432e-04</td><td>-5.482965e-03</td><td> 0.0026231181</td><td>...          </td><td>-0.0020619366</td><td>-0.0008547872</td><td> 1.587570e-03</td><td> 4.859986e-04</td><td> 0.0024853367</td><td>-1.824603e-03</td><td> 0.9920691306</td><td> 0.0031501487</td><td>-0.0040180794</td><td> 0.0048844079</td></tr>\n",
       "\t<tr><td>-1.091764e-02</td><td>-0.0082851536</td><td>-0.0014577139</td><td>-1.244389e-02</td><td>-0.0049509872</td><td>-1.154673e-02</td><td> 0.0010002130</td><td>-5.129006e-03</td><td> 3.158239e-03</td><td>-0.0079535290</td><td>...          </td><td>-0.0050885697</td><td>-0.0050761609</td><td>-9.868224e-03</td><td>-1.278053e-03</td><td>-0.0081997709</td><td> 5.022202e-03</td><td> 0.0031501487</td><td> 0.9853372323</td><td>-0.0077839260</td><td>-0.0053283986</td></tr>\n",
       "\t<tr><td>-3.839869e-03</td><td>-0.0096157204</td><td>-0.0055665359</td><td>-8.942993e-03</td><td>-0.0031614767</td><td>-7.421053e-03</td><td>-0.0076471282</td><td>-8.433742e-03</td><td> 5.216244e-04</td><td>-0.0011003884</td><td>...          </td><td> 0.0001291274</td><td>-0.0023217896</td><td>-4.224081e-03</td><td> 5.874839e-03</td><td>-0.0012484270</td><td>-3.059671e-04</td><td>-0.0040180794</td><td>-0.0077839260</td><td> 0.9858397511</td><td>-0.0001588169</td></tr>\n",
       "\t<tr><td>-1.225927e-02</td><td> 0.0019619625</td><td> 0.0013877820</td><td>-1.664572e-03</td><td> 0.0013736474</td><td>-4.337734e-03</td><td>-0.0072596564</td><td>-8.406366e-03</td><td> 2.814435e-03</td><td>-0.0061996271</td><td>...          </td><td> 0.0016813661</td><td>-0.0037738851</td><td>-5.437234e-03</td><td>-3.045315e-03</td><td>-0.0039785647</td><td>-8.957008e-03</td><td> 0.0048844079</td><td>-0.0053283986</td><td>-0.0001588169</td><td> 0.9868583824</td></tr>\n",
       "</tbody>\n",
       "</table>\n"
      ],
      "text/latex": [
       "\\begin{tabular}{llllllllllllllllllllllllllllllllllllllllllllllllllllllllllllllllllllllllllllllllllllllllllllllllllllllllllllllllllllllllllllllllllllllllllllllllllllllllllllllllllllllllllllllllllllllllllllllllllllllllllllllllllllllllllllllllllllllllllllllllllllllllllllllllllllllllllllllllllllllllllllllllllllllllllllllllllllllllllllllllllllllllllllllllllllllllllllllllllllllllllllllllllllllllllllllllllllllllllllllllllllllllllllllllllllllllllllllllllllllllllllllllllllllllllllllllllllllllllllllllllllllllllllllllllll}\n",
       "\t  0.9844125842 & -0.0024026222 &  3.064232e-03 & -0.0064729214 & -3.024371e-03 & -0.0083207741 & -0.0064135887 & -0.0104432095 &  4.029449e-03 & -0.0078896698 & ...           &  1.142585e-03 & -0.0015330011 & -0.0061035961 & -0.0019178536 & -0.0092940037 & -0.0025723676 &  6.087576e-03 & -0.0109176371 & -3.839869e-03 & -0.0122592724\\\\\n",
       "\t -0.0024026222 &  0.9907793004 & -4.106278e-03 & -0.0091856335 & -5.536260e-03 & -0.0071315668 & -0.0005357530 & -0.0031091071 & -9.321296e-04 & -0.0025295106 & ...           & -4.010176e-03 & -0.0022255001 & -0.0044654353 &  0.0015332444 & -0.0041151737 &  0.0050024477 & -3.305420e-03 & -0.0082851536 & -9.615720e-03 &  0.0019619625\\\\\n",
       "\t  0.0030642317 & -0.0041062782 &  9.916146e-01 & -0.0039818871 &  1.589553e-03 & -0.0025778550 & -0.0002985479 &  0.0008402525 & -2.262471e-03 & -0.0004303840 & ...           & -4.817896e-03 & -0.0077721812 & -0.0056679241 &  0.0002648113 &  0.0049297599 & -0.0037669317 & -5.395659e-03 & -0.0014577139 & -5.566536e-03 &  0.0013877820\\\\\n",
       "\t -0.0064729214 & -0.0091856335 & -3.981887e-03 &  0.9880404686 & -4.430886e-03 & -0.0102105957 &  0.0017378988 & -0.0030808721 &  1.548059e-03 & -0.0058401622 & ...           & -5.970174e-03 & -0.0057063914 & -0.0090993283 & -0.0001505140 & -0.0052159422 &  0.0051440423 &  9.127442e-05 & -0.0124438917 & -8.942993e-03 & -0.0016645721\\\\\n",
       "\t -0.0030243713 & -0.0055362601 &  1.589553e-03 & -0.0044308864 &  9.912430e-01 & -0.0035284531 &  0.0000433616 & -0.0022735273 & -3.037656e-03 & -0.0024251027 & ...           & -2.406848e-03 &  0.0037488249 &  0.0011108184 & -0.0022304471 & -0.0091561542 &  0.0067067329 & -1.997308e-03 & -0.0049509872 & -3.161477e-03 &  0.0013736474\\\\\n",
       "\t -0.0083207741 & -0.0071315668 & -2.577855e-03 & -0.0102105957 & -3.528453e-03 &  0.9905975720 & -0.0003210460 & -0.0046485251 &  2.071366e-03 & -0.0061727014 & ...           & -4.237210e-03 & -0.0050911487 & -0.0084444822 & -0.0006415821 & -0.0055164105 &  0.0025340531 &  1.404628e-03 & -0.0115467308 & -7.421053e-03 & -0.0043377342\\\\\n",
       "\t -0.0064135887 & -0.0005357530 & -2.985479e-04 &  0.0017378988 &  4.336160e-05 & -0.0003210460 &  0.9822653956 & -0.0138978451 & -2.016378e-04 &  0.0010748418 & ...           &  8.776740e-03 &  0.0031434164 &  0.0030968613 &  0.0050105228 & -0.0005213685 & -0.0117360345 & -2.317752e-03 &  0.0010002130 & -7.647128e-03 & -0.0072596564\\\\\n",
       "\t -0.0104432095 & -0.0031091071 &  8.402525e-04 & -0.0030808721 & -2.273527e-03 & -0.0046485251 & -0.0138978451 &  0.9863718952 &  1.760287e-03 & -0.0023668394 & ...           &  6.014877e-03 &  0.0019599141 & -0.0005499252 &  0.0036097312 & -0.0047839825 & -0.0066085003 &  6.252432e-04 & -0.0051290057 & -8.433742e-03 & -0.0084063657\\\\\n",
       "\t  0.0040294486 & -0.0009321296 & -2.262471e-03 &  0.0015480587 & -3.037656e-03 &  0.0020713657 & -0.0002016378 &  0.0017602873 &  9.944448e-01 &  0.0009470588 & ...           & -2.580171e-03 &  0.0003734200 &  0.0021943578 & -0.0029183786 & -0.0006582273 & -0.0008197564 & -5.482965e-03 &  0.0031582394 &  5.216244e-04 &  0.0028144345\\\\\n",
       "\t -0.0078896698 & -0.0025295106 & -4.303840e-04 & -0.0058401622 & -2.425103e-03 & -0.0061727014 &  0.0010748418 & -0.0023668394 &  9.470588e-04 &  0.9935825917 & ...           & -4.239161e-03 & -0.0045555562 & -0.0068001639 & -0.0043562160 & -0.0056283298 &  0.0002161728 &  2.623118e-03 & -0.0079535290 & -1.100388e-03 & -0.0061996271\\\\\n",
       "\t  0.0072481216 & -0.0047126365 & -5.705370e-03 & -0.0039565299 & -4.198240e-03 & -0.0012208985 &  0.0102893460 &  0.0091417806 & -5.939811e-03 & -0.0011025440 & ...           & -1.061824e-02 & -0.0048654896 & -0.0033373948 & -0.0054949922 & -0.0004422061 &  0.0066606648 & -6.134624e-03 & -0.0011363104 &  4.545006e-04 &  0.0075436970\\\\\n",
       "\t  0.0019795879 &  0.0060823362 & -1.693771e-04 &  0.0075763323 &  1.287985e-03 &  0.0057331883 & -0.0029653722 &  0.0010323141 & -5.124798e-03 &  0.0004402071 & ...           &  1.784889e-05 & -0.0004386513 &  0.0030318592 & -0.0058579902 &  0.0013159332 & -0.0090027886 & -2.824333e-03 &  0.0076569376 &  7.024088e-03 & -0.0033578520\\\\\n",
       "\t -0.0003519329 & -0.0001268947 &  4.111456e-03 &  0.0043120088 & -7.501305e-03 &  0.0034803874 & -0.0071671098 & -0.0047420598 & -5.796781e-03 &  0.0017912213 & ...           &  3.828368e-03 &  0.0093872059 &  0.0091220071 & -0.0015332186 & -0.0071938449 & -0.0001779546 & -4.184463e-03 &  0.0040832221 &  3.816827e-04 &  0.0007037234\\\\\n",
       "\t -0.0073334122 &  0.0004062691 &  6.611630e-04 &  0.0006794714 & -4.373398e-04 & -0.0013134213 & -0.0115416454 & -0.0098676112 &  2.398108e-05 & -0.0016187443 & ...           &  4.839560e-03 &  0.0009839081 &  0.0004159568 &  0.0007827568 & -0.0025329416 & -0.0087691711 &  1.223971e-05 & -0.0009608962 & -3.478309e-03 & -0.0080086882\\\\\n",
       "\t -0.0089691283 & -0.0058205551 & -1.152906e-03 & -0.0097798453 & -4.075355e-03 & -0.0092107324 &  0.0027347879 & -0.0025519819 &  1.890472e-03 & -0.0075255296 & ...           & -5.848786e-03 & -0.0053023225 & -0.0089117103 & -0.0034348939 & -0.0072020889 &  0.0039321314 &  2.878940e-03 & -0.0118462111 & -4.107960e-03 & -0.0050622663\\\\\n",
       "\t -0.0003517090 & -0.0042746245 & -6.290509e-03 & -0.0030261922 &  8.699769e-04 & -0.0025592456 & -0.0079731076 & -0.0057710049 & -1.195853e-03 &  0.0005881919 & ...           &  6.925278e-04 & -0.0037459355 & -0.0026379406 &  0.0037186853 &  0.0033877934 & -0.0065256897 & -4.984782e-03 & -0.0013123265 & -8.805222e-03 & -0.0011311499\\\\\n",
       "\t  0.0038592274 &  0.0054613988 & -1.123067e-03 &  0.0089682267 &  1.566786e-03 &  0.0071978536 & -0.0075175953 & -0.0014484429 & -5.918975e-03 &  0.0031141326 & ...           &  2.967513e-03 &  0.0015467842 &  0.0057877651 & -0.0026122022 &  0.0032939727 & -0.0111783909 & -5.346964e-03 &  0.0100991520 &  4.064801e-03 & -0.0018540548\\\\\n",
       "\t -0.0051600775 & -0.0047996936 & -4.759951e-03 & -0.0047687718 &  5.600516e-04 & -0.0049123618 & -0.0104493949 & -0.0094663259 &  1.037398e-03 & -0.0011828052 & ...           &  2.321048e-03 & -0.0034052140 & -0.0039267322 &  0.0045188390 &  0.0010882121 & -0.0070428726 & -2.434108e-03 & -0.0044910984 & -1.038787e-02 & -0.0046564879\\\\\n",
       "\t  0.0017606426 & -0.0002215578 & -4.586515e-03 &  0.0002649730 &  1.044902e-03 &  0.0003018558 & -0.0015102894 &  0.0004084218 & -3.108256e-03 & -0.0004608089 & ...           & -2.717420e-03 & -0.0044941184 & -0.0022555881 & -0.0022136403 &  0.0026546899 & -0.0054334753 & -3.873948e-03 &  0.0015117974 & -6.675862e-04 & -0.0009533751\\\\\n",
       "\t  0.0032664463 & -0.0078343017 & -5.399576e-03 & -0.0045482952 & -4.605811e-03 & -0.0024573502 & -0.0040796235 & -0.0029099446 & -3.855838e-03 &  0.0018950660 & ...           & -1.354285e-03 &  0.0003347061 &  0.0005505732 &  0.0036001492 & -0.0002405670 &  0.0017456514 & -7.656982e-03 & -0.0017069317 & -9.769821e-03 &  0.0054374653\\\\\n",
       "\t -0.0040259298 & -0.0048078647 & -5.750331e-03 & -0.0093136935 & -9.351884e-05 & -0.0080560057 &  0.0069351957 &  0.0027032493 &  9.887630e-04 & -0.0068735688 & ...           & -9.653298e-03 & -0.0111131337 & -0.0121530613 & -0.0046621377 & -0.0011326490 &  0.0016596233 &  9.492373e-04 & -0.0096492847 & -2.565810e-03 & -0.0030806780\\\\\n",
       "\t -0.0060077877 & -0.0009568598 &  6.797511e-03 & -0.0006297610 & -9.930496e-03 & -0.0013304903 &  0.0012224642 & -0.0016135925 & -3.441773e-03 & -0.0041584774 & ...           & -1.612960e-03 &  0.0066900563 &  0.0034994489 & -0.0069026587 & -0.0134603068 &  0.0064914709 &  1.389913e-03 & -0.0033526077 &  3.985393e-03 & -0.0022498603\\\\\n",
       "\t  0.0023093756 &  0.0006839148 & -1.241992e-03 &  0.0036575329 & -1.877414e-03 &  0.0031724713 & -0.0051656910 & -0.0018134378 & -4.980504e-03 &  0.0017017904 & ...           &  9.878344e-04 &  0.0018957117 &  0.0039100088 & -0.0014737454 & -0.0001327634 & -0.0048445158 & -5.052211e-03 &  0.0047387246 &  8.546460e-05 &  0.0002380765\\\\\n",
       "\t  0.0034907005 &  0.0006263570 &  1.125119e-03 &  0.0053587865 & -4.959978e-03 &  0.0049347761 & -0.0056180676 & -0.0018605396 & -6.783737e-03 &  0.0030189043 & ...           &  2.230883e-03 &  0.0064609612 &  0.0081256526 & -0.0016740857 & -0.0028727713 & -0.0022216322 & -6.133697e-03 &  0.0065068039 &  1.003084e-03 &  0.0024434361\\\\\n",
       "\t  0.0007784613 & -0.0030449776 & -3.201920e-03 & -0.0037438575 & -3.020510e-03 & -0.0026113782 &  0.0051237633 &  0.0035935876 & -3.108160e-03 & -0.0029536543 & ...           & -6.950308e-03 & -0.0042520773 & -0.0040620652 & -0.0047884743 & -0.0022691858 &  0.0026354221 & -2.488070e-03 & -0.0030732250 &  7.066171e-05 &  0.0011845637\\\\\n",
       "\t  0.0022759062 & -0.0059989514 & -7.427201e-03 & -0.0043316362 & -4.325514e-04 & -0.0028383799 & -0.0046181077 & -0.0029673959 & -2.298554e-03 &  0.0009586361 & ...           & -1.726123e-03 & -0.0041294151 & -0.0029028286 &  0.0033299454 &  0.0033841356 & -0.0031014650 & -6.458189e-03 & -0.0016873884 & -9.175772e-03 &  0.0022241703\\\\\n",
       "\t -0.0074523856 & -0.0016041844 & -1.183660e-03 & -0.0050081743 & -9.168762e-04 & -0.0055691160 &  0.0004432723 & -0.0023106983 &  1.029162e-03 & -0.0061338824 & ...           & -3.984627e-03 & -0.0056274948 & -0.0071852565 & -0.0042731528 & -0.0039463331 & -0.0018724318 &  2.470581e-03 & -0.0069539390 & -7.394382e-04 & -0.0068447473\\\\\n",
       "\t  0.0018696437 & -0.0025658270 & -4.405606e-03 & -0.0011621816 & -1.038471e-03 & -0.0005612953 & -0.0025640394 & -0.0009503332 & -3.317591e-03 &  0.0002157704 & ...           & -2.013924e-03 & -0.0024915736 & -0.0010638293 & -0.0004206652 &  0.0012376365 & -0.0030190573 & -4.876121e-03 &  0.0004269088 & -3.444450e-03 &  0.0008687299\\\\\n",
       "\t  0.0011689056 & -0.0066812146 & -6.955193e-03 & -0.0062277994 & -1.417979e-03 & -0.0044370600 & -0.0011590348 & -0.0012804219 & -1.802763e-03 & -0.0008207951 & ...           & -4.057809e-03 & -0.0051946104 & -0.0048259811 &  0.0015723533 &  0.0015341031 & -0.0002570285 & -5.080498e-03 & -0.0041187914 & -8.171032e-03 &  0.0020989787\\\\\n",
       "\t -0.0017090572 &  0.0049215262 &  8.288192e-06 &  0.0050959042 &  1.510829e-03 &  0.0030470145 & -0.0043711470 & -0.0016215434 & -2.971557e-03 & -0.0012070519 & ...           &  5.673211e-04 & -0.0014750310 &  0.0007109360 & -0.0048622030 &  0.0002288249 & -0.0092737164 & -9.111513e-04 &  0.0042663261 &  4.831451e-03 & -0.0059451550\\\\\n",
       "\t ... & ... & ... & ... & ... & ... & ... & ... & ... & ... &     & ... & ... & ... & ... & ... & ... & ... & ... & ... & ...\\\\\n",
       "\t -6.028201e-03 & -0.0050973915 & -0.0064385340 & -1.082951e-02 &  0.0011576733 & -9.727085e-03 &  0.0065919419 &  1.697192e-03 &  2.523701e-03 & -0.0080861898 & ...           & -0.0098935840 & -0.0132034319 & -1.462879e-02 & -4.337511e-03 & -0.0006270904 &  5.228571e-04 &  0.0022270491 & -0.0116175025 & -0.0035615967 & -0.0050695211\\\\\n",
       "\t -5.643206e-03 & -0.0105323056 & -0.0060204424 & -1.086219e-02 & -0.0027904421 & -9.279601e-03 & -0.0075723459 & -9.282887e-03 &  1.820188e-03 & -0.0022443684 & ...           & -0.0003141961 & -0.0037640250 & -6.320561e-03 &  6.264633e-03 & -0.0014766351 & -1.766201e-04 & -0.0029714024 & -0.0100822300 & -0.0154689250 & -0.0013776404\\\\\n",
       "\t  1.602764e-03 &  0.0019321528 & -0.0056050965 &  1.087552e-03 &  0.0039081209 &  6.471595e-04 & -0.0001555964 &  1.953701e-03 & -2.491037e-03 & -0.0014075873 & ...           & -0.0039215389 & -0.0078096534 & -4.631859e-03 & -3.865558e-03 &  0.0049295009 & -8.344670e-03 & -0.0027743596 &  0.0020945417 &  0.0016803024 & -0.0030520808\\\\\n",
       "\t -9.169017e-03 &  0.0007062048 &  0.0027649723 & -2.818397e-05 & -0.0021631655 & -2.144343e-03 & -0.0085969674 & -8.622861e-03 &  2.464105e-04 & -0.0034590682 & ...           &  0.0033622461 &  0.0015722613 & -8.711494e-05 & -1.692892e-03 & -0.0057987600 & -5.876474e-03 &  0.0019683321 & -0.0027249313 & -0.0010823456 & -0.0087993153\\\\\n",
       "\t -2.473888e-03 & -0.0082391624 & -0.0047399363 & -8.172068e-03 & -0.0038361589 & -6.517699e-03 & -0.0025089044 & -4.134314e-03 & -6.051008e-04 & -0.0020642267 & ...           & -0.0028629700 & -0.0029499228 & -4.557271e-03 &  2.244442e-03 & -0.0023333074 &  2.100052e-03 & -0.0034104346 & -0.0071952431 & -0.0098327677 &  0.0007833459\\\\\n",
       "\t  3.057284e-03 & -0.0024501873 &  0.0008048613 &  3.170455e-03 & -0.0068017523 &  3.374243e-03 & -0.0078439822 & -4.384848e-03 & -6.461242e-03 &  0.0037529177 & ...           &  0.0034695043 &  0.0082017821 &  8.865116e-03 &  1.226208e-03 & -0.0039357932 & -2.541577e-04 & -0.0072143388 &  0.0047235021 & -0.0033507316 &  0.0039946067\\\\\n",
       "\t -2.218633e-03 & -0.0005415219 & -0.0014830963 & -6.748414e-04 & -0.0012856907 & -1.125587e-03 & -0.0022976148 & -1.894159e-03 & -2.072108e-03 & -0.0020616138 & ...           & -0.0015958797 & -0.0020177972 & -1.663332e-03 & -2.763960e-03 & -0.0017228293 & -3.406982e-03 & -0.0015314579 & -0.0009590830 & -0.0004576175 & -0.0030372012\\\\\n",
       "\t  7.110870e-03 & -0.0022377016 & -0.0117294249 & -1.447845e-03 &  0.0055655053 & -7.464323e-05 & -0.0011013184 &  2.563389e-03 & -3.218368e-03 &  0.0016057437 & ...           & -0.0048819202 & -0.0107410700 & -6.010553e-03 &  9.287966e-04 &  0.0108825428 & -8.709263e-03 & -0.0077099009 &  0.0025828889 & -0.0050489560 &  0.0022140629\\\\\n",
       "\t  9.563798e-05 & -0.0079689432 & -0.0071138448 & -5.821709e-03 & -0.0013290178 & -4.346315e-03 & -0.0087528141 & -7.142512e-03 & -1.184926e-03 &  0.0013130973 & ...           &  0.0008598456 & -0.0024254829 & -2.279972e-03 &  6.363874e-03 &  0.0023848127 & -3.316489e-03 & -0.0064875772 & -0.0033899246 & -0.0132271230 &  0.0015352428\\\\\n",
       "\t  9.850210e-04 &  0.0020336444 & -0.0003649598 &  2.807965e-03 & -0.0017500349 &  2.198057e-03 &  0.0005040192 &  1.839455e-03 & -4.465957e-03 & -0.0011042907 & ...           & -0.0026548816 & -0.0006643557 &  9.325834e-04 & -5.649410e-03 & -0.0017356820 & -2.843824e-03 & -0.0024424922 &  0.0028625054 &  0.0043383306 & -0.0012495079\\\\\n",
       "\t -1.092974e-02 & -0.0060376017 & -0.0027097982 & -1.043319e-02 & -0.0014710979 & -1.031404e-02 & -0.0017804007 & -6.266477e-03 &  3.744512e-03 & -0.0073807800 & ...           & -0.0035529637 & -0.0070325554 & -1.049952e-02 & -6.384310e-04 & -0.0047068030 & -4.346874e-04 &  0.0032053276 & -0.0125679077 & -0.0073619737 & -0.0076980261\\\\\n",
       "\t -1.340443e-02 &  0.0002392595 &  0.0038718726 & -2.947817e-03 & -0.0025384598 & -5.258079e-03 & -0.0060891090 & -8.710686e-03 &  2.377286e-03 & -0.0067383484 & ...           &  0.0015407105 & -0.0003722155 & -3.689249e-03 & -3.498726e-03 & -0.0084943084 & -4.043550e-03 &  0.0053400842 & -0.0071700988 & -0.0003936283 & -0.0117505225\\\\\n",
       "\t -8.844027e-03 & -0.0041970000 & -0.0031529370 & -9.487946e-03 & -0.0005998155 & -9.234988e-03 &  0.0035887385 & -1.325024e-03 &  2.759554e-03 & -0.0082471312 & ...           & -0.0070339750 & -0.0094230991 & -1.191916e-02 & -4.257378e-03 & -0.0038908715 &  4.378839e-04 &  0.0035643940 & -0.0114834502 & -0.0029328396 & -0.0069942260\\\\\n",
       "\t -2.803744e-03 & -0.0080975873 & -0.0010199961 & -7.459195e-03 & -0.0080130025 & -5.767979e-03 &  0.0002379749 & -2.623552e-03 & -2.045965e-03 & -0.0026025298 & ...           & -0.0034912206 &  0.0012433435 & -1.573617e-03 & -2.991214e-04 & -0.0074794099 &  7.185746e-03 & -0.0026904073 & -0.0072766512 & -0.0067962950 &  0.0022410531\\\\\n",
       "\t -1.898641e-03 &  0.0041954764 &  0.0014312804 &  2.602291e-03 & -0.0013174553 &  1.326865e-03 &  0.0044206114 &  3.910612e-03 & -3.409030e-03 & -0.0041538099 & ...           & -0.0049477098 & -0.0026134136 & -1.662140e-03 & -9.673476e-03 & -0.0038178454 & -2.243527e-03 &  0.0010246992 &  0.0010539717 &  0.0088165886 & -0.0044494634\\\\\n",
       "\t  9.675607e-03 & -0.0019263947 & -0.0097772963 &  5.486654e-04 &  0.0026101983 &  2.201405e-03 &  0.0005795813 &  4.595796e-03 & -5.654473e-03 &  0.0029101810 & ...           & -0.0050527330 & -0.0069212435 & -2.085993e-03 & -4.039113e-04 &  0.0086117010 & -5.400295e-03 & -0.0091275082 &  0.0049420146 & -0.0027791197 &  0.0053671699\\\\\n",
       "\t  4.135900e-03 & -0.0041969915 & -0.0051161793 & -2.613938e-03 & -0.0026774181 & -1.010264e-03 &  0.0015127654 &  2.202896e-03 & -4.379539e-03 &  0.0001723128 & ...           & -0.0048143126 & -0.0028163074 & -1.484360e-03 & -1.395926e-03 &  0.0005675890 &  1.023609e-03 & -0.0059216813 & -0.0003168643 & -0.0032369472 &  0.0040571685\\\\\n",
       "\t  6.525243e-03 & -0.0055037488 & -0.0041112471 & -8.283101e-04 & -0.0053863530 &  1.084958e-03 & -0.0024845161 & -4.942943e-05 & -6.379657e-03 &  0.0033690476 & ...           & -0.0015412497 &  0.0025946601 &  4.004853e-03 &  1.469920e-03 & -0.0003578516 &  2.137978e-03 & -0.0089718540 &  0.0024487846 & -0.0057045668 &  0.0074644245\\\\\n",
       "\t  9.242594e-04 & -0.0007333806 & -0.0006388307 &  1.860347e-03 & -0.0032942596 &  1.632306e-03 & -0.0045501879 & -2.362125e-03 & -4.420873e-03 &  0.0008533601 & ...           &  0.0005674527 &  0.0023702421 &  3.329406e-03 & -1.338201e-03 & -0.0020394628 & -2.613932e-03 & -0.0043704250 &  0.0025672614 & -0.0009604315 &  0.0002876259\\\\\n",
       "\t -7.062698e-03 &  0.0020406785 &  0.0005769810 &  6.688045e-04 &  0.0004984922 & -1.360537e-03 & -0.0063694005 & -5.812388e-03 & -1.076361e-05 & -0.0034555784 & ...           &  0.0013992519 & -0.0018992349 & -2.099779e-03 & -2.880144e-03 & -0.0024700699 & -7.910915e-03 &  0.0015189372 & -0.0013899715 &  0.0005937149 & -0.0086893473\\\\\n",
       "\t  1.142585e-03 & -0.0040101764 & -0.0048178960 & -5.970174e-03 & -0.0024068485 & -4.237210e-03 &  0.0087767404 &  6.014877e-03 & -2.580171e-03 & -0.0042391612 & ...           &  0.9900352984 & -0.0073969027 & -7.252164e-03 & -5.840423e-03 & -0.0015548159 &  4.174340e-03 & -0.0020619366 & -0.0050885697 &  0.0001291274 &  0.0016813661\\\\\n",
       "\t -1.533001e-03 & -0.0022255001 & -0.0077721812 & -5.706391e-03 &  0.0037488249 & -5.091149e-03 &  0.0031434164 &  1.959914e-03 &  3.734200e-04 & -0.0045555562 & ...           & -0.0073969027 &  0.9876869168 & -1.102367e-02 & -3.216043e-03 &  0.0040358952 & -4.814919e-03 & -0.0008547872 & -0.0050761609 & -0.0023217896 & -0.0037738851\\\\\n",
       "\t -6.103596e-03 & -0.0044654353 & -0.0056679241 & -9.099328e-03 &  0.0011108184 & -8.444482e-03 &  0.0030968613 & -5.499252e-04 &  2.194358e-03 & -0.0068001639 & ...           & -0.0072521642 & -0.0110236653 &  9.877660e-01 & -2.955990e-03 & -0.0004898914 & -1.332420e-03 &  0.0015875695 & -0.0098682243 & -0.0042240809 & -0.0054372336\\\\\n",
       "\t -1.917854e-03 &  0.0015332444 &  0.0002648113 & -1.505140e-04 & -0.0022304471 & -6.415821e-04 &  0.0050105228 &  3.609731e-03 & -2.918379e-03 & -0.0043562160 & ...           & -0.0058404229 & -0.0032160429 & -2.955990e-03 &  9.917114e-01 & -0.0041074405 & -2.360747e-06 &  0.0004859986 & -0.0012780532 &  0.0058748387 & -0.0030453154\\\\\n",
       "\t -9.294004e-03 & -0.0041151737 &  0.0049297599 & -5.215942e-03 & -0.0091561542 & -5.516410e-03 & -0.0005213685 & -4.783982e-03 & -6.582273e-04 & -0.0056283298 & ...           & -0.0015548159 &  0.0040358952 & -4.898914e-04 & -4.107440e-03 &  0.9869022921 &  6.385212e-03 &  0.0024853367 & -0.0081997709 & -0.0012484270 & -0.0039785647\\\\\n",
       "\t -2.572368e-03 &  0.0050024477 & -0.0037669317 &  5.144042e-03 &  0.0067067329 &  2.534053e-03 & -0.0117360345 & -6.608500e-03 & -8.197564e-04 &  0.0002161728 & ...           &  0.0041743399 & -0.0048149192 & -1.332420e-03 & -2.360747e-06 &  0.0063852119 &  9.824810e-01 & -0.0018246030 &  0.0050222019 & -0.0003059671 & -0.0089570080\\\\\n",
       "\t  6.087576e-03 & -0.0033054202 & -0.0053956587 &  9.127442e-05 & -0.0019973076 &  1.404628e-03 & -0.0023177525 &  6.252432e-04 & -5.482965e-03 &  0.0026231181 & ...           & -0.0020619366 & -0.0008547872 &  1.587570e-03 &  4.859986e-04 &  0.0024853367 & -1.824603e-03 &  0.9920691306 &  0.0031501487 & -0.0040180794 &  0.0048844079\\\\\n",
       "\t -1.091764e-02 & -0.0082851536 & -0.0014577139 & -1.244389e-02 & -0.0049509872 & -1.154673e-02 &  0.0010002130 & -5.129006e-03 &  3.158239e-03 & -0.0079535290 & ...           & -0.0050885697 & -0.0050761609 & -9.868224e-03 & -1.278053e-03 & -0.0081997709 &  5.022202e-03 &  0.0031501487 &  0.9853372323 & -0.0077839260 & -0.0053283986\\\\\n",
       "\t -3.839869e-03 & -0.0096157204 & -0.0055665359 & -8.942993e-03 & -0.0031614767 & -7.421053e-03 & -0.0076471282 & -8.433742e-03 &  5.216244e-04 & -0.0011003884 & ...           &  0.0001291274 & -0.0023217896 & -4.224081e-03 &  5.874839e-03 & -0.0012484270 & -3.059671e-04 & -0.0040180794 & -0.0077839260 &  0.9858397511 & -0.0001588169\\\\\n",
       "\t -1.225927e-02 &  0.0019619625 &  0.0013877820 & -1.664572e-03 &  0.0013736474 & -4.337734e-03 & -0.0072596564 & -8.406366e-03 &  2.814435e-03 & -0.0061996271 & ...           &  0.0016813661 & -0.0037738851 & -5.437234e-03 & -3.045315e-03 & -0.0039785647 & -8.957008e-03 &  0.0048844079 & -0.0053283986 & -0.0001588169 &  0.9868583824\\\\\n",
       "\\end{tabular}\n"
      ],
      "text/markdown": [
       "\n",
       "|  0.9844125842 | -0.0024026222 |  3.064232e-03 | -0.0064729214 | -3.024371e-03 | -0.0083207741 | -0.0064135887 | -0.0104432095 |  4.029449e-03 | -0.0078896698 | ...           |  1.142585e-03 | -0.0015330011 | -0.0061035961 | -0.0019178536 | -0.0092940037 | -0.0025723676 |  6.087576e-03 | -0.0109176371 | -3.839869e-03 | -0.0122592724 |\n",
       "| -0.0024026222 |  0.9907793004 | -4.106278e-03 | -0.0091856335 | -5.536260e-03 | -0.0071315668 | -0.0005357530 | -0.0031091071 | -9.321296e-04 | -0.0025295106 | ...           | -4.010176e-03 | -0.0022255001 | -0.0044654353 |  0.0015332444 | -0.0041151737 |  0.0050024477 | -3.305420e-03 | -0.0082851536 | -9.615720e-03 |  0.0019619625 |\n",
       "|  0.0030642317 | -0.0041062782 |  9.916146e-01 | -0.0039818871 |  1.589553e-03 | -0.0025778550 | -0.0002985479 |  0.0008402525 | -2.262471e-03 | -0.0004303840 | ...           | -4.817896e-03 | -0.0077721812 | -0.0056679241 |  0.0002648113 |  0.0049297599 | -0.0037669317 | -5.395659e-03 | -0.0014577139 | -5.566536e-03 |  0.0013877820 |\n",
       "| -0.0064729214 | -0.0091856335 | -3.981887e-03 |  0.9880404686 | -4.430886e-03 | -0.0102105957 |  0.0017378988 | -0.0030808721 |  1.548059e-03 | -0.0058401622 | ...           | -5.970174e-03 | -0.0057063914 | -0.0090993283 | -0.0001505140 | -0.0052159422 |  0.0051440423 |  9.127442e-05 | -0.0124438917 | -8.942993e-03 | -0.0016645721 |\n",
       "| -0.0030243713 | -0.0055362601 |  1.589553e-03 | -0.0044308864 |  9.912430e-01 | -0.0035284531 |  0.0000433616 | -0.0022735273 | -3.037656e-03 | -0.0024251027 | ...           | -2.406848e-03 |  0.0037488249 |  0.0011108184 | -0.0022304471 | -0.0091561542 |  0.0067067329 | -1.997308e-03 | -0.0049509872 | -3.161477e-03 |  0.0013736474 |\n",
       "| -0.0083207741 | -0.0071315668 | -2.577855e-03 | -0.0102105957 | -3.528453e-03 |  0.9905975720 | -0.0003210460 | -0.0046485251 |  2.071366e-03 | -0.0061727014 | ...           | -4.237210e-03 | -0.0050911487 | -0.0084444822 | -0.0006415821 | -0.0055164105 |  0.0025340531 |  1.404628e-03 | -0.0115467308 | -7.421053e-03 | -0.0043377342 |\n",
       "| -0.0064135887 | -0.0005357530 | -2.985479e-04 |  0.0017378988 |  4.336160e-05 | -0.0003210460 |  0.9822653956 | -0.0138978451 | -2.016378e-04 |  0.0010748418 | ...           |  8.776740e-03 |  0.0031434164 |  0.0030968613 |  0.0050105228 | -0.0005213685 | -0.0117360345 | -2.317752e-03 |  0.0010002130 | -7.647128e-03 | -0.0072596564 |\n",
       "| -0.0104432095 | -0.0031091071 |  8.402525e-04 | -0.0030808721 | -2.273527e-03 | -0.0046485251 | -0.0138978451 |  0.9863718952 |  1.760287e-03 | -0.0023668394 | ...           |  6.014877e-03 |  0.0019599141 | -0.0005499252 |  0.0036097312 | -0.0047839825 | -0.0066085003 |  6.252432e-04 | -0.0051290057 | -8.433742e-03 | -0.0084063657 |\n",
       "|  0.0040294486 | -0.0009321296 | -2.262471e-03 |  0.0015480587 | -3.037656e-03 |  0.0020713657 | -0.0002016378 |  0.0017602873 |  9.944448e-01 |  0.0009470588 | ...           | -2.580171e-03 |  0.0003734200 |  0.0021943578 | -0.0029183786 | -0.0006582273 | -0.0008197564 | -5.482965e-03 |  0.0031582394 |  5.216244e-04 |  0.0028144345 |\n",
       "| -0.0078896698 | -0.0025295106 | -4.303840e-04 | -0.0058401622 | -2.425103e-03 | -0.0061727014 |  0.0010748418 | -0.0023668394 |  9.470588e-04 |  0.9935825917 | ...           | -4.239161e-03 | -0.0045555562 | -0.0068001639 | -0.0043562160 | -0.0056283298 |  0.0002161728 |  2.623118e-03 | -0.0079535290 | -1.100388e-03 | -0.0061996271 |\n",
       "|  0.0072481216 | -0.0047126365 | -5.705370e-03 | -0.0039565299 | -4.198240e-03 | -0.0012208985 |  0.0102893460 |  0.0091417806 | -5.939811e-03 | -0.0011025440 | ...           | -1.061824e-02 | -0.0048654896 | -0.0033373948 | -0.0054949922 | -0.0004422061 |  0.0066606648 | -6.134624e-03 | -0.0011363104 |  4.545006e-04 |  0.0075436970 |\n",
       "|  0.0019795879 |  0.0060823362 | -1.693771e-04 |  0.0075763323 |  1.287985e-03 |  0.0057331883 | -0.0029653722 |  0.0010323141 | -5.124798e-03 |  0.0004402071 | ...           |  1.784889e-05 | -0.0004386513 |  0.0030318592 | -0.0058579902 |  0.0013159332 | -0.0090027886 | -2.824333e-03 |  0.0076569376 |  7.024088e-03 | -0.0033578520 |\n",
       "| -0.0003519329 | -0.0001268947 |  4.111456e-03 |  0.0043120088 | -7.501305e-03 |  0.0034803874 | -0.0071671098 | -0.0047420598 | -5.796781e-03 |  0.0017912213 | ...           |  3.828368e-03 |  0.0093872059 |  0.0091220071 | -0.0015332186 | -0.0071938449 | -0.0001779546 | -4.184463e-03 |  0.0040832221 |  3.816827e-04 |  0.0007037234 |\n",
       "| -0.0073334122 |  0.0004062691 |  6.611630e-04 |  0.0006794714 | -4.373398e-04 | -0.0013134213 | -0.0115416454 | -0.0098676112 |  2.398108e-05 | -0.0016187443 | ...           |  4.839560e-03 |  0.0009839081 |  0.0004159568 |  0.0007827568 | -0.0025329416 | -0.0087691711 |  1.223971e-05 | -0.0009608962 | -3.478309e-03 | -0.0080086882 |\n",
       "| -0.0089691283 | -0.0058205551 | -1.152906e-03 | -0.0097798453 | -4.075355e-03 | -0.0092107324 |  0.0027347879 | -0.0025519819 |  1.890472e-03 | -0.0075255296 | ...           | -5.848786e-03 | -0.0053023225 | -0.0089117103 | -0.0034348939 | -0.0072020889 |  0.0039321314 |  2.878940e-03 | -0.0118462111 | -4.107960e-03 | -0.0050622663 |\n",
       "| -0.0003517090 | -0.0042746245 | -6.290509e-03 | -0.0030261922 |  8.699769e-04 | -0.0025592456 | -0.0079731076 | -0.0057710049 | -1.195853e-03 |  0.0005881919 | ...           |  6.925278e-04 | -0.0037459355 | -0.0026379406 |  0.0037186853 |  0.0033877934 | -0.0065256897 | -4.984782e-03 | -0.0013123265 | -8.805222e-03 | -0.0011311499 |\n",
       "|  0.0038592274 |  0.0054613988 | -1.123067e-03 |  0.0089682267 |  1.566786e-03 |  0.0071978536 | -0.0075175953 | -0.0014484429 | -5.918975e-03 |  0.0031141326 | ...           |  2.967513e-03 |  0.0015467842 |  0.0057877651 | -0.0026122022 |  0.0032939727 | -0.0111783909 | -5.346964e-03 |  0.0100991520 |  4.064801e-03 | -0.0018540548 |\n",
       "| -0.0051600775 | -0.0047996936 | -4.759951e-03 | -0.0047687718 |  5.600516e-04 | -0.0049123618 | -0.0104493949 | -0.0094663259 |  1.037398e-03 | -0.0011828052 | ...           |  2.321048e-03 | -0.0034052140 | -0.0039267322 |  0.0045188390 |  0.0010882121 | -0.0070428726 | -2.434108e-03 | -0.0044910984 | -1.038787e-02 | -0.0046564879 |\n",
       "|  0.0017606426 | -0.0002215578 | -4.586515e-03 |  0.0002649730 |  1.044902e-03 |  0.0003018558 | -0.0015102894 |  0.0004084218 | -3.108256e-03 | -0.0004608089 | ...           | -2.717420e-03 | -0.0044941184 | -0.0022555881 | -0.0022136403 |  0.0026546899 | -0.0054334753 | -3.873948e-03 |  0.0015117974 | -6.675862e-04 | -0.0009533751 |\n",
       "|  0.0032664463 | -0.0078343017 | -5.399576e-03 | -0.0045482952 | -4.605811e-03 | -0.0024573502 | -0.0040796235 | -0.0029099446 | -3.855838e-03 |  0.0018950660 | ...           | -1.354285e-03 |  0.0003347061 |  0.0005505732 |  0.0036001492 | -0.0002405670 |  0.0017456514 | -7.656982e-03 | -0.0017069317 | -9.769821e-03 |  0.0054374653 |\n",
       "| -0.0040259298 | -0.0048078647 | -5.750331e-03 | -0.0093136935 | -9.351884e-05 | -0.0080560057 |  0.0069351957 |  0.0027032493 |  9.887630e-04 | -0.0068735688 | ...           | -9.653298e-03 | -0.0111131337 | -0.0121530613 | -0.0046621377 | -0.0011326490 |  0.0016596233 |  9.492373e-04 | -0.0096492847 | -2.565810e-03 | -0.0030806780 |\n",
       "| -0.0060077877 | -0.0009568598 |  6.797511e-03 | -0.0006297610 | -9.930496e-03 | -0.0013304903 |  0.0012224642 | -0.0016135925 | -3.441773e-03 | -0.0041584774 | ...           | -1.612960e-03 |  0.0066900563 |  0.0034994489 | -0.0069026587 | -0.0134603068 |  0.0064914709 |  1.389913e-03 | -0.0033526077 |  3.985393e-03 | -0.0022498603 |\n",
       "|  0.0023093756 |  0.0006839148 | -1.241992e-03 |  0.0036575329 | -1.877414e-03 |  0.0031724713 | -0.0051656910 | -0.0018134378 | -4.980504e-03 |  0.0017017904 | ...           |  9.878344e-04 |  0.0018957117 |  0.0039100088 | -0.0014737454 | -0.0001327634 | -0.0048445158 | -5.052211e-03 |  0.0047387246 |  8.546460e-05 |  0.0002380765 |\n",
       "|  0.0034907005 |  0.0006263570 |  1.125119e-03 |  0.0053587865 | -4.959978e-03 |  0.0049347761 | -0.0056180676 | -0.0018605396 | -6.783737e-03 |  0.0030189043 | ...           |  2.230883e-03 |  0.0064609612 |  0.0081256526 | -0.0016740857 | -0.0028727713 | -0.0022216322 | -6.133697e-03 |  0.0065068039 |  1.003084e-03 |  0.0024434361 |\n",
       "|  0.0007784613 | -0.0030449776 | -3.201920e-03 | -0.0037438575 | -3.020510e-03 | -0.0026113782 |  0.0051237633 |  0.0035935876 | -3.108160e-03 | -0.0029536543 | ...           | -6.950308e-03 | -0.0042520773 | -0.0040620652 | -0.0047884743 | -0.0022691858 |  0.0026354221 | -2.488070e-03 | -0.0030732250 |  7.066171e-05 |  0.0011845637 |\n",
       "|  0.0022759062 | -0.0059989514 | -7.427201e-03 | -0.0043316362 | -4.325514e-04 | -0.0028383799 | -0.0046181077 | -0.0029673959 | -2.298554e-03 |  0.0009586361 | ...           | -1.726123e-03 | -0.0041294151 | -0.0029028286 |  0.0033299454 |  0.0033841356 | -0.0031014650 | -6.458189e-03 | -0.0016873884 | -9.175772e-03 |  0.0022241703 |\n",
       "| -0.0074523856 | -0.0016041844 | -1.183660e-03 | -0.0050081743 | -9.168762e-04 | -0.0055691160 |  0.0004432723 | -0.0023106983 |  1.029162e-03 | -0.0061338824 | ...           | -3.984627e-03 | -0.0056274948 | -0.0071852565 | -0.0042731528 | -0.0039463331 | -0.0018724318 |  2.470581e-03 | -0.0069539390 | -7.394382e-04 | -0.0068447473 |\n",
       "|  0.0018696437 | -0.0025658270 | -4.405606e-03 | -0.0011621816 | -1.038471e-03 | -0.0005612953 | -0.0025640394 | -0.0009503332 | -3.317591e-03 |  0.0002157704 | ...           | -2.013924e-03 | -0.0024915736 | -0.0010638293 | -0.0004206652 |  0.0012376365 | -0.0030190573 | -4.876121e-03 |  0.0004269088 | -3.444450e-03 |  0.0008687299 |\n",
       "|  0.0011689056 | -0.0066812146 | -6.955193e-03 | -0.0062277994 | -1.417979e-03 | -0.0044370600 | -0.0011590348 | -0.0012804219 | -1.802763e-03 | -0.0008207951 | ...           | -4.057809e-03 | -0.0051946104 | -0.0048259811 |  0.0015723533 |  0.0015341031 | -0.0002570285 | -5.080498e-03 | -0.0041187914 | -8.171032e-03 |  0.0020989787 |\n",
       "| -0.0017090572 |  0.0049215262 |  8.288192e-06 |  0.0050959042 |  1.510829e-03 |  0.0030470145 | -0.0043711470 | -0.0016215434 | -2.971557e-03 | -0.0012070519 | ...           |  5.673211e-04 | -0.0014750310 |  0.0007109360 | -0.0048622030 |  0.0002288249 | -0.0092737164 | -9.111513e-04 |  0.0042663261 |  4.831451e-03 | -0.0059451550 |\n",
       "| ... | ... | ... | ... | ... | ... | ... | ... | ... | ... |     | ... | ... | ... | ... | ... | ... | ... | ... | ... | ... |\n",
       "| -6.028201e-03 | -0.0050973915 | -0.0064385340 | -1.082951e-02 |  0.0011576733 | -9.727085e-03 |  0.0065919419 |  1.697192e-03 |  2.523701e-03 | -0.0080861898 | ...           | -0.0098935840 | -0.0132034319 | -1.462879e-02 | -4.337511e-03 | -0.0006270904 |  5.228571e-04 |  0.0022270491 | -0.0116175025 | -0.0035615967 | -0.0050695211 |\n",
       "| -5.643206e-03 | -0.0105323056 | -0.0060204424 | -1.086219e-02 | -0.0027904421 | -9.279601e-03 | -0.0075723459 | -9.282887e-03 |  1.820188e-03 | -0.0022443684 | ...           | -0.0003141961 | -0.0037640250 | -6.320561e-03 |  6.264633e-03 | -0.0014766351 | -1.766201e-04 | -0.0029714024 | -0.0100822300 | -0.0154689250 | -0.0013776404 |\n",
       "|  1.602764e-03 |  0.0019321528 | -0.0056050965 |  1.087552e-03 |  0.0039081209 |  6.471595e-04 | -0.0001555964 |  1.953701e-03 | -2.491037e-03 | -0.0014075873 | ...           | -0.0039215389 | -0.0078096534 | -4.631859e-03 | -3.865558e-03 |  0.0049295009 | -8.344670e-03 | -0.0027743596 |  0.0020945417 |  0.0016803024 | -0.0030520808 |\n",
       "| -9.169017e-03 |  0.0007062048 |  0.0027649723 | -2.818397e-05 | -0.0021631655 | -2.144343e-03 | -0.0085969674 | -8.622861e-03 |  2.464105e-04 | -0.0034590682 | ...           |  0.0033622461 |  0.0015722613 | -8.711494e-05 | -1.692892e-03 | -0.0057987600 | -5.876474e-03 |  0.0019683321 | -0.0027249313 | -0.0010823456 | -0.0087993153 |\n",
       "| -2.473888e-03 | -0.0082391624 | -0.0047399363 | -8.172068e-03 | -0.0038361589 | -6.517699e-03 | -0.0025089044 | -4.134314e-03 | -6.051008e-04 | -0.0020642267 | ...           | -0.0028629700 | -0.0029499228 | -4.557271e-03 |  2.244442e-03 | -0.0023333074 |  2.100052e-03 | -0.0034104346 | -0.0071952431 | -0.0098327677 |  0.0007833459 |\n",
       "|  3.057284e-03 | -0.0024501873 |  0.0008048613 |  3.170455e-03 | -0.0068017523 |  3.374243e-03 | -0.0078439822 | -4.384848e-03 | -6.461242e-03 |  0.0037529177 | ...           |  0.0034695043 |  0.0082017821 |  8.865116e-03 |  1.226208e-03 | -0.0039357932 | -2.541577e-04 | -0.0072143388 |  0.0047235021 | -0.0033507316 |  0.0039946067 |\n",
       "| -2.218633e-03 | -0.0005415219 | -0.0014830963 | -6.748414e-04 | -0.0012856907 | -1.125587e-03 | -0.0022976148 | -1.894159e-03 | -2.072108e-03 | -0.0020616138 | ...           | -0.0015958797 | -0.0020177972 | -1.663332e-03 | -2.763960e-03 | -0.0017228293 | -3.406982e-03 | -0.0015314579 | -0.0009590830 | -0.0004576175 | -0.0030372012 |\n",
       "|  7.110870e-03 | -0.0022377016 | -0.0117294249 | -1.447845e-03 |  0.0055655053 | -7.464323e-05 | -0.0011013184 |  2.563389e-03 | -3.218368e-03 |  0.0016057437 | ...           | -0.0048819202 | -0.0107410700 | -6.010553e-03 |  9.287966e-04 |  0.0108825428 | -8.709263e-03 | -0.0077099009 |  0.0025828889 | -0.0050489560 |  0.0022140629 |\n",
       "|  9.563798e-05 | -0.0079689432 | -0.0071138448 | -5.821709e-03 | -0.0013290178 | -4.346315e-03 | -0.0087528141 | -7.142512e-03 | -1.184926e-03 |  0.0013130973 | ...           |  0.0008598456 | -0.0024254829 | -2.279972e-03 |  6.363874e-03 |  0.0023848127 | -3.316489e-03 | -0.0064875772 | -0.0033899246 | -0.0132271230 |  0.0015352428 |\n",
       "|  9.850210e-04 |  0.0020336444 | -0.0003649598 |  2.807965e-03 | -0.0017500349 |  2.198057e-03 |  0.0005040192 |  1.839455e-03 | -4.465957e-03 | -0.0011042907 | ...           | -0.0026548816 | -0.0006643557 |  9.325834e-04 | -5.649410e-03 | -0.0017356820 | -2.843824e-03 | -0.0024424922 |  0.0028625054 |  0.0043383306 | -0.0012495079 |\n",
       "| -1.092974e-02 | -0.0060376017 | -0.0027097982 | -1.043319e-02 | -0.0014710979 | -1.031404e-02 | -0.0017804007 | -6.266477e-03 |  3.744512e-03 | -0.0073807800 | ...           | -0.0035529637 | -0.0070325554 | -1.049952e-02 | -6.384310e-04 | -0.0047068030 | -4.346874e-04 |  0.0032053276 | -0.0125679077 | -0.0073619737 | -0.0076980261 |\n",
       "| -1.340443e-02 |  0.0002392595 |  0.0038718726 | -2.947817e-03 | -0.0025384598 | -5.258079e-03 | -0.0060891090 | -8.710686e-03 |  2.377286e-03 | -0.0067383484 | ...           |  0.0015407105 | -0.0003722155 | -3.689249e-03 | -3.498726e-03 | -0.0084943084 | -4.043550e-03 |  0.0053400842 | -0.0071700988 | -0.0003936283 | -0.0117505225 |\n",
       "| -8.844027e-03 | -0.0041970000 | -0.0031529370 | -9.487946e-03 | -0.0005998155 | -9.234988e-03 |  0.0035887385 | -1.325024e-03 |  2.759554e-03 | -0.0082471312 | ...           | -0.0070339750 | -0.0094230991 | -1.191916e-02 | -4.257378e-03 | -0.0038908715 |  4.378839e-04 |  0.0035643940 | -0.0114834502 | -0.0029328396 | -0.0069942260 |\n",
       "| -2.803744e-03 | -0.0080975873 | -0.0010199961 | -7.459195e-03 | -0.0080130025 | -5.767979e-03 |  0.0002379749 | -2.623552e-03 | -2.045965e-03 | -0.0026025298 | ...           | -0.0034912206 |  0.0012433435 | -1.573617e-03 | -2.991214e-04 | -0.0074794099 |  7.185746e-03 | -0.0026904073 | -0.0072766512 | -0.0067962950 |  0.0022410531 |\n",
       "| -1.898641e-03 |  0.0041954764 |  0.0014312804 |  2.602291e-03 | -0.0013174553 |  1.326865e-03 |  0.0044206114 |  3.910612e-03 | -3.409030e-03 | -0.0041538099 | ...           | -0.0049477098 | -0.0026134136 | -1.662140e-03 | -9.673476e-03 | -0.0038178454 | -2.243527e-03 |  0.0010246992 |  0.0010539717 |  0.0088165886 | -0.0044494634 |\n",
       "|  9.675607e-03 | -0.0019263947 | -0.0097772963 |  5.486654e-04 |  0.0026101983 |  2.201405e-03 |  0.0005795813 |  4.595796e-03 | -5.654473e-03 |  0.0029101810 | ...           | -0.0050527330 | -0.0069212435 | -2.085993e-03 | -4.039113e-04 |  0.0086117010 | -5.400295e-03 | -0.0091275082 |  0.0049420146 | -0.0027791197 |  0.0053671699 |\n",
       "|  4.135900e-03 | -0.0041969915 | -0.0051161793 | -2.613938e-03 | -0.0026774181 | -1.010264e-03 |  0.0015127654 |  2.202896e-03 | -4.379539e-03 |  0.0001723128 | ...           | -0.0048143126 | -0.0028163074 | -1.484360e-03 | -1.395926e-03 |  0.0005675890 |  1.023609e-03 | -0.0059216813 | -0.0003168643 | -0.0032369472 |  0.0040571685 |\n",
       "|  6.525243e-03 | -0.0055037488 | -0.0041112471 | -8.283101e-04 | -0.0053863530 |  1.084958e-03 | -0.0024845161 | -4.942943e-05 | -6.379657e-03 |  0.0033690476 | ...           | -0.0015412497 |  0.0025946601 |  4.004853e-03 |  1.469920e-03 | -0.0003578516 |  2.137978e-03 | -0.0089718540 |  0.0024487846 | -0.0057045668 |  0.0074644245 |\n",
       "|  9.242594e-04 | -0.0007333806 | -0.0006388307 |  1.860347e-03 | -0.0032942596 |  1.632306e-03 | -0.0045501879 | -2.362125e-03 | -4.420873e-03 |  0.0008533601 | ...           |  0.0005674527 |  0.0023702421 |  3.329406e-03 | -1.338201e-03 | -0.0020394628 | -2.613932e-03 | -0.0043704250 |  0.0025672614 | -0.0009604315 |  0.0002876259 |\n",
       "| -7.062698e-03 |  0.0020406785 |  0.0005769810 |  6.688045e-04 |  0.0004984922 | -1.360537e-03 | -0.0063694005 | -5.812388e-03 | -1.076361e-05 | -0.0034555784 | ...           |  0.0013992519 | -0.0018992349 | -2.099779e-03 | -2.880144e-03 | -0.0024700699 | -7.910915e-03 |  0.0015189372 | -0.0013899715 |  0.0005937149 | -0.0086893473 |\n",
       "|  1.142585e-03 | -0.0040101764 | -0.0048178960 | -5.970174e-03 | -0.0024068485 | -4.237210e-03 |  0.0087767404 |  6.014877e-03 | -2.580171e-03 | -0.0042391612 | ...           |  0.9900352984 | -0.0073969027 | -7.252164e-03 | -5.840423e-03 | -0.0015548159 |  4.174340e-03 | -0.0020619366 | -0.0050885697 |  0.0001291274 |  0.0016813661 |\n",
       "| -1.533001e-03 | -0.0022255001 | -0.0077721812 | -5.706391e-03 |  0.0037488249 | -5.091149e-03 |  0.0031434164 |  1.959914e-03 |  3.734200e-04 | -0.0045555562 | ...           | -0.0073969027 |  0.9876869168 | -1.102367e-02 | -3.216043e-03 |  0.0040358952 | -4.814919e-03 | -0.0008547872 | -0.0050761609 | -0.0023217896 | -0.0037738851 |\n",
       "| -6.103596e-03 | -0.0044654353 | -0.0056679241 | -9.099328e-03 |  0.0011108184 | -8.444482e-03 |  0.0030968613 | -5.499252e-04 |  2.194358e-03 | -0.0068001639 | ...           | -0.0072521642 | -0.0110236653 |  9.877660e-01 | -2.955990e-03 | -0.0004898914 | -1.332420e-03 |  0.0015875695 | -0.0098682243 | -0.0042240809 | -0.0054372336 |\n",
       "| -1.917854e-03 |  0.0015332444 |  0.0002648113 | -1.505140e-04 | -0.0022304471 | -6.415821e-04 |  0.0050105228 |  3.609731e-03 | -2.918379e-03 | -0.0043562160 | ...           | -0.0058404229 | -0.0032160429 | -2.955990e-03 |  9.917114e-01 | -0.0041074405 | -2.360747e-06 |  0.0004859986 | -0.0012780532 |  0.0058748387 | -0.0030453154 |\n",
       "| -9.294004e-03 | -0.0041151737 |  0.0049297599 | -5.215942e-03 | -0.0091561542 | -5.516410e-03 | -0.0005213685 | -4.783982e-03 | -6.582273e-04 | -0.0056283298 | ...           | -0.0015548159 |  0.0040358952 | -4.898914e-04 | -4.107440e-03 |  0.9869022921 |  6.385212e-03 |  0.0024853367 | -0.0081997709 | -0.0012484270 | -0.0039785647 |\n",
       "| -2.572368e-03 |  0.0050024477 | -0.0037669317 |  5.144042e-03 |  0.0067067329 |  2.534053e-03 | -0.0117360345 | -6.608500e-03 | -8.197564e-04 |  0.0002161728 | ...           |  0.0041743399 | -0.0048149192 | -1.332420e-03 | -2.360747e-06 |  0.0063852119 |  9.824810e-01 | -0.0018246030 |  0.0050222019 | -0.0003059671 | -0.0089570080 |\n",
       "|  6.087576e-03 | -0.0033054202 | -0.0053956587 |  9.127442e-05 | -0.0019973076 |  1.404628e-03 | -0.0023177525 |  6.252432e-04 | -5.482965e-03 |  0.0026231181 | ...           | -0.0020619366 | -0.0008547872 |  1.587570e-03 |  4.859986e-04 |  0.0024853367 | -1.824603e-03 |  0.9920691306 |  0.0031501487 | -0.0040180794 |  0.0048844079 |\n",
       "| -1.091764e-02 | -0.0082851536 | -0.0014577139 | -1.244389e-02 | -0.0049509872 | -1.154673e-02 |  0.0010002130 | -5.129006e-03 |  3.158239e-03 | -0.0079535290 | ...           | -0.0050885697 | -0.0050761609 | -9.868224e-03 | -1.278053e-03 | -0.0081997709 |  5.022202e-03 |  0.0031501487 |  0.9853372323 | -0.0077839260 | -0.0053283986 |\n",
       "| -3.839869e-03 | -0.0096157204 | -0.0055665359 | -8.942993e-03 | -0.0031614767 | -7.421053e-03 | -0.0076471282 | -8.433742e-03 |  5.216244e-04 | -0.0011003884 | ...           |  0.0001291274 | -0.0023217896 | -4.224081e-03 |  5.874839e-03 | -0.0012484270 | -3.059671e-04 | -0.0040180794 | -0.0077839260 |  0.9858397511 | -0.0001588169 |\n",
       "| -1.225927e-02 |  0.0019619625 |  0.0013877820 | -1.664572e-03 |  0.0013736474 | -4.337734e-03 | -0.0072596564 | -8.406366e-03 |  2.814435e-03 | -0.0061996271 | ...           |  0.0016813661 | -0.0037738851 | -5.437234e-03 | -3.045315e-03 | -0.0039785647 | -8.957008e-03 |  0.0048844079 | -0.0053283986 | -0.0001588169 |  0.9868583824 |\n",
       "\n"
      ],
      "text/plain": [
       "      [,1]          [,2]          [,3]          [,4]          [,5]         \n",
       " [1,]  0.9844125842 -0.0024026222  3.064232e-03 -0.0064729214 -3.024371e-03\n",
       " [2,] -0.0024026222  0.9907793004 -4.106278e-03 -0.0091856335 -5.536260e-03\n",
       " [3,]  0.0030642317 -0.0041062782  9.916146e-01 -0.0039818871  1.589553e-03\n",
       " [4,] -0.0064729214 -0.0091856335 -3.981887e-03  0.9880404686 -4.430886e-03\n",
       " [5,] -0.0030243713 -0.0055362601  1.589553e-03 -0.0044308864  9.912430e-01\n",
       " [6,] -0.0083207741 -0.0071315668 -2.577855e-03 -0.0102105957 -3.528453e-03\n",
       " [7,] -0.0064135887 -0.0005357530 -2.985479e-04  0.0017378988  4.336160e-05\n",
       " [8,] -0.0104432095 -0.0031091071  8.402525e-04 -0.0030808721 -2.273527e-03\n",
       " [9,]  0.0040294486 -0.0009321296 -2.262471e-03  0.0015480587 -3.037656e-03\n",
       "[10,] -0.0078896698 -0.0025295106 -4.303840e-04 -0.0058401622 -2.425103e-03\n",
       "[11,]  0.0072481216 -0.0047126365 -5.705370e-03 -0.0039565299 -4.198240e-03\n",
       "[12,]  0.0019795879  0.0060823362 -1.693771e-04  0.0075763323  1.287985e-03\n",
       "[13,] -0.0003519329 -0.0001268947  4.111456e-03  0.0043120088 -7.501305e-03\n",
       "[14,] -0.0073334122  0.0004062691  6.611630e-04  0.0006794714 -4.373398e-04\n",
       "[15,] -0.0089691283 -0.0058205551 -1.152906e-03 -0.0097798453 -4.075355e-03\n",
       "[16,] -0.0003517090 -0.0042746245 -6.290509e-03 -0.0030261922  8.699769e-04\n",
       "[17,]  0.0038592274  0.0054613988 -1.123067e-03  0.0089682267  1.566786e-03\n",
       "[18,] -0.0051600775 -0.0047996936 -4.759951e-03 -0.0047687718  5.600516e-04\n",
       "[19,]  0.0017606426 -0.0002215578 -4.586515e-03  0.0002649730  1.044902e-03\n",
       "[20,]  0.0032664463 -0.0078343017 -5.399576e-03 -0.0045482952 -4.605811e-03\n",
       "[21,] -0.0040259298 -0.0048078647 -5.750331e-03 -0.0093136935 -9.351884e-05\n",
       "[22,] -0.0060077877 -0.0009568598  6.797511e-03 -0.0006297610 -9.930496e-03\n",
       "[23,]  0.0023093756  0.0006839148 -1.241992e-03  0.0036575329 -1.877414e-03\n",
       "[24,]  0.0034907005  0.0006263570  1.125119e-03  0.0053587865 -4.959978e-03\n",
       "[25,]  0.0007784613 -0.0030449776 -3.201920e-03 -0.0037438575 -3.020510e-03\n",
       "[26,]  0.0022759062 -0.0059989514 -7.427201e-03 -0.0043316362 -4.325514e-04\n",
       "[27,] -0.0074523856 -0.0016041844 -1.183660e-03 -0.0050081743 -9.168762e-04\n",
       "[28,]  0.0018696437 -0.0025658270 -4.405606e-03 -0.0011621816 -1.038471e-03\n",
       "[29,]  0.0011689056 -0.0066812146 -6.955193e-03 -0.0062277994 -1.417979e-03\n",
       "[30,] -0.0017090572  0.0049215262  8.288192e-06  0.0050959042  1.510829e-03\n",
       "[31,] ...           ...           ...           ...           ...          \n",
       "[32,] -6.028201e-03 -0.0050973915 -0.0064385340 -1.082951e-02  0.0011576733\n",
       "[33,] -5.643206e-03 -0.0105323056 -0.0060204424 -1.086219e-02 -0.0027904421\n",
       "[34,]  1.602764e-03  0.0019321528 -0.0056050965  1.087552e-03  0.0039081209\n",
       "[35,] -9.169017e-03  0.0007062048  0.0027649723 -2.818397e-05 -0.0021631655\n",
       "[36,] -2.473888e-03 -0.0082391624 -0.0047399363 -8.172068e-03 -0.0038361589\n",
       "[37,]  3.057284e-03 -0.0024501873  0.0008048613  3.170455e-03 -0.0068017523\n",
       "[38,] -2.218633e-03 -0.0005415219 -0.0014830963 -6.748414e-04 -0.0012856907\n",
       "[39,]  7.110870e-03 -0.0022377016 -0.0117294249 -1.447845e-03  0.0055655053\n",
       "[40,]  9.563798e-05 -0.0079689432 -0.0071138448 -5.821709e-03 -0.0013290178\n",
       "[41,]  9.850210e-04  0.0020336444 -0.0003649598  2.807965e-03 -0.0017500349\n",
       "[42,] -1.092974e-02 -0.0060376017 -0.0027097982 -1.043319e-02 -0.0014710979\n",
       "[43,] -1.340443e-02  0.0002392595  0.0038718726 -2.947817e-03 -0.0025384598\n",
       "[44,] -8.844027e-03 -0.0041970000 -0.0031529370 -9.487946e-03 -0.0005998155\n",
       "[45,] -2.803744e-03 -0.0080975873 -0.0010199961 -7.459195e-03 -0.0080130025\n",
       "[46,] -1.898641e-03  0.0041954764  0.0014312804  2.602291e-03 -0.0013174553\n",
       "[47,]  9.675607e-03 -0.0019263947 -0.0097772963  5.486654e-04  0.0026101983\n",
       "[48,]  4.135900e-03 -0.0041969915 -0.0051161793 -2.613938e-03 -0.0026774181\n",
       "[49,]  6.525243e-03 -0.0055037488 -0.0041112471 -8.283101e-04 -0.0053863530\n",
       "[50,]  9.242594e-04 -0.0007333806 -0.0006388307  1.860347e-03 -0.0032942596\n",
       "[51,] -7.062698e-03  0.0020406785  0.0005769810  6.688045e-04  0.0004984922\n",
       "[52,]  1.142585e-03 -0.0040101764 -0.0048178960 -5.970174e-03 -0.0024068485\n",
       "[53,] -1.533001e-03 -0.0022255001 -0.0077721812 -5.706391e-03  0.0037488249\n",
       "[54,] -6.103596e-03 -0.0044654353 -0.0056679241 -9.099328e-03  0.0011108184\n",
       "[55,] -1.917854e-03  0.0015332444  0.0002648113 -1.505140e-04 -0.0022304471\n",
       "[56,] -9.294004e-03 -0.0041151737  0.0049297599 -5.215942e-03 -0.0091561542\n",
       "[57,] -2.572368e-03  0.0050024477 -0.0037669317  5.144042e-03  0.0067067329\n",
       "[58,]  6.087576e-03 -0.0033054202 -0.0053956587  9.127442e-05 -0.0019973076\n",
       "[59,] -1.091764e-02 -0.0082851536 -0.0014577139 -1.244389e-02 -0.0049509872\n",
       "[60,] -3.839869e-03 -0.0096157204 -0.0055665359 -8.942993e-03 -0.0031614767\n",
       "[61,] -1.225927e-02  0.0019619625  0.0013877820 -1.664572e-03  0.0013736474\n",
       "      [,6]          [,7]          [,8]          [,9]          [,10]        \n",
       " [1,] -0.0083207741 -0.0064135887 -0.0104432095  4.029449e-03 -0.0078896698\n",
       " [2,] -0.0071315668 -0.0005357530 -0.0031091071 -9.321296e-04 -0.0025295106\n",
       " [3,] -0.0025778550 -0.0002985479  0.0008402525 -2.262471e-03 -0.0004303840\n",
       " [4,] -0.0102105957  0.0017378988 -0.0030808721  1.548059e-03 -0.0058401622\n",
       " [5,] -0.0035284531  0.0000433616 -0.0022735273 -3.037656e-03 -0.0024251027\n",
       " [6,]  0.9905975720 -0.0003210460 -0.0046485251  2.071366e-03 -0.0061727014\n",
       " [7,] -0.0003210460  0.9822653956 -0.0138978451 -2.016378e-04  0.0010748418\n",
       " [8,] -0.0046485251 -0.0138978451  0.9863718952  1.760287e-03 -0.0023668394\n",
       " [9,]  0.0020713657 -0.0002016378  0.0017602873  9.944448e-01  0.0009470588\n",
       "[10,] -0.0061727014  0.0010748418 -0.0023668394  9.470588e-04  0.9935825917\n",
       "[11,] -0.0012208985  0.0102893460  0.0091417806 -5.939811e-03 -0.0011025440\n",
       "[12,]  0.0057331883 -0.0029653722  0.0010323141 -5.124798e-03  0.0004402071\n",
       "[13,]  0.0034803874 -0.0071671098 -0.0047420598 -5.796781e-03  0.0017912213\n",
       "[14,] -0.0013134213 -0.0115416454 -0.0098676112  2.398108e-05 -0.0016187443\n",
       "[15,] -0.0092107324  0.0027347879 -0.0025519819  1.890472e-03 -0.0075255296\n",
       "[16,] -0.0025592456 -0.0079731076 -0.0057710049 -1.195853e-03  0.0005881919\n",
       "[17,]  0.0071978536 -0.0075175953 -0.0014484429 -5.918975e-03  0.0031141326\n",
       "[18,] -0.0049123618 -0.0104493949 -0.0094663259  1.037398e-03 -0.0011828052\n",
       "[19,]  0.0003018558 -0.0015102894  0.0004084218 -3.108256e-03 -0.0004608089\n",
       "[20,] -0.0024573502 -0.0040796235 -0.0029099446 -3.855838e-03  0.0018950660\n",
       "[21,] -0.0080560057  0.0069351957  0.0027032493  9.887630e-04 -0.0068735688\n",
       "[22,] -0.0013304903  0.0012224642 -0.0016135925 -3.441773e-03 -0.0041584774\n",
       "[23,]  0.0031724713 -0.0051656910 -0.0018134378 -4.980504e-03  0.0017017904\n",
       "[24,]  0.0049347761 -0.0056180676 -0.0018605396 -6.783737e-03  0.0030189043\n",
       "[25,] -0.0026113782  0.0051237633  0.0035935876 -3.108160e-03 -0.0029536543\n",
       "[26,] -0.0028383799 -0.0046181077 -0.0029673959 -2.298554e-03  0.0009586361\n",
       "[27,] -0.0055691160  0.0004432723 -0.0023106983  1.029162e-03 -0.0061338824\n",
       "[28,] -0.0005612953 -0.0025640394 -0.0009503332 -3.317591e-03  0.0002157704\n",
       "[29,] -0.0044370600 -0.0011590348 -0.0012804219 -1.802763e-03 -0.0008207951\n",
       "[30,]  0.0030470145 -0.0043711470 -0.0016215434 -2.971557e-03 -0.0012070519\n",
       "[31,] ...           ...           ...           ...           ...          \n",
       "[32,] -9.727085e-03  0.0065919419  1.697192e-03  2.523701e-03 -0.0080861898\n",
       "[33,] -9.279601e-03 -0.0075723459 -9.282887e-03  1.820188e-03 -0.0022443684\n",
       "[34,]  6.471595e-04 -0.0001555964  1.953701e-03 -2.491037e-03 -0.0014075873\n",
       "[35,] -2.144343e-03 -0.0085969674 -8.622861e-03  2.464105e-04 -0.0034590682\n",
       "[36,] -6.517699e-03 -0.0025089044 -4.134314e-03 -6.051008e-04 -0.0020642267\n",
       "[37,]  3.374243e-03 -0.0078439822 -4.384848e-03 -6.461242e-03  0.0037529177\n",
       "[38,] -1.125587e-03 -0.0022976148 -1.894159e-03 -2.072108e-03 -0.0020616138\n",
       "[39,] -7.464323e-05 -0.0011013184  2.563389e-03 -3.218368e-03  0.0016057437\n",
       "[40,] -4.346315e-03 -0.0087528141 -7.142512e-03 -1.184926e-03  0.0013130973\n",
       "[41,]  2.198057e-03  0.0005040192  1.839455e-03 -4.465957e-03 -0.0011042907\n",
       "[42,] -1.031404e-02 -0.0017804007 -6.266477e-03  3.744512e-03 -0.0073807800\n",
       "[43,] -5.258079e-03 -0.0060891090 -8.710686e-03  2.377286e-03 -0.0067383484\n",
       "[44,] -9.234988e-03  0.0035887385 -1.325024e-03  2.759554e-03 -0.0082471312\n",
       "[45,] -5.767979e-03  0.0002379749 -2.623552e-03 -2.045965e-03 -0.0026025298\n",
       "[46,]  1.326865e-03  0.0044206114  3.910612e-03 -3.409030e-03 -0.0041538099\n",
       "[47,]  2.201405e-03  0.0005795813  4.595796e-03 -5.654473e-03  0.0029101810\n",
       "[48,] -1.010264e-03  0.0015127654  2.202896e-03 -4.379539e-03  0.0001723128\n",
       "[49,]  1.084958e-03 -0.0024845161 -4.942943e-05 -6.379657e-03  0.0033690476\n",
       "[50,]  1.632306e-03 -0.0045501879 -2.362125e-03 -4.420873e-03  0.0008533601\n",
       "[51,] -1.360537e-03 -0.0063694005 -5.812388e-03 -1.076361e-05 -0.0034555784\n",
       "[52,] -4.237210e-03  0.0087767404  6.014877e-03 -2.580171e-03 -0.0042391612\n",
       "[53,] -5.091149e-03  0.0031434164  1.959914e-03  3.734200e-04 -0.0045555562\n",
       "[54,] -8.444482e-03  0.0030968613 -5.499252e-04  2.194358e-03 -0.0068001639\n",
       "[55,] -6.415821e-04  0.0050105228  3.609731e-03 -2.918379e-03 -0.0043562160\n",
       "[56,] -5.516410e-03 -0.0005213685 -4.783982e-03 -6.582273e-04 -0.0056283298\n",
       "[57,]  2.534053e-03 -0.0117360345 -6.608500e-03 -8.197564e-04  0.0002161728\n",
       "[58,]  1.404628e-03 -0.0023177525  6.252432e-04 -5.482965e-03  0.0026231181\n",
       "[59,] -1.154673e-02  0.0010002130 -5.129006e-03  3.158239e-03 -0.0079535290\n",
       "[60,] -7.421053e-03 -0.0076471282 -8.433742e-03  5.216244e-04 -0.0011003884\n",
       "[61,] -4.337734e-03 -0.0072596564 -8.406366e-03  2.814435e-03 -0.0061996271\n",
       "      [,11] [,12]         [,13]         [,14]         [,15]        \n",
       " [1,] ...    1.142585e-03 -0.0015330011 -0.0061035961 -0.0019178536\n",
       " [2,] ...   -4.010176e-03 -0.0022255001 -0.0044654353  0.0015332444\n",
       " [3,] ...   -4.817896e-03 -0.0077721812 -0.0056679241  0.0002648113\n",
       " [4,] ...   -5.970174e-03 -0.0057063914 -0.0090993283 -0.0001505140\n",
       " [5,] ...   -2.406848e-03  0.0037488249  0.0011108184 -0.0022304471\n",
       " [6,] ...   -4.237210e-03 -0.0050911487 -0.0084444822 -0.0006415821\n",
       " [7,] ...    8.776740e-03  0.0031434164  0.0030968613  0.0050105228\n",
       " [8,] ...    6.014877e-03  0.0019599141 -0.0005499252  0.0036097312\n",
       " [9,] ...   -2.580171e-03  0.0003734200  0.0021943578 -0.0029183786\n",
       "[10,] ...   -4.239161e-03 -0.0045555562 -0.0068001639 -0.0043562160\n",
       "[11,] ...   -1.061824e-02 -0.0048654896 -0.0033373948 -0.0054949922\n",
       "[12,] ...    1.784889e-05 -0.0004386513  0.0030318592 -0.0058579902\n",
       "[13,] ...    3.828368e-03  0.0093872059  0.0091220071 -0.0015332186\n",
       "[14,] ...    4.839560e-03  0.0009839081  0.0004159568  0.0007827568\n",
       "[15,] ...   -5.848786e-03 -0.0053023225 -0.0089117103 -0.0034348939\n",
       "[16,] ...    6.925278e-04 -0.0037459355 -0.0026379406  0.0037186853\n",
       "[17,] ...    2.967513e-03  0.0015467842  0.0057877651 -0.0026122022\n",
       "[18,] ...    2.321048e-03 -0.0034052140 -0.0039267322  0.0045188390\n",
       "[19,] ...   -2.717420e-03 -0.0044941184 -0.0022555881 -0.0022136403\n",
       "[20,] ...   -1.354285e-03  0.0003347061  0.0005505732  0.0036001492\n",
       "[21,] ...   -9.653298e-03 -0.0111131337 -0.0121530613 -0.0046621377\n",
       "[22,] ...   -1.612960e-03  0.0066900563  0.0034994489 -0.0069026587\n",
       "[23,] ...    9.878344e-04  0.0018957117  0.0039100088 -0.0014737454\n",
       "[24,] ...    2.230883e-03  0.0064609612  0.0081256526 -0.0016740857\n",
       "[25,] ...   -6.950308e-03 -0.0042520773 -0.0040620652 -0.0047884743\n",
       "[26,] ...   -1.726123e-03 -0.0041294151 -0.0029028286  0.0033299454\n",
       "[27,] ...   -3.984627e-03 -0.0056274948 -0.0071852565 -0.0042731528\n",
       "[28,] ...   -2.013924e-03 -0.0024915736 -0.0010638293 -0.0004206652\n",
       "[29,] ...   -4.057809e-03 -0.0051946104 -0.0048259811  0.0015723533\n",
       "[30,] ...    5.673211e-04 -0.0014750310  0.0007109360 -0.0048622030\n",
       "[31,]       ...           ...           ...           ...          \n",
       "[32,] ...   -0.0098935840 -0.0132034319 -1.462879e-02 -4.337511e-03\n",
       "[33,] ...   -0.0003141961 -0.0037640250 -6.320561e-03  6.264633e-03\n",
       "[34,] ...   -0.0039215389 -0.0078096534 -4.631859e-03 -3.865558e-03\n",
       "[35,] ...    0.0033622461  0.0015722613 -8.711494e-05 -1.692892e-03\n",
       "[36,] ...   -0.0028629700 -0.0029499228 -4.557271e-03  2.244442e-03\n",
       "[37,] ...    0.0034695043  0.0082017821  8.865116e-03  1.226208e-03\n",
       "[38,] ...   -0.0015958797 -0.0020177972 -1.663332e-03 -2.763960e-03\n",
       "[39,] ...   -0.0048819202 -0.0107410700 -6.010553e-03  9.287966e-04\n",
       "[40,] ...    0.0008598456 -0.0024254829 -2.279972e-03  6.363874e-03\n",
       "[41,] ...   -0.0026548816 -0.0006643557  9.325834e-04 -5.649410e-03\n",
       "[42,] ...   -0.0035529637 -0.0070325554 -1.049952e-02 -6.384310e-04\n",
       "[43,] ...    0.0015407105 -0.0003722155 -3.689249e-03 -3.498726e-03\n",
       "[44,] ...   -0.0070339750 -0.0094230991 -1.191916e-02 -4.257378e-03\n",
       "[45,] ...   -0.0034912206  0.0012433435 -1.573617e-03 -2.991214e-04\n",
       "[46,] ...   -0.0049477098 -0.0026134136 -1.662140e-03 -9.673476e-03\n",
       "[47,] ...   -0.0050527330 -0.0069212435 -2.085993e-03 -4.039113e-04\n",
       "[48,] ...   -0.0048143126 -0.0028163074 -1.484360e-03 -1.395926e-03\n",
       "[49,] ...   -0.0015412497  0.0025946601  4.004853e-03  1.469920e-03\n",
       "[50,] ...    0.0005674527  0.0023702421  3.329406e-03 -1.338201e-03\n",
       "[51,] ...    0.0013992519 -0.0018992349 -2.099779e-03 -2.880144e-03\n",
       "[52,] ...    0.9900352984 -0.0073969027 -7.252164e-03 -5.840423e-03\n",
       "[53,] ...   -0.0073969027  0.9876869168 -1.102367e-02 -3.216043e-03\n",
       "[54,] ...   -0.0072521642 -0.0110236653  9.877660e-01 -2.955990e-03\n",
       "[55,] ...   -0.0058404229 -0.0032160429 -2.955990e-03  9.917114e-01\n",
       "[56,] ...   -0.0015548159  0.0040358952 -4.898914e-04 -4.107440e-03\n",
       "[57,] ...    0.0041743399 -0.0048149192 -1.332420e-03 -2.360747e-06\n",
       "[58,] ...   -0.0020619366 -0.0008547872  1.587570e-03  4.859986e-04\n",
       "[59,] ...   -0.0050885697 -0.0050761609 -9.868224e-03 -1.278053e-03\n",
       "[60,] ...    0.0001291274 -0.0023217896 -4.224081e-03  5.874839e-03\n",
       "[61,] ...    0.0016813661 -0.0037738851 -5.437234e-03 -3.045315e-03\n",
       "      [,16]         [,17]         [,18]         [,19]         [,20]        \n",
       " [1,] -0.0092940037 -0.0025723676  6.087576e-03 -0.0109176371 -3.839869e-03\n",
       " [2,] -0.0041151737  0.0050024477 -3.305420e-03 -0.0082851536 -9.615720e-03\n",
       " [3,]  0.0049297599 -0.0037669317 -5.395659e-03 -0.0014577139 -5.566536e-03\n",
       " [4,] -0.0052159422  0.0051440423  9.127442e-05 -0.0124438917 -8.942993e-03\n",
       " [5,] -0.0091561542  0.0067067329 -1.997308e-03 -0.0049509872 -3.161477e-03\n",
       " [6,] -0.0055164105  0.0025340531  1.404628e-03 -0.0115467308 -7.421053e-03\n",
       " [7,] -0.0005213685 -0.0117360345 -2.317752e-03  0.0010002130 -7.647128e-03\n",
       " [8,] -0.0047839825 -0.0066085003  6.252432e-04 -0.0051290057 -8.433742e-03\n",
       " [9,] -0.0006582273 -0.0008197564 -5.482965e-03  0.0031582394  5.216244e-04\n",
       "[10,] -0.0056283298  0.0002161728  2.623118e-03 -0.0079535290 -1.100388e-03\n",
       "[11,] -0.0004422061  0.0066606648 -6.134624e-03 -0.0011363104  4.545006e-04\n",
       "[12,]  0.0013159332 -0.0090027886 -2.824333e-03  0.0076569376  7.024088e-03\n",
       "[13,] -0.0071938449 -0.0001779546 -4.184463e-03  0.0040832221  3.816827e-04\n",
       "[14,] -0.0025329416 -0.0087691711  1.223971e-05 -0.0009608962 -3.478309e-03\n",
       "[15,] -0.0072020889  0.0039321314  2.878940e-03 -0.0118462111 -4.107960e-03\n",
       "[16,]  0.0033877934 -0.0065256897 -4.984782e-03 -0.0013123265 -8.805222e-03\n",
       "[17,]  0.0032939727 -0.0111783909 -5.346964e-03  0.0100991520  4.064801e-03\n",
       "[18,]  0.0010882121 -0.0070428726 -2.434108e-03 -0.0044910984 -1.038787e-02\n",
       "[19,]  0.0026546899 -0.0054334753 -3.873948e-03  0.0015117974 -6.675862e-04\n",
       "[20,] -0.0002405670  0.0017456514 -7.656982e-03 -0.0017069317 -9.769821e-03\n",
       "[21,] -0.0011326490  0.0016596233  9.492373e-04 -0.0096492847 -2.565810e-03\n",
       "[22,] -0.0134603068  0.0064914709  1.389913e-03 -0.0033526077  3.985393e-03\n",
       "[23,] -0.0001327634 -0.0048445158 -5.052211e-03  0.0047387246  8.546460e-05\n",
       "[24,] -0.0028727713 -0.0022216322 -6.133697e-03  0.0065068039  1.003084e-03\n",
       "[25,] -0.0022691858  0.0026354221 -2.488070e-03 -0.0030732250  7.066171e-05\n",
       "[26,]  0.0033841356 -0.0031014650 -6.458189e-03 -0.0016873884 -9.175772e-03\n",
       "[27,] -0.0039463331 -0.0018724318  2.470581e-03 -0.0069539390 -7.394382e-04\n",
       "[28,]  0.0012376365 -0.0030190573 -4.876121e-03  0.0004269088 -3.444450e-03\n",
       "[29,]  0.0015341031 -0.0002570285 -5.080498e-03 -0.0041187914 -8.171032e-03\n",
       "[30,]  0.0002288249 -0.0092737164 -9.111513e-04  0.0042663261  4.831451e-03\n",
       "[31,] ...           ...           ...           ...           ...          \n",
       "[32,] -0.0006270904  5.228571e-04  0.0022270491 -0.0116175025 -0.0035615967\n",
       "[33,] -0.0014766351 -1.766201e-04 -0.0029714024 -0.0100822300 -0.0154689250\n",
       "[34,]  0.0049295009 -8.344670e-03 -0.0027743596  0.0020945417  0.0016803024\n",
       "[35,] -0.0057987600 -5.876474e-03  0.0019683321 -0.0027249313 -0.0010823456\n",
       "[36,] -0.0023333074  2.100052e-03 -0.0034104346 -0.0071952431 -0.0098327677\n",
       "[37,] -0.0039357932 -2.541577e-04 -0.0072143388  0.0047235021 -0.0033507316\n",
       "[38,] -0.0017228293 -3.406982e-03 -0.0015314579 -0.0009590830 -0.0004576175\n",
       "[39,]  0.0108825428 -8.709263e-03 -0.0077099009  0.0025828889 -0.0050489560\n",
       "[40,]  0.0023848127 -3.316489e-03 -0.0064875772 -0.0033899246 -0.0132271230\n",
       "[41,] -0.0017356820 -2.843824e-03 -0.0024424922  0.0028625054  0.0043383306\n",
       "[42,] -0.0047068030 -4.346874e-04  0.0032053276 -0.0125679077 -0.0073619737\n",
       "[43,] -0.0084943084 -4.043550e-03  0.0053400842 -0.0071700988 -0.0003936283\n",
       "[44,] -0.0038908715  4.378839e-04  0.0035643940 -0.0114834502 -0.0029328396\n",
       "[45,] -0.0074794099  7.185746e-03 -0.0026904073 -0.0072766512 -0.0067962950\n",
       "[46,] -0.0038178454 -2.243527e-03  0.0010246992  0.0010539717  0.0088165886\n",
       "[47,]  0.0086117010 -5.400295e-03 -0.0091275082  0.0049420146 -0.0027791197\n",
       "[48,]  0.0005675890  1.023609e-03 -0.0059216813 -0.0003168643 -0.0032369472\n",
       "[49,] -0.0003578516  2.137978e-03 -0.0089718540  0.0024487846 -0.0057045668\n",
       "[50,] -0.0020394628 -2.613932e-03 -0.0043704250  0.0025672614 -0.0009604315\n",
       "[51,] -0.0024700699 -7.910915e-03  0.0015189372 -0.0013899715  0.0005937149\n",
       "[52,] -0.0015548159  4.174340e-03 -0.0020619366 -0.0050885697  0.0001291274\n",
       "[53,]  0.0040358952 -4.814919e-03 -0.0008547872 -0.0050761609 -0.0023217896\n",
       "[54,] -0.0004898914 -1.332420e-03  0.0015875695 -0.0098682243 -0.0042240809\n",
       "[55,] -0.0041074405 -2.360747e-06  0.0004859986 -0.0012780532  0.0058748387\n",
       "[56,]  0.9869022921  6.385212e-03  0.0024853367 -0.0081997709 -0.0012484270\n",
       "[57,]  0.0063852119  9.824810e-01 -0.0018246030  0.0050222019 -0.0003059671\n",
       "[58,]  0.0024853367 -1.824603e-03  0.9920691306  0.0031501487 -0.0040180794\n",
       "[59,] -0.0081997709  5.022202e-03  0.0031501487  0.9853372323 -0.0077839260\n",
       "[60,] -0.0012484270 -3.059671e-04 -0.0040180794 -0.0077839260  0.9858397511\n",
       "[61,] -0.0039785647 -8.957008e-03  0.0048844079 -0.0053283986 -0.0001588169\n",
       "      [,21]        \n",
       " [1,] -0.0122592724\n",
       " [2,]  0.0019619625\n",
       " [3,]  0.0013877820\n",
       " [4,] -0.0016645721\n",
       " [5,]  0.0013736474\n",
       " [6,] -0.0043377342\n",
       " [7,] -0.0072596564\n",
       " [8,] -0.0084063657\n",
       " [9,]  0.0028144345\n",
       "[10,] -0.0061996271\n",
       "[11,]  0.0075436970\n",
       "[12,] -0.0033578520\n",
       "[13,]  0.0007037234\n",
       "[14,] -0.0080086882\n",
       "[15,] -0.0050622663\n",
       "[16,] -0.0011311499\n",
       "[17,] -0.0018540548\n",
       "[18,] -0.0046564879\n",
       "[19,] -0.0009533751\n",
       "[20,]  0.0054374653\n",
       "[21,] -0.0030806780\n",
       "[22,] -0.0022498603\n",
       "[23,]  0.0002380765\n",
       "[24,]  0.0024434361\n",
       "[25,]  0.0011845637\n",
       "[26,]  0.0022241703\n",
       "[27,] -0.0068447473\n",
       "[28,]  0.0008687299\n",
       "[29,]  0.0020989787\n",
       "[30,] -0.0059451550\n",
       "[31,] ...          \n",
       "[32,] -0.0050695211\n",
       "[33,] -0.0013776404\n",
       "[34,] -0.0030520808\n",
       "[35,] -0.0087993153\n",
       "[36,]  0.0007833459\n",
       "[37,]  0.0039946067\n",
       "[38,] -0.0030372012\n",
       "[39,]  0.0022140629\n",
       "[40,]  0.0015352428\n",
       "[41,] -0.0012495079\n",
       "[42,] -0.0076980261\n",
       "[43,] -0.0117505225\n",
       "[44,] -0.0069942260\n",
       "[45,]  0.0022410531\n",
       "[46,] -0.0044494634\n",
       "[47,]  0.0053671699\n",
       "[48,]  0.0040571685\n",
       "[49,]  0.0074644245\n",
       "[50,]  0.0002876259\n",
       "[51,] -0.0086893473\n",
       "[52,]  0.0016813661\n",
       "[53,] -0.0037738851\n",
       "[54,] -0.0054372336\n",
       "[55,] -0.0030453154\n",
       "[56,] -0.0039785647\n",
       "[57,] -0.0089570080\n",
       "[58,]  0.0048844079\n",
       "[59,] -0.0053283986\n",
       "[60,] -0.0001588169\n",
       "[61,]  0.9868583824"
      ]
     },
     "metadata": {},
     "output_type": "display_data"
    }
   ],
   "source": [
    "M = I-X %*% solve(t(X) %*% X) %*% t(X)\n",
    "M"
   ]
  }
 ],
 "metadata": {
  "kernelspec": {
   "display_name": "R",
   "language": "R",
   "name": "ir"
  },
  "language_info": {
   "codemirror_mode": "r",
   "file_extension": ".r",
   "mimetype": "text/x-r-source",
   "name": "R",
   "pygments_lexer": "r",
   "version": "3.6.1"
  }
 },
 "nbformat": 4,
 "nbformat_minor": 5
}
