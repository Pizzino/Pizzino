{
 "cells": [
  {
   "cell_type": "markdown",
   "id": "34fe105e",
   "metadata": {},
   "source": [
    "## Grupo 5 - WH5 - R\n",
    "### Integrantes\n",
    "- Anggie Quispe \n",
    "- Jeanfrank Rojo \n",
    "- Sebastian Pizzino "
   ]
  },
  {
   "cell_type": "code",
   "execution_count": 28,
   "id": "97c20d58",
   "metadata": {},
   "outputs": [
    {
     "name": "stderr",
     "output_type": "stream",
     "text": [
      "Warning message:\n",
      "\"unable to access index for repository https://cran.r-project.org/src/contrib:\n",
      "  no fue posible abrir la URL 'https://cran.r-project.org/src/contrib/PACKAGES'\"Warning message:\n",
      "\"unable to access index for repository http://www.stats.ox.ac.uk/pub/RWin/src/contrib:\n",
      "  no fue posible abrir la URL 'http://www.stats.ox.ac.uk/pub/RWin/src/contrib/PACKAGES'\"Warning message:\n",
      "\"package 'tidyverse' is not available (for R version 3.6.1)\"Warning message:\n",
      "\"unable to access index for repository https://cran.r-project.org/bin/windows/contrib/3.6:\n",
      "  no fue posible abrir la URL 'https://cran.r-project.org/bin/windows/contrib/3.6/PACKAGES'\"Warning message:\n",
      "\"unable to access index for repository http://www.stats.ox.ac.uk/pub/RWin/bin/windows/contrib/3.6:\n",
      "  no fue posible abrir la URL 'http://www.stats.ox.ac.uk/pub/RWin/bin/windows/contrib/3.6/PACKAGES'\"Warning message:\n",
      "\"'BiocManager' not available.  Could not check Bioconductor.\n",
      "\n",
      "Please use `install.packages('BiocManager')` and then retry.\"\n",
      "tidyverse installed\n",
      "Warning message:\n",
      "\"package 'tidyverse' was built under R version 3.6.3\"Warning message:\n",
      "\"unable to access index for repository https://cran.r-project.org/src/contrib:\n",
      "  no fue posible abrir la URL 'https://cran.r-project.org/src/contrib/PACKAGES'\"Warning message:\n",
      "\"unable to access index for repository http://www.stats.ox.ac.uk/pub/RWin/src/contrib:\n",
      "  no fue posible abrir la URL 'http://www.stats.ox.ac.uk/pub/RWin/src/contrib/PACKAGES'\"Warning message:\n",
      "\"package 'devtools' is not available (for R version 3.6.1)\"Warning message:\n",
      "\"unable to access index for repository https://cran.r-project.org/bin/windows/contrib/3.6:\n",
      "  no fue posible abrir la URL 'https://cran.r-project.org/bin/windows/contrib/3.6/PACKAGES'\"Warning message:\n",
      "\"unable to access index for repository http://www.stats.ox.ac.uk/pub/RWin/bin/windows/contrib/3.6:\n",
      "  no fue posible abrir la URL 'http://www.stats.ox.ac.uk/pub/RWin/bin/windows/contrib/3.6/PACKAGES'\"Warning message:\n",
      "\"'BiocManager' not available.  Could not check Bioconductor.\n",
      "\n",
      "Please use `install.packages('BiocManager')` and then retry.\"Warning message in p_install(package, character.only = TRUE, ...):\n",
      "\"\"Warning message in library(package, lib.loc = lib.loc, character.only = TRUE, logical.return = TRUE, :\n",
      "\"there is no package called 'devtools'\"Warning message in pacman::p_load(tidyverse, haven, dplyr, foreign, glue, devtools):\n",
      "\"Failed to install/load:\n",
      "tidyverse, devtools\""
     ]
    }
   ],
   "source": [
    "pacman::p_load(tidyverse, haven, dplyr, foreign,glue, devtools)\n",
    "library(foreign)\n",
    "library(haven)\n",
    "library(glue)"
   ]
  },
  {
   "cell_type": "markdown",
   "id": "02e81e6d",
   "metadata": {},
   "source": [
    "# Replicando Script\n"
   ]
  },
  {
   "cell_type": "code",
   "execution_count": 29,
   "id": "bcc33dc3",
   "metadata": {},
   "outputs": [],
   "source": [
    "col1 <- c('CASEID', 'V000', 'V001', 'V002', 'V003', 'V004', 'V008', 'V009', 'V010', 'V011', 'V012', 'V024', 'V102', 'V120', 'V121', 'V122', 'V123', 'V124', 'V125', 'V127', 'V133')\n",
    "col2 <- c('CASEID', 'V201', 'V218', 'V301', 'V302', 'V323', 'V323A', 'V325A', 'V326', 'V327', 'V337', 'V359', 'V360', 'V361', 'V362', 'V363', 'V364', 'V367', 'V372', 'V372A', 'V375A', 'V376', 'V376A', 'V379', 'V380') \n",
    "col3 <- c('CASEID', 'V501', 'V502', 'V503', 'V504', 'V505', 'V506', 'V507', 'V508', 'V509', 'V510', 'V511', 'V512', 'V513', 'V525', 'V613', 'V714', 'V715')"
   ]
  },
  {
   "cell_type": "code",
   "execution_count": 30,
   "id": "878305c9",
   "metadata": {},
   "outputs": [
    {
     "ename": "ERROR",
     "evalue": "Error in parse(text = x, srcfile = src): <text>:33:0: unexpected end of input\n31:    \n32:  \n   ^\n",
     "output_type": "error",
     "traceback": [
      "Error in parse(text = x, srcfile = src): <text>:33:0: unexpected end of input\n31:    \n32:  \n   ^\nTraceback:\n"
     ]
    }
   ],
   "source": [
    "all_data_ta <-{}\n",
    "# REC0111 información básica de la mujer\n",
    "# REC223132 Información módulos de salud \n",
    "# RE51617 información dela pareja \n",
    "\n",
    "# 15-45 años \n",
    "\n",
    "year<- 2015:2019\n",
    "for (i in year){\n",
    "    print (i) \n",
    "    \n",
    "# read REC0111 data\n",
    "    endes1 <- read.spss( glue('C:/Users/USER/Documents/GitHub/1ECO35_R_PYTHON/data/Endes/{i}/REC0111.sav'), to.data.frame=TRUE)\n",
    "    assign( glue('{i}'), endes1)  \n",
    "    # Filtering columns\n",
    "    # Selected columns\n",
    "    endes1_1 <- endes1[ , col1 ]\n",
    "    # generate the year column\n",
    "    endes1_1$year <- i\n",
    "    # variables labels\n",
    "    var_labels  <- names(endes1_1)\n",
    "    \n",
    "    # variables keys\n",
    "    var_labels_keys <- keys(endes1_1)\n",
    "    \n",
    "    # Values labels\n",
    "    value_labels <- metadata.valueLabels.copy()\n",
    "    # Values keys\n",
    "    value_labels_keys <- value_labels.keys()\n",
    "\n",
    "   \n",
    " "
   ]
  },
  {
   "cell_type": "code",
   "execution_count": null,
   "id": "8b4bc2ec",
   "metadata": {},
   "outputs": [],
   "source": [
    " # Filtered variables\n",
    "    new_var_labels1 <- {}\n",
    "    new_value_labels1 <- {}\n",
    "    # New variable and value labels\n",
    "    for key in endes1_1.columns:\n",
    "\n",
    "        if key in var_labels_keys:\n",
    "            new_var_labels1[ f'{key}' ] <- var_labels[ f'{key}' ]\n",
    "\n",
    "        if key in value_labels_keys:\n",
    "            new_value_labels1[ f'{key}' ] <- value_labels[ f'{key}' ]\n",
    "    \n",
    "    # update Year of the survey to the dictionary\n",
    "    new_var_labels1$year <- \"Year of the survey\""
   ]
  },
  {
   "cell_type": "code",
   "execution_count": null,
   "id": "f65ba18d",
   "metadata": {},
   "outputs": [],
   "source": [
    "# read RE223132 data \n",
    "     endes2 <- read.spss( glue('C:/Users/USER/Documents/GitHub/1ECO35_R_PYTHON/data/Endes/{i}/RE223132.sav'), to.data.frame=TRUE)\n",
    "     assign( glue('{i}'), endes2) \n",
    "    \n",
    "    # Filtering columns\n",
    "    # new pandas with selected columns\n",
    "    endes2_1 <- endes2[ , col2 ]\n",
    "    # generate the year column\n",
    "    endes2_1$year <- i\n",
    "    \n",
    "    # variables labels\n",
    "    var_labels  <- names(endes2_1)\n",
    "    \n",
    "# read RE516171 data    \n",
    "     endes3 <- read.spss( glue('C:/Users/USER/Documents/GitHub/1ECO35_R_PYTHON/data/Endes/{i}/RE516171.sav'), to.data.frame=TRUE)\n",
    "     assign( glue('{i}'), endes3) \n",
    "    \n",
    "    # Filtering columns\n",
    "    # new pandas with selected columns\n",
    "    endes3_1 <- endes3[ , col3 ]\n",
    "    # generate the year column\n",
    "    endes3_1$year <- i\n",
    "    \n",
    "    # variables labels\n",
    "    var_labels  <- names(endes3_1)\n",
    "    \n",
    "# Merging data\n",
    "    merge1 <- merge( endes1_1, endes2_1, by = c(\"CASEID\"), all.x = TRUE)\n",
    "    endes <- merge( merge1, endes3_1, by = c(\"CASEID\"), all.x = TRUE)\n",
    "    \n",
    "    assign( glue('endes_{i}'), endes)\n",
    "\n",
    "# Concatenate all var labels\n",
    "    new_var_labels1.update( new_var_labels2 )\n",
    "    new_var_labels1.update( new_var_labels3 )\n",
    "    var_labels <- new_var_labels1.copy()\n",
    "\n",
    "    \n",
    "# Store all values\n",
    "    store_values <- {\"data\" : endes , \n",
    "                      \"var_labels\" : var_labels, \n",
    "                      \"value_labels\" : value_labels\n",
    "                    }\n",
    "    all_data_ta[ f'year_{year}'] <- store_values\n",
    "}\n"
   ]
  },
  {
   "cell_type": "code",
   "execution_count": null,
   "id": "62552e62",
   "metadata": {},
   "outputs": [],
   "source": [
    "all_data_ta"
   ]
  },
  {
   "cell_type": "markdown",
   "id": "5965d3fd",
   "metadata": {},
   "source": [
    "# Limpieza de datos ENAHO"
   ]
  },
  {
   "cell_type": "code",
   "execution_count": 31,
   "id": "007a560e",
   "metadata": {},
   "outputs": [
    {
     "name": "stderr",
     "output_type": "stream",
     "text": [
      "Warning message:\n",
      "\"unable to access index for repository https://cran.r-project.org/src/contrib:\n",
      "  no fue posible abrir la URL 'https://cran.r-project.org/src/contrib/PACKAGES'\"Warning message:\n",
      "\"unable to access index for repository http://www.stats.ox.ac.uk/pub/RWin/src/contrib:\n",
      "  no fue posible abrir la URL 'http://www.stats.ox.ac.uk/pub/RWin/src/contrib/PACKAGES'\"Warning message:\n",
      "\"package 'tidyverse' is not available (for R version 3.6.1)\"Warning message:\n",
      "\"unable to access index for repository https://cran.r-project.org/bin/windows/contrib/3.6:\n",
      "  no fue posible abrir la URL 'https://cran.r-project.org/bin/windows/contrib/3.6/PACKAGES'\"Warning message:\n",
      "\"unable to access index for repository http://www.stats.ox.ac.uk/pub/RWin/bin/windows/contrib/3.6:\n",
      "  no fue posible abrir la URL 'http://www.stats.ox.ac.uk/pub/RWin/bin/windows/contrib/3.6/PACKAGES'\"Warning message:\n",
      "\"'BiocManager' not available.  Could not check Bioconductor.\n",
      "\n",
      "Please use `install.packages('BiocManager')` and then retry.\"\n",
      "tidyverse installed\n",
      "Warning message:\n",
      "\"package 'tidyverse' was built under R version 3.6.3\"Warning message:\n",
      "\"unable to access index for repository https://cran.r-project.org/src/contrib:\n",
      "  no fue posible abrir la URL 'https://cran.r-project.org/src/contrib/PACKAGES'\"Warning message:\n",
      "\"unable to access index for repository http://www.stats.ox.ac.uk/pub/RWin/src/contrib:\n",
      "  no fue posible abrir la URL 'http://www.stats.ox.ac.uk/pub/RWin/src/contrib/PACKAGES'\"Warning message:\n",
      "\"package 'devtools' is not available (for R version 3.6.1)\"Warning message:\n",
      "\"unable to access index for repository https://cran.r-project.org/bin/windows/contrib/3.6:\n",
      "  no fue posible abrir la URL 'https://cran.r-project.org/bin/windows/contrib/3.6/PACKAGES'\"Warning message:\n",
      "\"unable to access index for repository http://www.stats.ox.ac.uk/pub/RWin/bin/windows/contrib/3.6:\n",
      "  no fue posible abrir la URL 'http://www.stats.ox.ac.uk/pub/RWin/bin/windows/contrib/3.6/PACKAGES'\"Warning message:\n",
      "\"'BiocManager' not available.  Could not check Bioconductor.\n",
      "\n",
      "Please use `install.packages('BiocManager')` and then retry.\"Warning message in p_install(package, character.only = TRUE, ...):\n",
      "\"\"Warning message in library(package, lib.loc = lib.loc, character.only = TRUE, logical.return = TRUE, :\n",
      "\"there is no package called 'devtools'\"Warning message in pacman::p_load(tidyverse, haven, dplyr, foreign, glue, devtools, :\n",
      "\"Failed to install/load:\n",
      "tidyverse, devtools\""
     ]
    },
    {
     "ename": "ERROR",
     "evalue": "Error in library(readstata13): there is no package called 'readstata13'\n",
     "output_type": "error",
     "traceback": [
      "Error in library(readstata13): there is no package called 'readstata13'\nTraceback:\n",
      "1. library(readstata13)"
     ]
    }
   ],
   "source": [
    "#install.packages('readstata13')\n",
    "\n",
    "pacman::p_load(tidyverse, haven, dplyr, foreign,glue, devtools, expss)\n",
    "\n",
    "library(readstata13)\n",
    "\n",
    "library(tidyr)  # RE for R\n",
    "#library(dplyr)\n",
    "#library(foreign)\n"
   ]
  },
  {
   "cell_type": "code",
   "execution_count": 32,
   "id": "b2f7e1cb",
   "metadata": {},
   "outputs": [
    {
     "ename": "ERROR",
     "evalue": "Error: '../../data/Juntos_program/data.dta' does not exist in current working directory ('C:/Users/USER/Documents').\n",
     "output_type": "error",
     "traceback": [
      "Error: '../../data/Juntos_program/data.dta' does not exist in current working directory ('C:/Users/USER/Documents').\nTraceback:\n",
      "1. read_dta(\"../../data/Juntos_program/data.dta\", encoding = \"latin1\")",
      "2. readr::datasource(file)",
      "3. standardise_path(file)",
      "4. check_path(path)",
      "5. stop(\"'\", path, \"' does not exist\", if (!is_absolute_path(path)) paste0(\" in current working directory ('\", \n .     getwd(), \"')\"), \".\", call. = FALSE)"
     ]
    }
   ],
   "source": [
    "#Data ENAHO PANEL 2015-2019\n",
    "data1 <- read_dta(\"../../data/Juntos_program/data.dta\", encoding = \"latin1\")\n",
    "#Data Programa Juntos\n",
    "data2 <- read_dta(\"../../data/Juntos_program/unidos.dta\", encoding = \"latin1\")"
   ]
  },
  {
   "cell_type": "code",
   "execution_count": 33,
   "id": "65d18694",
   "metadata": {},
   "outputs": [
    {
     "ename": "ERROR",
     "evalue": "Error in eval(expr, envir, enclos): objeto 'data1' no encontrado\n",
     "output_type": "error",
     "traceback": [
      "Error in eval(expr, envir, enclos): objeto 'data1' no encontrado\nTraceback:\n"
     ]
    }
   ],
   "source": [
    "names(data1)"
   ]
  },
  {
   "cell_type": "code",
   "execution_count": 34,
   "id": "e43cf57f",
   "metadata": {},
   "outputs": [
    {
     "ename": "ERROR",
     "evalue": "Error in head(data1): objeto 'data1' no encontrado\n",
     "output_type": "error",
     "traceback": [
      "Error in head(data1): objeto 'data1' no encontrado\nTraceback:\n",
      "1. head(data1)"
     ]
    }
   ],
   "source": [
    "head(data1)"
   ]
  },
  {
   "cell_type": "code",
   "execution_count": 5,
   "id": "1b68c11d",
   "metadata": {},
   "outputs": [
    {
     "data": {
      "text/html": [
       "<table>\n",
       "<thead><tr><th scope=col>ubigeo</th><th scope=col>distrito</th><th scope=col>provincia</th><th scope=col>region</th><th scope=col>unidos</th></tr></thead>\n",
       "<tbody>\n",
       "\t<tr><td>10101      </td><td>Chachapoyas</td><td>Chachapoyas</td><td>Amazonas   </td><td>1          </td></tr>\n",
       "\t<tr><td>10102      </td><td>Asuncion   </td><td>Chachapoyas</td><td>Amazonas   </td><td>1          </td></tr>\n",
       "\t<tr><td>10103      </td><td>Balsas     </td><td>Chachapoyas</td><td>Amazonas   </td><td>0          </td></tr>\n",
       "\t<tr><td>10104      </td><td>Cheto      </td><td>Chachapoyas</td><td>Amazonas   </td><td>1          </td></tr>\n",
       "\t<tr><td>10105      </td><td>Chiliquin  </td><td>Chachapoyas</td><td>Amazonas   </td><td>0          </td></tr>\n",
       "\t<tr><td>10106      </td><td>Chuquibamba</td><td>Chachapoyas</td><td>Amazonas   </td><td>1          </td></tr>\n",
       "</tbody>\n",
       "</table>\n"
      ],
      "text/latex": [
       "\\begin{tabular}{r|lllll}\n",
       " ubigeo & distrito & provincia & region & unidos\\\\\n",
       "\\hline\n",
       "\t 10101       & Chachapoyas & Chachapoyas & Amazonas    & 1          \\\\\n",
       "\t 10102       & Asuncion    & Chachapoyas & Amazonas    & 1          \\\\\n",
       "\t 10103       & Balsas      & Chachapoyas & Amazonas    & 0          \\\\\n",
       "\t 10104       & Cheto       & Chachapoyas & Amazonas    & 1          \\\\\n",
       "\t 10105       & Chiliquin   & Chachapoyas & Amazonas    & 0          \\\\\n",
       "\t 10106       & Chuquibamba & Chachapoyas & Amazonas    & 1          \\\\\n",
       "\\end{tabular}\n"
      ],
      "text/markdown": [
       "\n",
       "| ubigeo | distrito | provincia | region | unidos |\n",
       "|---|---|---|---|---|\n",
       "| 10101       | Chachapoyas | Chachapoyas | Amazonas    | 1           |\n",
       "| 10102       | Asuncion    | Chachapoyas | Amazonas    | 1           |\n",
       "| 10103       | Balsas      | Chachapoyas | Amazonas    | 0           |\n",
       "| 10104       | Cheto       | Chachapoyas | Amazonas    | 1           |\n",
       "| 10105       | Chiliquin   | Chachapoyas | Amazonas    | 0           |\n",
       "| 10106       | Chuquibamba | Chachapoyas | Amazonas    | 1           |\n",
       "\n"
      ],
      "text/plain": [
       "  ubigeo distrito    provincia   region   unidos\n",
       "1 10101  Chachapoyas Chachapoyas Amazonas 1     \n",
       "2 10102  Asuncion    Chachapoyas Amazonas 1     \n",
       "3 10103  Balsas      Chachapoyas Amazonas 0     \n",
       "4 10104  Cheto       Chachapoyas Amazonas 1     \n",
       "5 10105  Chiliquin   Chachapoyas Amazonas 0     \n",
       "6 10106  Chuquibamba Chachapoyas Amazonas 1     "
      ]
     },
     "metadata": {},
     "output_type": "display_data"
    }
   ],
   "source": [
    "head(data2)"
   ]
  },
  {
   "cell_type": "code",
   "execution_count": null,
   "id": "e07d2900",
   "metadata": {},
   "outputs": [],
   "source": [
    "str(data1)"
   ]
  },
  {
   "cell_type": "code",
   "execution_count": null,
   "id": "40192dbb",
   "metadata": {},
   "outputs": [],
   "source": [
    "str(data2)"
   ]
  },
  {
   "cell_type": "code",
   "execution_count": null,
   "id": "133ba2a5",
   "metadata": {},
   "outputs": [],
   "source": []
  },
  {
   "cell_type": "markdown",
   "id": "b4f3ab1f",
   "metadata": {},
   "source": [
    "### Replicación Clean DHS"
   ]
  },
  {
   "cell_type": "code",
   "execution_count": 6,
   "id": "ca94ff75",
   "metadata": {},
   "outputs": [
    {
     "name": "stdout",
     "output_type": "stream",
     "text": [
      "[1] \"numper\"\n",
      "[1] \"numpanh15\"\n",
      "[1] \"numpanh16\"\n",
      "[1] \"numpanh17\"\n",
      "[1] \"numpanh18\"\n",
      "[1] \"numpanh19\"\n",
      "[1] \"mes15\"\n",
      "[1] \"ubigeo15\"\n",
      "[1] \"dominio15\"\n",
      "[1] \"p400a315\"\n",
      "[1] \"p402215\"\n",
      "[1] \"mes16\"\n",
      "[1] \"ubigeo16\"\n",
      "[1] \"dominio16\"\n",
      "[1] \"p400a316\"\n",
      "[1] \"p402216\"\n",
      "[1] \"mes17\"\n",
      "[1] \"ubigeo17\"\n",
      "[1] \"dominio17\"\n",
      "[1] \"p400a317\"\n",
      "[1] \"p402217\"\n",
      "[1] \"mes18\"\n",
      "[1] \"ubigeo18\"\n",
      "[1] \"dominio18\"\n",
      "[1] \"p400a318\"\n",
      "[1] \"p402218\"\n",
      "[1] \"mes19\"\n",
      "[1] \"ubigeo19\"\n",
      "[1] \"dominio19\"\n",
      "[1] \"p400a319\"\n",
      "[1] \"p402219\"\n"
     ]
    }
   ],
   "source": [
    "#le quitamos los espacios de las variables data1\n",
    "names <- names(data1)\n",
    "filter_list <- c()\n",
    "\n",
    "for (i in 1:length(names)){\n",
    "        w <-  gsub('[/_]','', names[i])\n",
    "        filter_list[i] <- w\n",
    "        print(w)    \n",
    "}\n"
   ]
  },
  {
   "cell_type": "code",
   "execution_count": 7,
   "id": "8f089343",
   "metadata": {},
   "outputs": [
    {
     "data": {
      "text/html": [
       "<ol class=list-inline>\n",
       "\t<li>'numper'</li>\n",
       "\t<li>'numpanh15'</li>\n",
       "\t<li>'numpanh16'</li>\n",
       "\t<li>'numpanh17'</li>\n",
       "\t<li>'numpanh18'</li>\n",
       "\t<li>'numpanh19'</li>\n",
       "\t<li>'mes15'</li>\n",
       "\t<li>'ubigeo15'</li>\n",
       "\t<li>'dominio15'</li>\n",
       "\t<li>'p400a315'</li>\n",
       "\t<li>'p402215'</li>\n",
       "\t<li>'mes16'</li>\n",
       "\t<li>'ubigeo16'</li>\n",
       "\t<li>'dominio16'</li>\n",
       "\t<li>'p400a316'</li>\n",
       "\t<li>'p402216'</li>\n",
       "\t<li>'mes17'</li>\n",
       "\t<li>'ubigeo17'</li>\n",
       "\t<li>'dominio17'</li>\n",
       "\t<li>'p400a317'</li>\n",
       "\t<li>'p402217'</li>\n",
       "\t<li>'mes18'</li>\n",
       "\t<li>'ubigeo18'</li>\n",
       "\t<li>'dominio18'</li>\n",
       "\t<li>'p400a318'</li>\n",
       "\t<li>'p402218'</li>\n",
       "\t<li>'mes19'</li>\n",
       "\t<li>'ubigeo19'</li>\n",
       "\t<li>'dominio19'</li>\n",
       "\t<li>'p400a319'</li>\n",
       "\t<li>'p402219'</li>\n",
       "</ol>\n"
      ],
      "text/latex": [
       "\\begin{enumerate*}\n",
       "\\item 'numper'\n",
       "\\item 'numpanh15'\n",
       "\\item 'numpanh16'\n",
       "\\item 'numpanh17'\n",
       "\\item 'numpanh18'\n",
       "\\item 'numpanh19'\n",
       "\\item 'mes15'\n",
       "\\item 'ubigeo15'\n",
       "\\item 'dominio15'\n",
       "\\item 'p400a315'\n",
       "\\item 'p402215'\n",
       "\\item 'mes16'\n",
       "\\item 'ubigeo16'\n",
       "\\item 'dominio16'\n",
       "\\item 'p400a316'\n",
       "\\item 'p402216'\n",
       "\\item 'mes17'\n",
       "\\item 'ubigeo17'\n",
       "\\item 'dominio17'\n",
       "\\item 'p400a317'\n",
       "\\item 'p402217'\n",
       "\\item 'mes18'\n",
       "\\item 'ubigeo18'\n",
       "\\item 'dominio18'\n",
       "\\item 'p400a318'\n",
       "\\item 'p402218'\n",
       "\\item 'mes19'\n",
       "\\item 'ubigeo19'\n",
       "\\item 'dominio19'\n",
       "\\item 'p400a319'\n",
       "\\item 'p402219'\n",
       "\\end{enumerate*}\n"
      ],
      "text/markdown": [
       "1. 'numper'\n",
       "2. 'numpanh15'\n",
       "3. 'numpanh16'\n",
       "4. 'numpanh17'\n",
       "5. 'numpanh18'\n",
       "6. 'numpanh19'\n",
       "7. 'mes15'\n",
       "8. 'ubigeo15'\n",
       "9. 'dominio15'\n",
       "10. 'p400a315'\n",
       "11. 'p402215'\n",
       "12. 'mes16'\n",
       "13. 'ubigeo16'\n",
       "14. 'dominio16'\n",
       "15. 'p400a316'\n",
       "16. 'p402216'\n",
       "17. 'mes17'\n",
       "18. 'ubigeo17'\n",
       "19. 'dominio17'\n",
       "20. 'p400a317'\n",
       "21. 'p402217'\n",
       "22. 'mes18'\n",
       "23. 'ubigeo18'\n",
       "24. 'dominio18'\n",
       "25. 'p400a318'\n",
       "26. 'p402218'\n",
       "27. 'mes19'\n",
       "28. 'ubigeo19'\n",
       "29. 'dominio19'\n",
       "30. 'p400a319'\n",
       "31. 'p402219'\n",
       "\n",
       "\n"
      ],
      "text/plain": [
       " [1] \"numper\"    \"numpanh15\" \"numpanh16\" \"numpanh17\" \"numpanh18\" \"numpanh19\"\n",
       " [7] \"mes15\"     \"ubigeo15\"  \"dominio15\" \"p400a315\"  \"p402215\"   \"mes16\"    \n",
       "[13] \"ubigeo16\"  \"dominio16\" \"p400a316\"  \"p402216\"   \"mes17\"     \"ubigeo17\" \n",
       "[19] \"dominio17\" \"p400a317\"  \"p402217\"   \"mes18\"     \"ubigeo18\"  \"dominio18\"\n",
       "[25] \"p400a318\"  \"p402218\"   \"mes19\"     \"ubigeo19\"  \"dominio19\" \"p400a319\" \n",
       "[31] \"p402219\"  "
      ]
     },
     "metadata": {},
     "output_type": "display_data"
    }
   ],
   "source": [
    "#estamos filtrando la lista\n",
    "names(data1) <- filter_list\n",
    "names(data1)"
   ]
  },
  {
   "cell_type": "markdown",
   "id": "5b73461b",
   "metadata": {},
   "source": [
    "#### Data ENAHO Panel"
   ]
  },
  {
   "cell_type": "code",
   "execution_count": 7,
   "id": "b2fbc620",
   "metadata": {},
   "outputs": [
    {
     "data": {
      "text/html": [
       "<style>\n",
       ".list-inline {list-style: none; margin:0; padding: 0}\n",
       ".list-inline>li {display: inline-block}\n",
       ".list-inline>li:not(:last-child)::after {content: \"\\00b7\"; padding: 0 .5ex}\n",
       "</style>\n",
       "<ol class=list-inline><li>'numpanh15'</li><li>'mes_15'</li><li>'ubigeo_15'</li><li>'dominio_15'</li><li>'p400a3_15'</li><li>'p4022_15'</li></ol>\n"
      ],
      "text/latex": [
       "\\begin{enumerate*}\n",
       "\\item 'numpanh15'\n",
       "\\item 'mes\\_15'\n",
       "\\item 'ubigeo\\_15'\n",
       "\\item 'dominio\\_15'\n",
       "\\item 'p400a3\\_15'\n",
       "\\item 'p4022\\_15'\n",
       "\\end{enumerate*}\n"
      ],
      "text/markdown": [
       "1. 'numpanh15'\n",
       "2. 'mes_15'\n",
       "3. 'ubigeo_15'\n",
       "4. 'dominio_15'\n",
       "5. 'p400a3_15'\n",
       "6. 'p4022_15'\n",
       "\n",
       "\n"
      ],
      "text/plain": [
       "[1] \"numpanh15\"  \"mes_15\"     \"ubigeo_15\"  \"dominio_15\" \"p400a3_15\" \n",
       "[6] \"p4022_15\"  "
      ]
     },
     "metadata": {},
     "output_type": "display_data"
    }
   ],
   "source": [
    "year <- c(\"15\",\"16\",\"17\",\"18\",\"19\")\n",
    "names(data1)[grepl(year[1],names(data1))]"
   ]
  },
  {
   "cell_type": "code",
   "execution_count": null,
   "id": "82881429",
   "metadata": {},
   "outputs": [],
   "source": []
  },
  {
   "cell_type": "code",
   "execution_count": null,
   "id": "d4bec360",
   "metadata": {},
   "outputs": [],
   "source": []
  },
  {
   "cell_type": "code",
   "execution_count": null,
   "id": "c51de69e",
   "metadata": {},
   "outputs": [],
   "source": []
  },
  {
   "cell_type": "code",
   "execution_count": null,
   "id": "72bb0993",
   "metadata": {},
   "outputs": [],
   "source": []
  },
  {
   "cell_type": "code",
   "execution_count": null,
   "id": "f7dc91c1",
   "metadata": {},
   "outputs": [],
   "source": []
  },
  {
   "cell_type": "code",
   "execution_count": null,
   "id": "f3d08be0",
   "metadata": {},
   "outputs": [],
   "source": []
  }
 ],
 "metadata": {
  "kernelspec": {
   "display_name": "R",
   "language": "R",
   "name": "ir"
  },
  "language_info": {
   "codemirror_mode": "r",
   "file_extension": ".r",
   "mimetype": "text/x-r-source",
   "name": "R",
   "pygments_lexer": "r",
   "version": "3.6.1"
  }
 },
 "nbformat": 4,
 "nbformat_minor": 5
}
